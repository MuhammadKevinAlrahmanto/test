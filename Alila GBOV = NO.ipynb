{
 "cells": [
  {
   "cell_type": "markdown",
   "id": "bf5290c6",
   "metadata": {},
   "source": [
    "<div class=\"alert-info\">\n",
    "<font color='blue'>\n",
    "<h1 align=\"center\">\n",
    "Part 1"
   ]
  },
  {
   "cell_type": "code",
   "execution_count": 1,
   "id": "aee16674",
   "metadata": {},
   "outputs": [],
   "source": [
    "library(pacman)\n",
    "p_load(readxl, fBasics, tidyverse, ltm, ggmirt, ggsankey, apaTables,plot3D,writexl, FSA, DandEFA,rempsyc,\n",
    "       factoextra, dendextend, magick, animation,installr)\n",
    "library(pacman)\n",
    "pacman::p_load(dplyr, tidyr, forcats, ggplot2, ggpubr, seminr, jtools,randomForest,tree, gbm, ISLR, metan,MASS,writexl,\n",
    "               repr, psych, psy, polycor, Gifi, eRm, MPsychoR, mice, performance, MVN, gtheory,lavaan,\n",
    "               corrplot, ggstance,rstatix, haven, magrittr, lessR, gridExtra, cowplot, ggsci, likert, finalfit,semTools)"
   ]
  },
  {
   "cell_type": "code",
   "execution_count": 2,
   "id": "54a3b4aa",
   "metadata": {},
   "outputs": [],
   "source": [
    "Kurtosis <- function(x)kurtosis(x)[1]"
   ]
  },
  {
   "cell_type": "code",
   "execution_count": 3,
   "id": "70797601",
   "metadata": {},
   "outputs": [
    {
     "data": {
      "text/html": [
       "<style>\n",
       ".list-inline {list-style: none; margin:0; padding: 0}\n",
       ".list-inline>li {display: inline-block}\n",
       ".list-inline>li:not(:last-child)::after {content: \"\\00b7\"; padding: 0 .5ex}\n",
       "</style>\n",
       "<ol class=list-inline><li>'ID'</li><li>'Sex'</li><li>'Age'</li><li>'Education_Level'</li><li>'Marital_Status'</li><li>'Employment_Status'</li><li>'Monthly_Income'</li><li>'SME_01'</li><li>'SME_02_Facebook'</li><li>'SME_02_Instagram'</li><li>'SME_02_Twitter'</li><li>'SME_02_TikTok'</li><li>'SME_02_Youtube'</li><li>'SME_02_Snapchat'</li><li>'SME_02_WhatsApp'</li><li>'SME_02_Telegram'</li><li>'SME_03_Facebook'</li><li>'SME_03_Instagram'</li><li>'SME_03_Twitter'</li><li>'SME_03_TikTok'</li><li>'SME_03_Youtube'</li><li>'SME_03_Snapchat'</li><li>'SME_03_WhatsApp'</li><li>'SME_03_Telegram'</li><li>'SME_04'</li><li>'SME_05'</li><li>'SME_06'</li><li>'SME_07'</li><li>'SME_08'</li><li>'SME_09'</li><li>'SU_01'</li><li>'SU_02'</li><li>'SU_03'</li><li>'SU_04'</li><li>'SU_05'</li><li>'CU_06'</li><li>'CU_07'</li><li>'CU_08'</li><li>'CU_09'</li><li>'CU_10'</li><li>'HU_11'</li><li>'HU_12'</li><li>'HU_13'</li><li>'HU_14'</li><li>'Ext_1'</li><li>'Agr_1_R'</li><li>'Con_1'</li><li>'Neu_1'</li><li>'Ope_1'</li><li>'Ext_2_R'</li><li>'Agr_2'</li><li>'Con_2_R'</li><li>'Neu_2_R'</li><li>'Ope_2'</li><li>'Ext_3'</li><li>'Agr_3_R'</li><li>'Con_3'</li><li>'Neu_3'</li><li>'Ope_3'</li><li>'Ext_4'</li><li>'Agr_4'</li><li>'Con_4_R'</li><li>'Neu_4'</li><li>'Ope_4'</li><li>'Ext_5_R'</li><li>'Agr_5'</li><li>'Con_5_R'</li><li>'Neu_5_R'</li><li>'Ope_5'</li><li>'Ext_6'</li><li>'Agr_6_R'</li><li>'Con_6'</li><li>'Neu_6'</li><li>'Ope_6'</li><li>'Ext_7_R'</li><li>'Agr_7'</li><li>'Con_7'</li><li>'Neu_7_R'</li><li>'Ope_7_R'</li><li>'Ext_8'</li><li>'Agr_8_R'</li><li>'Con_8'</li><li>'Neu_8'</li><li>'Ope_8'</li><li>'Ope_9_R'</li><li>'Agr_9'</li><li>'Con_9_R'</li><li>'Ope_10'</li><li>'GBOV'</li><li>'QOL_01'</li><li>'QOL_02'</li><li>'QOL_03'</li><li>'QOL_04'</li><li>'QOL_05'</li><li>'QOL_06'</li><li>'QOL_07'</li><li>'QOL_08'</li><li>'QOL_09'</li><li>'QOL_10'</li><li>'QOL_11'</li><li>'QOL_12'</li><li>'QOL_13'</li><li>'QOL_14'</li><li>'QOL_15'</li><li>'QOL_16'</li></ol>\n"
      ],
      "text/latex": [
       "\\begin{enumerate*}\n",
       "\\item 'ID'\n",
       "\\item 'Sex'\n",
       "\\item 'Age'\n",
       "\\item 'Education\\_Level'\n",
       "\\item 'Marital\\_Status'\n",
       "\\item 'Employment\\_Status'\n",
       "\\item 'Monthly\\_Income'\n",
       "\\item 'SME\\_01'\n",
       "\\item 'SME\\_02\\_Facebook'\n",
       "\\item 'SME\\_02\\_Instagram'\n",
       "\\item 'SME\\_02\\_Twitter'\n",
       "\\item 'SME\\_02\\_TikTok'\n",
       "\\item 'SME\\_02\\_Youtube'\n",
       "\\item 'SME\\_02\\_Snapchat'\n",
       "\\item 'SME\\_02\\_WhatsApp'\n",
       "\\item 'SME\\_02\\_Telegram'\n",
       "\\item 'SME\\_03\\_Facebook'\n",
       "\\item 'SME\\_03\\_Instagram'\n",
       "\\item 'SME\\_03\\_Twitter'\n",
       "\\item 'SME\\_03\\_TikTok'\n",
       "\\item 'SME\\_03\\_Youtube'\n",
       "\\item 'SME\\_03\\_Snapchat'\n",
       "\\item 'SME\\_03\\_WhatsApp'\n",
       "\\item 'SME\\_03\\_Telegram'\n",
       "\\item 'SME\\_04'\n",
       "\\item 'SME\\_05'\n",
       "\\item 'SME\\_06'\n",
       "\\item 'SME\\_07'\n",
       "\\item 'SME\\_08'\n",
       "\\item 'SME\\_09'\n",
       "\\item 'SU\\_01'\n",
       "\\item 'SU\\_02'\n",
       "\\item 'SU\\_03'\n",
       "\\item 'SU\\_04'\n",
       "\\item 'SU\\_05'\n",
       "\\item 'CU\\_06'\n",
       "\\item 'CU\\_07'\n",
       "\\item 'CU\\_08'\n",
       "\\item 'CU\\_09'\n",
       "\\item 'CU\\_10'\n",
       "\\item 'HU\\_11'\n",
       "\\item 'HU\\_12'\n",
       "\\item 'HU\\_13'\n",
       "\\item 'HU\\_14'\n",
       "\\item 'Ext\\_1'\n",
       "\\item 'Agr\\_1\\_R'\n",
       "\\item 'Con\\_1'\n",
       "\\item 'Neu\\_1'\n",
       "\\item 'Ope\\_1'\n",
       "\\item 'Ext\\_2\\_R'\n",
       "\\item 'Agr\\_2'\n",
       "\\item 'Con\\_2\\_R'\n",
       "\\item 'Neu\\_2\\_R'\n",
       "\\item 'Ope\\_2'\n",
       "\\item 'Ext\\_3'\n",
       "\\item 'Agr\\_3\\_R'\n",
       "\\item 'Con\\_3'\n",
       "\\item 'Neu\\_3'\n",
       "\\item 'Ope\\_3'\n",
       "\\item 'Ext\\_4'\n",
       "\\item 'Agr\\_4'\n",
       "\\item 'Con\\_4\\_R'\n",
       "\\item 'Neu\\_4'\n",
       "\\item 'Ope\\_4'\n",
       "\\item 'Ext\\_5\\_R'\n",
       "\\item 'Agr\\_5'\n",
       "\\item 'Con\\_5\\_R'\n",
       "\\item 'Neu\\_5\\_R'\n",
       "\\item 'Ope\\_5'\n",
       "\\item 'Ext\\_6'\n",
       "\\item 'Agr\\_6\\_R'\n",
       "\\item 'Con\\_6'\n",
       "\\item 'Neu\\_6'\n",
       "\\item 'Ope\\_6'\n",
       "\\item 'Ext\\_7\\_R'\n",
       "\\item 'Agr\\_7'\n",
       "\\item 'Con\\_7'\n",
       "\\item 'Neu\\_7\\_R'\n",
       "\\item 'Ope\\_7\\_R'\n",
       "\\item 'Ext\\_8'\n",
       "\\item 'Agr\\_8\\_R'\n",
       "\\item 'Con\\_8'\n",
       "\\item 'Neu\\_8'\n",
       "\\item 'Ope\\_8'\n",
       "\\item 'Ope\\_9\\_R'\n",
       "\\item 'Agr\\_9'\n",
       "\\item 'Con\\_9\\_R'\n",
       "\\item 'Ope\\_10'\n",
       "\\item 'GBOV'\n",
       "\\item 'QOL\\_01'\n",
       "\\item 'QOL\\_02'\n",
       "\\item 'QOL\\_03'\n",
       "\\item 'QOL\\_04'\n",
       "\\item 'QOL\\_05'\n",
       "\\item 'QOL\\_06'\n",
       "\\item 'QOL\\_07'\n",
       "\\item 'QOL\\_08'\n",
       "\\item 'QOL\\_09'\n",
       "\\item 'QOL\\_10'\n",
       "\\item 'QOL\\_11'\n",
       "\\item 'QOL\\_12'\n",
       "\\item 'QOL\\_13'\n",
       "\\item 'QOL\\_14'\n",
       "\\item 'QOL\\_15'\n",
       "\\item 'QOL\\_16'\n",
       "\\end{enumerate*}\n"
      ],
      "text/markdown": [
       "1. 'ID'\n",
       "2. 'Sex'\n",
       "3. 'Age'\n",
       "4. 'Education_Level'\n",
       "5. 'Marital_Status'\n",
       "6. 'Employment_Status'\n",
       "7. 'Monthly_Income'\n",
       "8. 'SME_01'\n",
       "9. 'SME_02_Facebook'\n",
       "10. 'SME_02_Instagram'\n",
       "11. 'SME_02_Twitter'\n",
       "12. 'SME_02_TikTok'\n",
       "13. 'SME_02_Youtube'\n",
       "14. 'SME_02_Snapchat'\n",
       "15. 'SME_02_WhatsApp'\n",
       "16. 'SME_02_Telegram'\n",
       "17. 'SME_03_Facebook'\n",
       "18. 'SME_03_Instagram'\n",
       "19. 'SME_03_Twitter'\n",
       "20. 'SME_03_TikTok'\n",
       "21. 'SME_03_Youtube'\n",
       "22. 'SME_03_Snapchat'\n",
       "23. 'SME_03_WhatsApp'\n",
       "24. 'SME_03_Telegram'\n",
       "25. 'SME_04'\n",
       "26. 'SME_05'\n",
       "27. 'SME_06'\n",
       "28. 'SME_07'\n",
       "29. 'SME_08'\n",
       "30. 'SME_09'\n",
       "31. 'SU_01'\n",
       "32. 'SU_02'\n",
       "33. 'SU_03'\n",
       "34. 'SU_04'\n",
       "35. 'SU_05'\n",
       "36. 'CU_06'\n",
       "37. 'CU_07'\n",
       "38. 'CU_08'\n",
       "39. 'CU_09'\n",
       "40. 'CU_10'\n",
       "41. 'HU_11'\n",
       "42. 'HU_12'\n",
       "43. 'HU_13'\n",
       "44. 'HU_14'\n",
       "45. 'Ext_1'\n",
       "46. 'Agr_1_R'\n",
       "47. 'Con_1'\n",
       "48. 'Neu_1'\n",
       "49. 'Ope_1'\n",
       "50. 'Ext_2_R'\n",
       "51. 'Agr_2'\n",
       "52. 'Con_2_R'\n",
       "53. 'Neu_2_R'\n",
       "54. 'Ope_2'\n",
       "55. 'Ext_3'\n",
       "56. 'Agr_3_R'\n",
       "57. 'Con_3'\n",
       "58. 'Neu_3'\n",
       "59. 'Ope_3'\n",
       "60. 'Ext_4'\n",
       "61. 'Agr_4'\n",
       "62. 'Con_4_R'\n",
       "63. 'Neu_4'\n",
       "64. 'Ope_4'\n",
       "65. 'Ext_5_R'\n",
       "66. 'Agr_5'\n",
       "67. 'Con_5_R'\n",
       "68. 'Neu_5_R'\n",
       "69. 'Ope_5'\n",
       "70. 'Ext_6'\n",
       "71. 'Agr_6_R'\n",
       "72. 'Con_6'\n",
       "73. 'Neu_6'\n",
       "74. 'Ope_6'\n",
       "75. 'Ext_7_R'\n",
       "76. 'Agr_7'\n",
       "77. 'Con_7'\n",
       "78. 'Neu_7_R'\n",
       "79. 'Ope_7_R'\n",
       "80. 'Ext_8'\n",
       "81. 'Agr_8_R'\n",
       "82. 'Con_8'\n",
       "83. 'Neu_8'\n",
       "84. 'Ope_8'\n",
       "85. 'Ope_9_R'\n",
       "86. 'Agr_9'\n",
       "87. 'Con_9_R'\n",
       "88. 'Ope_10'\n",
       "89. 'GBOV'\n",
       "90. 'QOL_01'\n",
       "91. 'QOL_02'\n",
       "92. 'QOL_03'\n",
       "93. 'QOL_04'\n",
       "94. 'QOL_05'\n",
       "95. 'QOL_06'\n",
       "96. 'QOL_07'\n",
       "97. 'QOL_08'\n",
       "98. 'QOL_09'\n",
       "99. 'QOL_10'\n",
       "100. 'QOL_11'\n",
       "101. 'QOL_12'\n",
       "102. 'QOL_13'\n",
       "103. 'QOL_14'\n",
       "104. 'QOL_15'\n",
       "105. 'QOL_16'\n",
       "\n",
       "\n"
      ],
      "text/plain": [
       "  [1] \"ID\"                \"Sex\"               \"Age\"              \n",
       "  [4] \"Education_Level\"   \"Marital_Status\"    \"Employment_Status\"\n",
       "  [7] \"Monthly_Income\"    \"SME_01\"            \"SME_02_Facebook\"  \n",
       " [10] \"SME_02_Instagram\"  \"SME_02_Twitter\"    \"SME_02_TikTok\"    \n",
       " [13] \"SME_02_Youtube\"    \"SME_02_Snapchat\"   \"SME_02_WhatsApp\"  \n",
       " [16] \"SME_02_Telegram\"   \"SME_03_Facebook\"   \"SME_03_Instagram\" \n",
       " [19] \"SME_03_Twitter\"    \"SME_03_TikTok\"     \"SME_03_Youtube\"   \n",
       " [22] \"SME_03_Snapchat\"   \"SME_03_WhatsApp\"   \"SME_03_Telegram\"  \n",
       " [25] \"SME_04\"            \"SME_05\"            \"SME_06\"           \n",
       " [28] \"SME_07\"            \"SME_08\"            \"SME_09\"           \n",
       " [31] \"SU_01\"             \"SU_02\"             \"SU_03\"            \n",
       " [34] \"SU_04\"             \"SU_05\"             \"CU_06\"            \n",
       " [37] \"CU_07\"             \"CU_08\"             \"CU_09\"            \n",
       " [40] \"CU_10\"             \"HU_11\"             \"HU_12\"            \n",
       " [43] \"HU_13\"             \"HU_14\"             \"Ext_1\"            \n",
       " [46] \"Agr_1_R\"           \"Con_1\"             \"Neu_1\"            \n",
       " [49] \"Ope_1\"             \"Ext_2_R\"           \"Agr_2\"            \n",
       " [52] \"Con_2_R\"           \"Neu_2_R\"           \"Ope_2\"            \n",
       " [55] \"Ext_3\"             \"Agr_3_R\"           \"Con_3\"            \n",
       " [58] \"Neu_3\"             \"Ope_3\"             \"Ext_4\"            \n",
       " [61] \"Agr_4\"             \"Con_4_R\"           \"Neu_4\"            \n",
       " [64] \"Ope_4\"             \"Ext_5_R\"           \"Agr_5\"            \n",
       " [67] \"Con_5_R\"           \"Neu_5_R\"           \"Ope_5\"            \n",
       " [70] \"Ext_6\"             \"Agr_6_R\"           \"Con_6\"            \n",
       " [73] \"Neu_6\"             \"Ope_6\"             \"Ext_7_R\"          \n",
       " [76] \"Agr_7\"             \"Con_7\"             \"Neu_7_R\"          \n",
       " [79] \"Ope_7_R\"           \"Ext_8\"             \"Agr_8_R\"          \n",
       " [82] \"Con_8\"             \"Neu_8\"             \"Ope_8\"            \n",
       " [85] \"Ope_9_R\"           \"Agr_9\"             \"Con_9_R\"          \n",
       " [88] \"Ope_10\"            \"GBOV\"              \"QOL_01\"           \n",
       " [91] \"QOL_02\"            \"QOL_03\"            \"QOL_04\"           \n",
       " [94] \"QOL_05\"            \"QOL_06\"            \"QOL_07\"           \n",
       " [97] \"QOL_08\"            \"QOL_09\"            \"QOL_10\"           \n",
       "[100] \"QOL_11\"            \"QOL_12\"            \"QOL_13\"           \n",
       "[103] \"QOL_14\"            \"QOL_15\"            \"QOL_16\"           "
      ]
     },
     "metadata": {},
     "output_type": "display_data"
    }
   ],
   "source": [
    "Alila <- read_excel('GBOV_NO_ALILA.xlsx')\n",
    "Alila <- as.data.frame(unclass(Alila), stringsAsFactors = T)\n",
    "names(Alila)  "
   ]
  },
  {
   "cell_type": "raw",
   "id": "edc08245",
   "metadata": {},
   "source": [
    "Alila  %>% str"
   ]
  },
  {
   "cell_type": "markdown",
   "id": "b2628c2b",
   "metadata": {},
   "source": [
    "# 1. The Variables"
   ]
  },
  {
   "cell_type": "markdown",
   "id": "c898e4b3",
   "metadata": {},
   "source": [
    "## 1.1. BFI"
   ]
  },
  {
   "cell_type": "code",
   "execution_count": 4,
   "id": "cc208235",
   "metadata": {},
   "outputs": [],
   "source": [
    "BFI <- Alila[, grep('Ext|Agr|Con|Neu|Ope', names(Alila))]"
   ]
  },
  {
   "attachments": {
    "image.png": {
     "image/png": "[encoded data removed]"
    }
   },
   "cell_type": "markdown",
   "id": "e7835494",
   "metadata": {},
   "source": [
    "![image.png](attachment:image.png)"
   ]
  },
  {
   "cell_type": "code",
   "execution_count": 5,
   "id": "20c18a18",
   "metadata": {},
   "outputs": [
    {
     "data": {
      "text/html": [
       "<style>\n",
       ".list-inline {list-style: none; margin:0; padding: 0}\n",
       ".list-inline>li {display: inline-block}\n",
       ".list-inline>li:not(:last-child)::after {content: \"\\00b7\"; padding: 0 .5ex}\n",
       "</style>\n",
       "<ol class=list-inline><li>2</li><li>6</li><li>8</li><li>9</li><li>12</li><li>18</li><li>21</li><li>23</li><li>24</li><li>27</li><li>31</li><li>34</li><li>35</li><li>37</li><li>41</li><li>43</li></ol>\n"
      ],
      "text/latex": [
       "\\begin{enumerate*}\n",
       "\\item 2\n",
       "\\item 6\n",
       "\\item 8\n",
       "\\item 9\n",
       "\\item 12\n",
       "\\item 18\n",
       "\\item 21\n",
       "\\item 23\n",
       "\\item 24\n",
       "\\item 27\n",
       "\\item 31\n",
       "\\item 34\n",
       "\\item 35\n",
       "\\item 37\n",
       "\\item 41\n",
       "\\item 43\n",
       "\\end{enumerate*}\n"
      ],
      "text/markdown": [
       "1. 2\n",
       "2. 6\n",
       "3. 8\n",
       "4. 9\n",
       "5. 12\n",
       "6. 18\n",
       "7. 21\n",
       "8. 23\n",
       "9. 24\n",
       "10. 27\n",
       "11. 31\n",
       "12. 34\n",
       "13. 35\n",
       "14. 37\n",
       "15. 41\n",
       "16. 43\n",
       "\n",
       "\n"
      ],
      "text/plain": [
       " [1]  2  6  8  9 12 18 21 23 24 27 31 34 35 37 41 43"
      ]
     },
     "metadata": {},
     "output_type": "display_data"
    },
    {
     "data": {
      "text/html": [
       "<table class=\"dataframe\">\n",
       "<caption>A data.frame: 6 × 16</caption>\n",
       "<thead>\n",
       "\t<tr><th></th><th scope=col>Agr_1_R</th><th scope=col>Ext_2_R</th><th scope=col>Con_2_R</th><th scope=col>Neu_2_R</th><th scope=col>Agr_3_R</th><th scope=col>Con_4_R</th><th scope=col>Ext_5_R</th><th scope=col>Con_5_R</th><th scope=col>Neu_5_R</th><th scope=col>Agr_6_R</th><th scope=col>Ext_7_R</th><th scope=col>Neu_7_R</th><th scope=col>Ope_7_R</th><th scope=col>Agr_8_R</th><th scope=col>Ope_9_R</th><th scope=col>Con_9_R</th></tr>\n",
       "\t<tr><th></th><th scope=col>&lt;dbl&gt;</th><th scope=col>&lt;dbl&gt;</th><th scope=col>&lt;dbl&gt;</th><th scope=col>&lt;dbl&gt;</th><th scope=col>&lt;dbl&gt;</th><th scope=col>&lt;dbl&gt;</th><th scope=col>&lt;dbl&gt;</th><th scope=col>&lt;dbl&gt;</th><th scope=col>&lt;dbl&gt;</th><th scope=col>&lt;dbl&gt;</th><th scope=col>&lt;dbl&gt;</th><th scope=col>&lt;dbl&gt;</th><th scope=col>&lt;dbl&gt;</th><th scope=col>&lt;dbl&gt;</th><th scope=col>&lt;dbl&gt;</th><th scope=col>&lt;dbl&gt;</th></tr>\n",
       "</thead>\n",
       "<tbody>\n",
       "\t<tr><th scope=row>1</th><td>1</td><td>2</td><td>5</td><td>5</td><td>1</td><td>1</td><td>2</td><td>4</td><td>5</td><td>5</td><td>3</td><td>5</td><td>3</td><td>2</td><td>2</td><td>2</td></tr>\n",
       "\t<tr><th scope=row>2</th><td>2</td><td>3</td><td>5</td><td>4</td><td>1</td><td>5</td><td>4</td><td>3</td><td>2</td><td>5</td><td>4</td><td>3</td><td>5</td><td>1</td><td>4</td><td>4</td></tr>\n",
       "\t<tr><th scope=row>3</th><td>2</td><td>3</td><td>1</td><td>3</td><td>2</td><td>3</td><td>3</td><td>3</td><td>3</td><td>2</td><td>1</td><td>3</td><td>1</td><td>2</td><td>3</td><td>3</td></tr>\n",
       "\t<tr><th scope=row>4</th><td>1</td><td>4</td><td>4</td><td>4</td><td>1</td><td>4</td><td>5</td><td>3</td><td>4</td><td>4</td><td>6</td><td>4</td><td>4</td><td>1</td><td>3</td><td>3</td></tr>\n",
       "\t<tr><th scope=row>5</th><td>2</td><td>4</td><td>6</td><td>6</td><td>1</td><td>3</td><td>4</td><td>1</td><td>3</td><td>4</td><td>4</td><td>3</td><td>6</td><td>1</td><td>6</td><td>3</td></tr>\n",
       "\t<tr><th scope=row>6</th><td>1</td><td>4</td><td>6</td><td>4</td><td>4</td><td>4</td><td>2</td><td>3</td><td>3</td><td>5</td><td>4</td><td>5</td><td>5</td><td>6</td><td>4</td><td>4</td></tr>\n",
       "</tbody>\n",
       "</table>\n"
      ],
      "text/latex": [
       "A data.frame: 6 × 16\n",
       "\\begin{tabular}{r|llllllllllllllll}\n",
       "  & Agr\\_1\\_R & Ext\\_2\\_R & Con\\_2\\_R & Neu\\_2\\_R & Agr\\_3\\_R & Con\\_4\\_R & Ext\\_5\\_R & Con\\_5\\_R & Neu\\_5\\_R & Agr\\_6\\_R & Ext\\_7\\_R & Neu\\_7\\_R & Ope\\_7\\_R & Agr\\_8\\_R & Ope\\_9\\_R & Con\\_9\\_R\\\\\n",
       "  & <dbl> & <dbl> & <dbl> & <dbl> & <dbl> & <dbl> & <dbl> & <dbl> & <dbl> & <dbl> & <dbl> & <dbl> & <dbl> & <dbl> & <dbl> & <dbl>\\\\\n",
       "\\hline\n",
       "\t1 & 1 & 2 & 5 & 5 & 1 & 1 & 2 & 4 & 5 & 5 & 3 & 5 & 3 & 2 & 2 & 2\\\\\n",
       "\t2 & 2 & 3 & 5 & 4 & 1 & 5 & 4 & 3 & 2 & 5 & 4 & 3 & 5 & 1 & 4 & 4\\\\\n",
       "\t3 & 2 & 3 & 1 & 3 & 2 & 3 & 3 & 3 & 3 & 2 & 1 & 3 & 1 & 2 & 3 & 3\\\\\n",
       "\t4 & 1 & 4 & 4 & 4 & 1 & 4 & 5 & 3 & 4 & 4 & 6 & 4 & 4 & 1 & 3 & 3\\\\\n",
       "\t5 & 2 & 4 & 6 & 6 & 1 & 3 & 4 & 1 & 3 & 4 & 4 & 3 & 6 & 1 & 6 & 3\\\\\n",
       "\t6 & 1 & 4 & 6 & 4 & 4 & 4 & 2 & 3 & 3 & 5 & 4 & 5 & 5 & 6 & 4 & 4\\\\\n",
       "\\end{tabular}\n"
      ],
      "text/markdown": [
       "\n",
       "A data.frame: 6 × 16\n",
       "\n",
       "| <!--/--> | Agr_1_R &lt;dbl&gt; | Ext_2_R &lt;dbl&gt; | Con_2_R &lt;dbl&gt; | Neu_2_R &lt;dbl&gt; | Agr_3_R &lt;dbl&gt; | Con_4_R &lt;dbl&gt; | Ext_5_R &lt;dbl&gt; | Con_5_R &lt;dbl&gt; | Neu_5_R &lt;dbl&gt; | Agr_6_R &lt;dbl&gt; | Ext_7_R &lt;dbl&gt; | Neu_7_R &lt;dbl&gt; | Ope_7_R &lt;dbl&gt; | Agr_8_R &lt;dbl&gt; | Ope_9_R &lt;dbl&gt; | Con_9_R &lt;dbl&gt; |\n",
       "|---|---|---|---|---|---|---|---|---|---|---|---|---|---|---|---|---|\n",
       "| 1 | 1 | 2 | 5 | 5 | 1 | 1 | 2 | 4 | 5 | 5 | 3 | 5 | 3 | 2 | 2 | 2 |\n",
       "| 2 | 2 | 3 | 5 | 4 | 1 | 5 | 4 | 3 | 2 | 5 | 4 | 3 | 5 | 1 | 4 | 4 |\n",
       "| 3 | 2 | 3 | 1 | 3 | 2 | 3 | 3 | 3 | 3 | 2 | 1 | 3 | 1 | 2 | 3 | 3 |\n",
       "| 4 | 1 | 4 | 4 | 4 | 1 | 4 | 5 | 3 | 4 | 4 | 6 | 4 | 4 | 1 | 3 | 3 |\n",
       "| 5 | 2 | 4 | 6 | 6 | 1 | 3 | 4 | 1 | 3 | 4 | 4 | 3 | 6 | 1 | 6 | 3 |\n",
       "| 6 | 1 | 4 | 6 | 4 | 4 | 4 | 2 | 3 | 3 | 5 | 4 | 5 | 5 | 6 | 4 | 4 |\n",
       "\n"
      ],
      "text/plain": [
       "  Agr_1_R Ext_2_R Con_2_R Neu_2_R Agr_3_R Con_4_R Ext_5_R Con_5_R Neu_5_R\n",
       "1 1       2       5       5       1       1       2       4       5      \n",
       "2 2       3       5       4       1       5       4       3       2      \n",
       "3 2       3       1       3       2       3       3       3       3      \n",
       "4 1       4       4       4       1       4       5       3       4      \n",
       "5 2       4       6       6       1       3       4       1       3      \n",
       "6 1       4       6       4       4       4       2       3       3      \n",
       "  Agr_6_R Ext_7_R Neu_7_R Ope_7_R Agr_8_R Ope_9_R Con_9_R\n",
       "1 5       3       5       3       2       2       2      \n",
       "2 5       4       3       5       1       4       4      \n",
       "3 2       1       3       1       2       3       3      \n",
       "4 4       6       4       4       1       3       3      \n",
       "5 4       4       3       6       1       6       3      \n",
       "6 5       4       5       5       6       4       4      "
      ]
     },
     "metadata": {},
     "output_type": "display_data"
    }
   ],
   "source": [
    "rev_scoring <- grep('_R', names(BFI))\n",
    "rev_scoring\n",
    "BFI[, rev_scoring] %>% head"
   ]
  },
  {
   "cell_type": "code",
   "execution_count": 6,
   "id": "99e4c529",
   "metadata": {},
   "outputs": [
    {
     "data": {
      "text/html": [
       "<table class=\"dataframe\">\n",
       "<caption>A data.frame: 6 × 16</caption>\n",
       "<thead>\n",
       "\t<tr><th></th><th scope=col>Agr_1_R</th><th scope=col>Ext_2_R</th><th scope=col>Con_2_R</th><th scope=col>Neu_2_R</th><th scope=col>Agr_3_R</th><th scope=col>Con_4_R</th><th scope=col>Ext_5_R</th><th scope=col>Con_5_R</th><th scope=col>Neu_5_R</th><th scope=col>Agr_6_R</th><th scope=col>Ext_7_R</th><th scope=col>Neu_7_R</th><th scope=col>Ope_7_R</th><th scope=col>Agr_8_R</th><th scope=col>Ope_9_R</th><th scope=col>Con_9_R</th></tr>\n",
       "\t<tr><th></th><th scope=col>&lt;dbl&gt;</th><th scope=col>&lt;dbl&gt;</th><th scope=col>&lt;dbl&gt;</th><th scope=col>&lt;dbl&gt;</th><th scope=col>&lt;dbl&gt;</th><th scope=col>&lt;dbl&gt;</th><th scope=col>&lt;dbl&gt;</th><th scope=col>&lt;dbl&gt;</th><th scope=col>&lt;dbl&gt;</th><th scope=col>&lt;dbl&gt;</th><th scope=col>&lt;dbl&gt;</th><th scope=col>&lt;dbl&gt;</th><th scope=col>&lt;dbl&gt;</th><th scope=col>&lt;dbl&gt;</th><th scope=col>&lt;dbl&gt;</th><th scope=col>&lt;dbl&gt;</th></tr>\n",
       "</thead>\n",
       "<tbody>\n",
       "\t<tr><th scope=row>1</th><td>6</td><td>5</td><td>2</td><td>2</td><td>6</td><td>6</td><td>5</td><td>3</td><td>2</td><td>2</td><td>4</td><td>2</td><td>4</td><td>5</td><td>5</td><td>5</td></tr>\n",
       "\t<tr><th scope=row>2</th><td>5</td><td>4</td><td>2</td><td>3</td><td>6</td><td>2</td><td>3</td><td>4</td><td>5</td><td>2</td><td>3</td><td>4</td><td>2</td><td>6</td><td>3</td><td>3</td></tr>\n",
       "\t<tr><th scope=row>3</th><td>5</td><td>4</td><td>6</td><td>4</td><td>5</td><td>4</td><td>4</td><td>4</td><td>4</td><td>5</td><td>6</td><td>4</td><td>6</td><td>5</td><td>4</td><td>4</td></tr>\n",
       "\t<tr><th scope=row>4</th><td>6</td><td>3</td><td>3</td><td>3</td><td>6</td><td>3</td><td>2</td><td>4</td><td>3</td><td>3</td><td>1</td><td>3</td><td>3</td><td>6</td><td>4</td><td>4</td></tr>\n",
       "\t<tr><th scope=row>5</th><td>5</td><td>3</td><td>1</td><td>1</td><td>6</td><td>4</td><td>3</td><td>6</td><td>4</td><td>3</td><td>3</td><td>4</td><td>1</td><td>6</td><td>1</td><td>4</td></tr>\n",
       "\t<tr><th scope=row>6</th><td>6</td><td>3</td><td>1</td><td>3</td><td>3</td><td>3</td><td>5</td><td>4</td><td>4</td><td>2</td><td>3</td><td>2</td><td>2</td><td>1</td><td>3</td><td>3</td></tr>\n",
       "</tbody>\n",
       "</table>\n"
      ],
      "text/latex": [
       "A data.frame: 6 × 16\n",
       "\\begin{tabular}{r|llllllllllllllll}\n",
       "  & Agr\\_1\\_R & Ext\\_2\\_R & Con\\_2\\_R & Neu\\_2\\_R & Agr\\_3\\_R & Con\\_4\\_R & Ext\\_5\\_R & Con\\_5\\_R & Neu\\_5\\_R & Agr\\_6\\_R & Ext\\_7\\_R & Neu\\_7\\_R & Ope\\_7\\_R & Agr\\_8\\_R & Ope\\_9\\_R & Con\\_9\\_R\\\\\n",
       "  & <dbl> & <dbl> & <dbl> & <dbl> & <dbl> & <dbl> & <dbl> & <dbl> & <dbl> & <dbl> & <dbl> & <dbl> & <dbl> & <dbl> & <dbl> & <dbl>\\\\\n",
       "\\hline\n",
       "\t1 & 6 & 5 & 2 & 2 & 6 & 6 & 5 & 3 & 2 & 2 & 4 & 2 & 4 & 5 & 5 & 5\\\\\n",
       "\t2 & 5 & 4 & 2 & 3 & 6 & 2 & 3 & 4 & 5 & 2 & 3 & 4 & 2 & 6 & 3 & 3\\\\\n",
       "\t3 & 5 & 4 & 6 & 4 & 5 & 4 & 4 & 4 & 4 & 5 & 6 & 4 & 6 & 5 & 4 & 4\\\\\n",
       "\t4 & 6 & 3 & 3 & 3 & 6 & 3 & 2 & 4 & 3 & 3 & 1 & 3 & 3 & 6 & 4 & 4\\\\\n",
       "\t5 & 5 & 3 & 1 & 1 & 6 & 4 & 3 & 6 & 4 & 3 & 3 & 4 & 1 & 6 & 1 & 4\\\\\n",
       "\t6 & 6 & 3 & 1 & 3 & 3 & 3 & 5 & 4 & 4 & 2 & 3 & 2 & 2 & 1 & 3 & 3\\\\\n",
       "\\end{tabular}\n"
      ],
      "text/markdown": [
       "\n",
       "A data.frame: 6 × 16\n",
       "\n",
       "| <!--/--> | Agr_1_R &lt;dbl&gt; | Ext_2_R &lt;dbl&gt; | Con_2_R &lt;dbl&gt; | Neu_2_R &lt;dbl&gt; | Agr_3_R &lt;dbl&gt; | Con_4_R &lt;dbl&gt; | Ext_5_R &lt;dbl&gt; | Con_5_R &lt;dbl&gt; | Neu_5_R &lt;dbl&gt; | Agr_6_R &lt;dbl&gt; | Ext_7_R &lt;dbl&gt; | Neu_7_R &lt;dbl&gt; | Ope_7_R &lt;dbl&gt; | Agr_8_R &lt;dbl&gt; | Ope_9_R &lt;dbl&gt; | Con_9_R &lt;dbl&gt; |\n",
       "|---|---|---|---|---|---|---|---|---|---|---|---|---|---|---|---|---|\n",
       "| 1 | 6 | 5 | 2 | 2 | 6 | 6 | 5 | 3 | 2 | 2 | 4 | 2 | 4 | 5 | 5 | 5 |\n",
       "| 2 | 5 | 4 | 2 | 3 | 6 | 2 | 3 | 4 | 5 | 2 | 3 | 4 | 2 | 6 | 3 | 3 |\n",
       "| 3 | 5 | 4 | 6 | 4 | 5 | 4 | 4 | 4 | 4 | 5 | 6 | 4 | 6 | 5 | 4 | 4 |\n",
       "| 4 | 6 | 3 | 3 | 3 | 6 | 3 | 2 | 4 | 3 | 3 | 1 | 3 | 3 | 6 | 4 | 4 |\n",
       "| 5 | 5 | 3 | 1 | 1 | 6 | 4 | 3 | 6 | 4 | 3 | 3 | 4 | 1 | 6 | 1 | 4 |\n",
       "| 6 | 6 | 3 | 1 | 3 | 3 | 3 | 5 | 4 | 4 | 2 | 3 | 2 | 2 | 1 | 3 | 3 |\n",
       "\n"
      ],
      "text/plain": [
       "  Agr_1_R Ext_2_R Con_2_R Neu_2_R Agr_3_R Con_4_R Ext_5_R Con_5_R Neu_5_R\n",
       "1 6       5       2       2       6       6       5       3       2      \n",
       "2 5       4       2       3       6       2       3       4       5      \n",
       "3 5       4       6       4       5       4       4       4       4      \n",
       "4 6       3       3       3       6       3       2       4       3      \n",
       "5 5       3       1       1       6       4       3       6       4      \n",
       "6 6       3       1       3       3       3       5       4       4      \n",
       "  Agr_6_R Ext_7_R Neu_7_R Ope_7_R Agr_8_R Ope_9_R Con_9_R\n",
       "1 2       4       2       4       5       5       5      \n",
       "2 2       3       4       2       6       3       3      \n",
       "3 5       6       4       6       5       4       4      \n",
       "4 3       1       3       3       6       4       4      \n",
       "5 3       3       4       1       6       1       4      \n",
       "6 2       3       2       2       1       3       3      "
      ]
     },
     "metadata": {},
     "output_type": "display_data"
    }
   ],
   "source": [
    "BFI[, rev_scoring] <- sapply( rev_scoring, function(x) 7 - BFI[, x])\n",
    "BFI[, rev_scoring]  %>% head"
   ]
  },
  {
   "cell_type": "markdown",
   "id": "ebd7fa30",
   "metadata": {},
   "source": [
    "## 1.2. SME"
   ]
  },
  {
   "cell_type": "code",
   "execution_count": 7,
   "id": "7c6132b9",
   "metadata": {},
   "outputs": [
    {
     "data": {
      "text/html": [
       "<table class=\"dataframe\">\n",
       "<caption>A data.frame: 6 × 5</caption>\n",
       "<thead>\n",
       "\t<tr><th></th><th scope=col>SME_05</th><th scope=col>SME_06</th><th scope=col>SME_07</th><th scope=col>SME_08</th><th scope=col>SME_09</th></tr>\n",
       "\t<tr><th></th><th scope=col>&lt;dbl&gt;</th><th scope=col>&lt;dbl&gt;</th><th scope=col>&lt;dbl&gt;</th><th scope=col>&lt;dbl&gt;</th><th scope=col>&lt;dbl&gt;</th></tr>\n",
       "</thead>\n",
       "<tbody>\n",
       "\t<tr><th scope=row>1</th><td>3</td><td>3</td><td>3</td><td>4</td><td>4</td></tr>\n",
       "\t<tr><th scope=row>2</th><td>4</td><td>4</td><td>5</td><td>5</td><td>4</td></tr>\n",
       "\t<tr><th scope=row>3</th><td>4</td><td>1</td><td>3</td><td>5</td><td>4</td></tr>\n",
       "\t<tr><th scope=row>4</th><td>3</td><td>2</td><td>2</td><td>4</td><td>3</td></tr>\n",
       "\t<tr><th scope=row>5</th><td>5</td><td>1</td><td>5</td><td>5</td><td>3</td></tr>\n",
       "\t<tr><th scope=row>6</th><td>4</td><td>3</td><td>5</td><td>5</td><td>3</td></tr>\n",
       "</tbody>\n",
       "</table>\n"
      ],
      "text/latex": [
       "A data.frame: 6 × 5\n",
       "\\begin{tabular}{r|lllll}\n",
       "  & SME\\_05 & SME\\_06 & SME\\_07 & SME\\_08 & SME\\_09\\\\\n",
       "  & <dbl> & <dbl> & <dbl> & <dbl> & <dbl>\\\\\n",
       "\\hline\n",
       "\t1 & 3 & 3 & 3 & 4 & 4\\\\\n",
       "\t2 & 4 & 4 & 5 & 5 & 4\\\\\n",
       "\t3 & 4 & 1 & 3 & 5 & 4\\\\\n",
       "\t4 & 3 & 2 & 2 & 4 & 3\\\\\n",
       "\t5 & 5 & 1 & 5 & 5 & 3\\\\\n",
       "\t6 & 4 & 3 & 5 & 5 & 3\\\\\n",
       "\\end{tabular}\n"
      ],
      "text/markdown": [
       "\n",
       "A data.frame: 6 × 5\n",
       "\n",
       "| <!--/--> | SME_05 &lt;dbl&gt; | SME_06 &lt;dbl&gt; | SME_07 &lt;dbl&gt; | SME_08 &lt;dbl&gt; | SME_09 &lt;dbl&gt; |\n",
       "|---|---|---|---|---|---|\n",
       "| 1 | 3 | 3 | 3 | 4 | 4 |\n",
       "| 2 | 4 | 4 | 5 | 5 | 4 |\n",
       "| 3 | 4 | 1 | 3 | 5 | 4 |\n",
       "| 4 | 3 | 2 | 2 | 4 | 3 |\n",
       "| 5 | 5 | 1 | 5 | 5 | 3 |\n",
       "| 6 | 4 | 3 | 5 | 5 | 3 |\n",
       "\n"
      ],
      "text/plain": [
       "  SME_05 SME_06 SME_07 SME_08 SME_09\n",
       "1 3      3      3      4      4     \n",
       "2 4      4      5      5      4     \n",
       "3 4      1      3      5      4     \n",
       "4 3      2      2      4      3     \n",
       "5 5      1      5      5      3     \n",
       "6 4      3      5      5      3     "
      ]
     },
     "metadata": {},
     "output_type": "display_data"
    }
   ],
   "source": [
    "SME <- Alila[, grep('SME', names(Alila))]\n",
    "SME <- SME[, 19:23]\n",
    "SME  %>% head"
   ]
  },
  {
   "cell_type": "markdown",
   "id": "5b24d25e",
   "metadata": {},
   "source": [
    "## 1.3. SMC"
   ]
  },
  {
   "cell_type": "code",
   "execution_count": 8,
   "id": "ec9bdb01",
   "metadata": {},
   "outputs": [
    {
     "data": {
      "text/html": [
       "<table class=\"dataframe\">\n",
       "<caption>A data.frame: 6 × 14</caption>\n",
       "<thead>\n",
       "\t<tr><th></th><th scope=col>SU_01</th><th scope=col>SU_02</th><th scope=col>SU_03</th><th scope=col>SU_04</th><th scope=col>SU_05</th><th scope=col>CU_06</th><th scope=col>CU_07</th><th scope=col>CU_08</th><th scope=col>CU_09</th><th scope=col>CU_10</th><th scope=col>HU_11</th><th scope=col>HU_12</th><th scope=col>HU_13</th><th scope=col>HU_14</th></tr>\n",
       "\t<tr><th></th><th scope=col>&lt;dbl&gt;</th><th scope=col>&lt;dbl&gt;</th><th scope=col>&lt;dbl&gt;</th><th scope=col>&lt;dbl&gt;</th><th scope=col>&lt;dbl&gt;</th><th scope=col>&lt;dbl&gt;</th><th scope=col>&lt;dbl&gt;</th><th scope=col>&lt;dbl&gt;</th><th scope=col>&lt;dbl&gt;</th><th scope=col>&lt;dbl&gt;</th><th scope=col>&lt;dbl&gt;</th><th scope=col>&lt;dbl&gt;</th><th scope=col>&lt;dbl&gt;</th><th scope=col>&lt;dbl&gt;</th></tr>\n",
       "</thead>\n",
       "<tbody>\n",
       "\t<tr><th scope=row>1</th><td>5</td><td>5</td><td>6</td><td>5</td><td>5</td><td>5</td><td>5</td><td>5</td><td>6</td><td>5</td><td>6</td><td>5</td><td>6</td><td>6</td></tr>\n",
       "\t<tr><th scope=row>2</th><td>4</td><td>4</td><td>5</td><td>4</td><td>5</td><td>6</td><td>4</td><td>4</td><td>5</td><td>5</td><td>6</td><td>6</td><td>6</td><td>6</td></tr>\n",
       "\t<tr><th scope=row>3</th><td>3</td><td>3</td><td>1</td><td>1</td><td>3</td><td>1</td><td>3</td><td>2</td><td>3</td><td>1</td><td>1</td><td>1</td><td>1</td><td>1</td></tr>\n",
       "\t<tr><th scope=row>4</th><td>2</td><td>5</td><td>5</td><td>3</td><td>3</td><td>5</td><td>5</td><td>5</td><td>5</td><td>5</td><td>5</td><td>5</td><td>5</td><td>5</td></tr>\n",
       "\t<tr><th scope=row>5</th><td>6</td><td>3</td><td>6</td><td>6</td><td>6</td><td>6</td><td>3</td><td>6</td><td>4</td><td>6</td><td>6</td><td>6</td><td>6</td><td>6</td></tr>\n",
       "\t<tr><th scope=row>6</th><td>4</td><td>4</td><td>5</td><td>4</td><td>4</td><td>5</td><td>5</td><td>5</td><td>5</td><td>5</td><td>6</td><td>6</td><td>6</td><td>6</td></tr>\n",
       "</tbody>\n",
       "</table>\n"
      ],
      "text/latex": [
       "A data.frame: 6 × 14\n",
       "\\begin{tabular}{r|llllllllllllll}\n",
       "  & SU\\_01 & SU\\_02 & SU\\_03 & SU\\_04 & SU\\_05 & CU\\_06 & CU\\_07 & CU\\_08 & CU\\_09 & CU\\_10 & HU\\_11 & HU\\_12 & HU\\_13 & HU\\_14\\\\\n",
       "  & <dbl> & <dbl> & <dbl> & <dbl> & <dbl> & <dbl> & <dbl> & <dbl> & <dbl> & <dbl> & <dbl> & <dbl> & <dbl> & <dbl>\\\\\n",
       "\\hline\n",
       "\t1 & 5 & 5 & 6 & 5 & 5 & 5 & 5 & 5 & 6 & 5 & 6 & 5 & 6 & 6\\\\\n",
       "\t2 & 4 & 4 & 5 & 4 & 5 & 6 & 4 & 4 & 5 & 5 & 6 & 6 & 6 & 6\\\\\n",
       "\t3 & 3 & 3 & 1 & 1 & 3 & 1 & 3 & 2 & 3 & 1 & 1 & 1 & 1 & 1\\\\\n",
       "\t4 & 2 & 5 & 5 & 3 & 3 & 5 & 5 & 5 & 5 & 5 & 5 & 5 & 5 & 5\\\\\n",
       "\t5 & 6 & 3 & 6 & 6 & 6 & 6 & 3 & 6 & 4 & 6 & 6 & 6 & 6 & 6\\\\\n",
       "\t6 & 4 & 4 & 5 & 4 & 4 & 5 & 5 & 5 & 5 & 5 & 6 & 6 & 6 & 6\\\\\n",
       "\\end{tabular}\n"
      ],
      "text/markdown": [
       "\n",
       "A data.frame: 6 × 14\n",
       "\n",
       "| <!--/--> | SU_01 &lt;dbl&gt; | SU_02 &lt;dbl&gt; | SU_03 &lt;dbl&gt; | SU_04 &lt;dbl&gt; | SU_05 &lt;dbl&gt; | CU_06 &lt;dbl&gt; | CU_07 &lt;dbl&gt; | CU_08 &lt;dbl&gt; | CU_09 &lt;dbl&gt; | CU_10 &lt;dbl&gt; | HU_11 &lt;dbl&gt; | HU_12 &lt;dbl&gt; | HU_13 &lt;dbl&gt; | HU_14 &lt;dbl&gt; |\n",
       "|---|---|---|---|---|---|---|---|---|---|---|---|---|---|---|\n",
       "| 1 | 5 | 5 | 6 | 5 | 5 | 5 | 5 | 5 | 6 | 5 | 6 | 5 | 6 | 6 |\n",
       "| 2 | 4 | 4 | 5 | 4 | 5 | 6 | 4 | 4 | 5 | 5 | 6 | 6 | 6 | 6 |\n",
       "| 3 | 3 | 3 | 1 | 1 | 3 | 1 | 3 | 2 | 3 | 1 | 1 | 1 | 1 | 1 |\n",
       "| 4 | 2 | 5 | 5 | 3 | 3 | 5 | 5 | 5 | 5 | 5 | 5 | 5 | 5 | 5 |\n",
       "| 5 | 6 | 3 | 6 | 6 | 6 | 6 | 3 | 6 | 4 | 6 | 6 | 6 | 6 | 6 |\n",
       "| 6 | 4 | 4 | 5 | 4 | 4 | 5 | 5 | 5 | 5 | 5 | 6 | 6 | 6 | 6 |\n",
       "\n"
      ],
      "text/plain": [
       "  SU_01 SU_02 SU_03 SU_04 SU_05 CU_06 CU_07 CU_08 CU_09 CU_10 HU_11 HU_12 HU_13\n",
       "1 5     5     6     5     5     5     5     5     6     5     6     5     6    \n",
       "2 4     4     5     4     5     6     4     4     5     5     6     6     6    \n",
       "3 3     3     1     1     3     1     3     2     3     1     1     1     1    \n",
       "4 2     5     5     3     3     5     5     5     5     5     5     5     5    \n",
       "5 6     3     6     6     6     6     3     6     4     6     6     6     6    \n",
       "6 4     4     5     4     4     5     5     5     5     5     6     6     6    \n",
       "  HU_14\n",
       "1 6    \n",
       "2 6    \n",
       "3 1    \n",
       "4 5    \n",
       "5 6    \n",
       "6 6    "
      ]
     },
     "metadata": {},
     "output_type": "display_data"
    }
   ],
   "source": [
    "SMC <- Alila[, grep('CU|SU|HU', names(Alila))]\n",
    "SMC  %>% head"
   ]
  },
  {
   "cell_type": "markdown",
   "id": "f5b9897b",
   "metadata": {},
   "source": [
    "## 2. Descriptive Statistics"
   ]
  },
  {
   "cell_type": "markdown",
   "id": "ee249c69",
   "metadata": {},
   "source": [
    "## 2.1. BFI"
   ]
  },
  {
   "cell_type": "markdown",
   "id": "0ca796b8",
   "metadata": {},
   "source": [
    "# 2.1.1 Desctiprive "
   ]
  },
  {
   "cell_type": "code",
   "execution_count": 9,
   "id": "830f192f",
   "metadata": {},
   "outputs": [
    {
     "data": {
      "text/html": [
       "<table class=\"dataframe\">\n",
       "<caption>A data.frame: 4 × 5</caption>\n",
       "<thead>\n",
       "\t<tr><th></th><th scope=col>Agr</th><th scope=col>Con</th><th scope=col>Ext</th><th scope=col>Neu</th><th scope=col>Ope</th></tr>\n",
       "\t<tr><th></th><th scope=col>&lt;named list&gt;</th><th scope=col>&lt;named list&gt;</th><th scope=col>&lt;named list&gt;</th><th scope=col>&lt;named list&gt;</th><th scope=col>&lt;named list&gt;</th></tr>\n",
       "</thead>\n",
       "<tbody>\n",
       "\t<tr><th scope=row>Mean</th><td>4.335893</td><td>3.994368</td><td>3.90841</td><td>3.324885</td><td>4.189401</td></tr>\n",
       "\t<tr><th scope=row>SD</th><td>1.320095</td><td>1.313731</td><td>1.34066</td><td>1.373853</td><td>1.305935</td></tr>\n",
       "\t<tr><th scope=row>Skewness</th><td>-0.6374174</td><td>-0.3500503</td><td>-0.2961422</td><td>0.1587656</td><td>-0.5167744</td></tr>\n",
       "\t<tr><th scope=row>Kurtosis</th><td>-0.2927836</td><td>-0.6284818</td><td>-0.7211092</td><td>-0.8050903</td><td>-0.4180324</td></tr>\n",
       "</tbody>\n",
       "</table>\n"
      ],
      "text/latex": [
       "A data.frame: 4 × 5\n",
       "\\begin{tabular}{r|lllll}\n",
       "  & Agr & Con & Ext & Neu & Ope\\\\\n",
       "  & <named list> & <named list> & <named list> & <named list> & <named list>\\\\\n",
       "\\hline\n",
       "\tMean & 4.335893 & 3.994368 & 3.90841 & 3.324885 & 4.189401\\\\\n",
       "\tSD & 1.320095 & 1.313731 & 1.34066 & 1.373853 & 1.305935\\\\\n",
       "\tSkewness & -0.6374174 & -0.3500503 & -0.2961422 & 0.1587656 & -0.5167744\\\\\n",
       "\tKurtosis & -0.2927836 & -0.6284818 & -0.7211092 & -0.8050903 & -0.4180324\\\\\n",
       "\\end{tabular}\n"
      ],
      "text/markdown": [
       "\n",
       "A data.frame: 4 × 5\n",
       "\n",
       "| <!--/--> | Agr &lt;named list&gt; | Con &lt;named list&gt; | Ext &lt;named list&gt; | Neu &lt;named list&gt; | Ope &lt;named list&gt; |\n",
       "|---|---|---|---|---|---|\n",
       "| Mean | 4.335893 | 3.994368 | 3.90841 | 3.324885 | 4.189401 |\n",
       "| SD | 1.320095 | 1.313731 | 1.34066 | 1.373853 | 1.305935 |\n",
       "| Skewness | -0.6374174 | -0.3500503 | -0.2961422 | 0.1587656 | -0.5167744 |\n",
       "| Kurtosis | -0.2927836 | -0.6284818 | -0.7211092 | -0.8050903 | -0.4180324 |\n",
       "\n"
      ],
      "text/plain": [
       "         Agr        Con        Ext        Neu        Ope       \n",
       "Mean     4.335893   3.994368   3.90841    3.324885   4.189401  \n",
       "SD       1.320095   1.313731   1.34066    1.373853   1.305935  \n",
       "Skewness -0.6374174 -0.3500503 -0.2961422 0.1587656  -0.5167744\n",
       "Kurtosis -0.2927836 -0.6284818 -0.7211092 -0.8050903 -0.4180324"
      ]
     },
     "metadata": {},
     "output_type": "display_data"
    }
   ],
   "source": [
    "BFI <- BFI[, order(names(BFI))]\n",
    "\n",
    "indikator <- c('Agr','Con', 'Ext', 'Neu', 'Ope')\n",
    "X_var <- BFI\n",
    "k <- sapply(1:5, function(x){\n",
    "    data <- X_var[, grep(indikator[x], names(X_var))]   %>% unlist \n",
    "    data.frame(Mean=data  %>% mean  , \n",
    "               SD = data  %>% sd,\n",
    "              Skewness = data  %>% skewness,\n",
    "              Kurtosis = data  %>% Kurtosis ) \n",
    "    \n",
    "})  \n",
    "k <- as.data.frame(k)\n",
    "names(k)<-indikator\n",
    "k"
   ]
  },
  {
   "cell_type": "raw",
   "id": "6bbacb58",
   "metadata": {
    "scrolled": false
   },
   "source": [
    "indikator <- c('Agr','Con', 'Ext', 'Neu', 'Ope')\n",
    "X_var <- BFI\n",
    "options(repr.plot.width =8, repr.plot.height = 6, repr.plot.res = 350)\n",
    "par(mfrow = c(2,3))\n",
    "\n",
    "for (x in 1:5){\n",
    "plot(princals( X_var[, grep(indikator[x], names(X_var)), drop=FALSE] %>% as.matrix), main=paste0(indikator[x], \" Loadings\"))\n",
    "abline(v=0, lwd=2, col='red', lty='dashed')\n",
    "abline(h=0, lwd=2, col='red', lty='dashed');\n",
    "}"
   ]
  },
  {
   "cell_type": "code",
   "execution_count": 10,
   "id": "d7c4f86a",
   "metadata": {},
   "outputs": [
    {
     "name": "stdout",
     "output_type": "stream",
     "text": [
      "Some items ( Agr_6_R ) were negatively correlated with the total scale and \n",
      "probably should be reversed.  \n",
      "To do this, run the function again with the 'check.keys=TRUE' optionSome items ( Ope_7_R ) were negatively correlated with the total scale and \n",
      "probably should be reversed.  \n",
      "To do this, run the function again with the 'check.keys=TRUE' option"
     ]
    },
    {
     "data": {
      "text/html": [
       "<dl>\n",
       "\t<dt>$total</dt>\n",
       "\t\t<dd><table class=\"dataframe\">\n",
       "<caption>A data.frame: 1 × 9</caption>\n",
       "<thead>\n",
       "\t<tr><th></th><th scope=col>raw_alpha</th><th scope=col>std.alpha</th><th scope=col>G6(smc)</th><th scope=col>average_r</th><th scope=col>S/N</th><th scope=col>ase</th><th scope=col>mean</th><th scope=col>sd</th><th scope=col>median_r</th></tr>\n",
       "\t<tr><th></th><th scope=col>&lt;dbl&gt;</th><th scope=col>&lt;dbl&gt;</th><th scope=col>&lt;dbl&gt;</th><th scope=col>&lt;dbl&gt;</th><th scope=col>&lt;dbl&gt;</th><th scope=col>&lt;dbl&gt;</th><th scope=col>&lt;dbl&gt;</th><th scope=col>&lt;dbl&gt;</th><th scope=col>&lt;dbl&gt;</th></tr>\n",
       "</thead>\n",
       "<tbody>\n",
       "\t<tr><th scope=row></th><td>0.6031809</td><td>0.6227383</td><td>0.6655083</td><td>0.1549835</td><td>1.65068</td><td>0.04049668</td><td>4.335893</td><td>0.5576547</td><td>0.1209198</td></tr>\n",
       "</tbody>\n",
       "</table>\n",
       "</dd>\n",
       "\t<dt>$total</dt>\n",
       "\t\t<dd><table class=\"dataframe\">\n",
       "<caption>A data.frame: 1 × 9</caption>\n",
       "<thead>\n",
       "\t<tr><th></th><th scope=col>raw_alpha</th><th scope=col>std.alpha</th><th scope=col>G6(smc)</th><th scope=col>average_r</th><th scope=col>S/N</th><th scope=col>ase</th><th scope=col>mean</th><th scope=col>sd</th><th scope=col>median_r</th></tr>\n",
       "\t<tr><th></th><th scope=col>&lt;dbl&gt;</th><th scope=col>&lt;dbl&gt;</th><th scope=col>&lt;dbl&gt;</th><th scope=col>&lt;dbl&gt;</th><th scope=col>&lt;dbl&gt;</th><th scope=col>&lt;dbl&gt;</th><th scope=col>&lt;dbl&gt;</th><th scope=col>&lt;dbl&gt;</th><th scope=col>&lt;dbl&gt;</th></tr>\n",
       "</thead>\n",
       "<tbody>\n",
       "\t<tr><th scope=row></th><td>0.7430653</td><td>0.7511965</td><td>0.7966806</td><td>0.2512004</td><td>3.019236</td><td>0.02631023</td><td>3.994368</td><td>0.6537869</td><td>0.2668945</td></tr>\n",
       "</tbody>\n",
       "</table>\n",
       "</dd>\n",
       "\t<dt>$total</dt>\n",
       "\t\t<dd><table class=\"dataframe\">\n",
       "<caption>A data.frame: 1 × 9</caption>\n",
       "<thead>\n",
       "\t<tr><th></th><th scope=col>raw_alpha</th><th scope=col>std.alpha</th><th scope=col>G6(smc)</th><th scope=col>average_r</th><th scope=col>S/N</th><th scope=col>ase</th><th scope=col>mean</th><th scope=col>sd</th><th scope=col>median_r</th></tr>\n",
       "\t<tr><th></th><th scope=col>&lt;dbl&gt;</th><th scope=col>&lt;dbl&gt;</th><th scope=col>&lt;dbl&gt;</th><th scope=col>&lt;dbl&gt;</th><th scope=col>&lt;dbl&gt;</th><th scope=col>&lt;dbl&gt;</th><th scope=col>&lt;dbl&gt;</th><th scope=col>&lt;dbl&gt;</th><th scope=col>&lt;dbl&gt;</th></tr>\n",
       "</thead>\n",
       "<tbody>\n",
       "\t<tr><th scope=row></th><td>0.7933273</td><td>0.7959055</td><td>0.8251513</td><td>0.3277137</td><td>3.899692</td><td>0.02097348</td><td>3.90841</td><td>0.7936059</td><td>0.3527311</td></tr>\n",
       "</tbody>\n",
       "</table>\n",
       "</dd>\n",
       "\t<dt>$total</dt>\n",
       "\t\t<dd><table class=\"dataframe\">\n",
       "<caption>A data.frame: 1 × 9</caption>\n",
       "<thead>\n",
       "\t<tr><th></th><th scope=col>raw_alpha</th><th scope=col>std.alpha</th><th scope=col>G6(smc)</th><th scope=col>average_r</th><th scope=col>S/N</th><th scope=col>ase</th><th scope=col>mean</th><th scope=col>sd</th><th scope=col>median_r</th></tr>\n",
       "\t<tr><th></th><th scope=col>&lt;dbl&gt;</th><th scope=col>&lt;dbl&gt;</th><th scope=col>&lt;dbl&gt;</th><th scope=col>&lt;dbl&gt;</th><th scope=col>&lt;dbl&gt;</th><th scope=col>&lt;dbl&gt;</th><th scope=col>&lt;dbl&gt;</th><th scope=col>&lt;dbl&gt;</th><th scope=col>&lt;dbl&gt;</th></tr>\n",
       "</thead>\n",
       "<tbody>\n",
       "\t<tr><th scope=row></th><td>0.8044687</td><td>0.7973947</td><td>0.8286105</td><td>0.3297422</td><td>3.935706</td><td>0.01946025</td><td>3.324885</td><td>0.8309044</td><td>0.2937944</td></tr>\n",
       "</tbody>\n",
       "</table>\n",
       "</dd>\n",
       "\t<dt>$total</dt>\n",
       "\t\t<dd><table class=\"dataframe\">\n",
       "<caption>A data.frame: 1 × 9</caption>\n",
       "<thead>\n",
       "\t<tr><th></th><th scope=col>raw_alpha</th><th scope=col>std.alpha</th><th scope=col>G6(smc)</th><th scope=col>average_r</th><th scope=col>S/N</th><th scope=col>ase</th><th scope=col>mean</th><th scope=col>sd</th><th scope=col>median_r</th></tr>\n",
       "\t<tr><th></th><th scope=col>&lt;dbl&gt;</th><th scope=col>&lt;dbl&gt;</th><th scope=col>&lt;dbl&gt;</th><th scope=col>&lt;dbl&gt;</th><th scope=col>&lt;dbl&gt;</th><th scope=col>&lt;dbl&gt;</th><th scope=col>&lt;dbl&gt;</th><th scope=col>&lt;dbl&gt;</th><th scope=col>&lt;dbl&gt;</th></tr>\n",
       "</thead>\n",
       "<tbody>\n",
       "\t<tr><th scope=row></th><td>0.6963302</td><td>0.742815</td><td>0.7819283</td><td>0.2240996</td><td>2.888252</td><td>0.02972911</td><td>4.189401</td><td>0.5780139</td><td>0.3380083</td></tr>\n",
       "</tbody>\n",
       "</table>\n",
       "</dd>\n",
       "</dl>\n"
      ],
      "text/latex": [
       "\\begin{description}\n",
       "\\item[\\$total] A data.frame: 1 × 9\n",
       "\\begin{tabular}{r|lllllllll}\n",
       "  & raw\\_alpha & std.alpha & G6(smc) & average\\_r & S/N & ase & mean & sd & median\\_r\\\\\n",
       "  & <dbl> & <dbl> & <dbl> & <dbl> & <dbl> & <dbl> & <dbl> & <dbl> & <dbl>\\\\\n",
       "\\hline\n",
       "\t & 0.6031809 & 0.6227383 & 0.6655083 & 0.1549835 & 1.65068 & 0.04049668 & 4.335893 & 0.5576547 & 0.1209198\\\\\n",
       "\\end{tabular}\n",
       "\n",
       "\\item[\\$total] A data.frame: 1 × 9\n",
       "\\begin{tabular}{r|lllllllll}\n",
       "  & raw\\_alpha & std.alpha & G6(smc) & average\\_r & S/N & ase & mean & sd & median\\_r\\\\\n",
       "  & <dbl> & <dbl> & <dbl> & <dbl> & <dbl> & <dbl> & <dbl> & <dbl> & <dbl>\\\\\n",
       "\\hline\n",
       "\t & 0.7430653 & 0.7511965 & 0.7966806 & 0.2512004 & 3.019236 & 0.02631023 & 3.994368 & 0.6537869 & 0.2668945\\\\\n",
       "\\end{tabular}\n",
       "\n",
       "\\item[\\$total] A data.frame: 1 × 9\n",
       "\\begin{tabular}{r|lllllllll}\n",
       "  & raw\\_alpha & std.alpha & G6(smc) & average\\_r & S/N & ase & mean & sd & median\\_r\\\\\n",
       "  & <dbl> & <dbl> & <dbl> & <dbl> & <dbl> & <dbl> & <dbl> & <dbl> & <dbl>\\\\\n",
       "\\hline\n",
       "\t & 0.7933273 & 0.7959055 & 0.8251513 & 0.3277137 & 3.899692 & 0.02097348 & 3.90841 & 0.7936059 & 0.3527311\\\\\n",
       "\\end{tabular}\n",
       "\n",
       "\\item[\\$total] A data.frame: 1 × 9\n",
       "\\begin{tabular}{r|lllllllll}\n",
       "  & raw\\_alpha & std.alpha & G6(smc) & average\\_r & S/N & ase & mean & sd & median\\_r\\\\\n",
       "  & <dbl> & <dbl> & <dbl> & <dbl> & <dbl> & <dbl> & <dbl> & <dbl> & <dbl>\\\\\n",
       "\\hline\n",
       "\t & 0.8044687 & 0.7973947 & 0.8286105 & 0.3297422 & 3.935706 & 0.01946025 & 3.324885 & 0.8309044 & 0.2937944\\\\\n",
       "\\end{tabular}\n",
       "\n",
       "\\item[\\$total] A data.frame: 1 × 9\n",
       "\\begin{tabular}{r|lllllllll}\n",
       "  & raw\\_alpha & std.alpha & G6(smc) & average\\_r & S/N & ase & mean & sd & median\\_r\\\\\n",
       "  & <dbl> & <dbl> & <dbl> & <dbl> & <dbl> & <dbl> & <dbl> & <dbl> & <dbl>\\\\\n",
       "\\hline\n",
       "\t & 0.6963302 & 0.742815 & 0.7819283 & 0.2240996 & 2.888252 & 0.02972911 & 4.189401 & 0.5780139 & 0.3380083\\\\\n",
       "\\end{tabular}\n",
       "\n",
       "\\end{description}\n"
      ],
      "text/markdown": [
       "$total\n",
       ":   \n",
       "A data.frame: 1 × 9\n",
       "\n",
       "| <!--/--> | raw_alpha &lt;dbl&gt; | std.alpha &lt;dbl&gt; | G6(smc) &lt;dbl&gt; | average_r &lt;dbl&gt; | S/N &lt;dbl&gt; | ase &lt;dbl&gt; | mean &lt;dbl&gt; | sd &lt;dbl&gt; | median_r &lt;dbl&gt; |\n",
       "|---|---|---|---|---|---|---|---|---|---|\n",
       "| <!----> | 0.6031809 | 0.6227383 | 0.6655083 | 0.1549835 | 1.65068 | 0.04049668 | 4.335893 | 0.5576547 | 0.1209198 |\n",
       "\n",
       "\n",
       "$total\n",
       ":   \n",
       "A data.frame: 1 × 9\n",
       "\n",
       "| <!--/--> | raw_alpha &lt;dbl&gt; | std.alpha &lt;dbl&gt; | G6(smc) &lt;dbl&gt; | average_r &lt;dbl&gt; | S/N &lt;dbl&gt; | ase &lt;dbl&gt; | mean &lt;dbl&gt; | sd &lt;dbl&gt; | median_r &lt;dbl&gt; |\n",
       "|---|---|---|---|---|---|---|---|---|---|\n",
       "| <!----> | 0.7430653 | 0.7511965 | 0.7966806 | 0.2512004 | 3.019236 | 0.02631023 | 3.994368 | 0.6537869 | 0.2668945 |\n",
       "\n",
       "\n",
       "$total\n",
       ":   \n",
       "A data.frame: 1 × 9\n",
       "\n",
       "| <!--/--> | raw_alpha &lt;dbl&gt; | std.alpha &lt;dbl&gt; | G6(smc) &lt;dbl&gt; | average_r &lt;dbl&gt; | S/N &lt;dbl&gt; | ase &lt;dbl&gt; | mean &lt;dbl&gt; | sd &lt;dbl&gt; | median_r &lt;dbl&gt; |\n",
       "|---|---|---|---|---|---|---|---|---|---|\n",
       "| <!----> | 0.7933273 | 0.7959055 | 0.8251513 | 0.3277137 | 3.899692 | 0.02097348 | 3.90841 | 0.7936059 | 0.3527311 |\n",
       "\n",
       "\n",
       "$total\n",
       ":   \n",
       "A data.frame: 1 × 9\n",
       "\n",
       "| <!--/--> | raw_alpha &lt;dbl&gt; | std.alpha &lt;dbl&gt; | G6(smc) &lt;dbl&gt; | average_r &lt;dbl&gt; | S/N &lt;dbl&gt; | ase &lt;dbl&gt; | mean &lt;dbl&gt; | sd &lt;dbl&gt; | median_r &lt;dbl&gt; |\n",
       "|---|---|---|---|---|---|---|---|---|---|\n",
       "| <!----> | 0.8044687 | 0.7973947 | 0.8286105 | 0.3297422 | 3.935706 | 0.01946025 | 3.324885 | 0.8309044 | 0.2937944 |\n",
       "\n",
       "\n",
       "$total\n",
       ":   \n",
       "A data.frame: 1 × 9\n",
       "\n",
       "| <!--/--> | raw_alpha &lt;dbl&gt; | std.alpha &lt;dbl&gt; | G6(smc) &lt;dbl&gt; | average_r &lt;dbl&gt; | S/N &lt;dbl&gt; | ase &lt;dbl&gt; | mean &lt;dbl&gt; | sd &lt;dbl&gt; | median_r &lt;dbl&gt; |\n",
       "|---|---|---|---|---|---|---|---|---|---|\n",
       "| <!----> | 0.6963302 | 0.742815 | 0.7819283 | 0.2240996 | 2.888252 | 0.02972911 | 4.189401 | 0.5780139 | 0.3380083 |\n",
       "\n",
       "\n",
       "\n",
       "\n"
      ],
      "text/plain": [
       "$total\n",
       " raw_alpha std.alpha   G6(smc) average_r     S/N        ase     mean        sd\n",
       " 0.6031809 0.6227383 0.6655083 0.1549835 1.65068 0.04049668 4.335893 0.5576547\n",
       "  median_r\n",
       " 0.1209198\n",
       "\n",
       "$total\n",
       " raw_alpha std.alpha   G6(smc) average_r      S/N        ase     mean        sd\n",
       " 0.7430653 0.7511965 0.7966806 0.2512004 3.019236 0.02631023 3.994368 0.6537869\n",
       "  median_r\n",
       " 0.2668945\n",
       "\n",
       "$total\n",
       " raw_alpha std.alpha   G6(smc) average_r      S/N        ase    mean        sd\n",
       " 0.7933273 0.7959055 0.8251513 0.3277137 3.899692 0.02097348 3.90841 0.7936059\n",
       "  median_r\n",
       " 0.3527311\n",
       "\n",
       "$total\n",
       " raw_alpha std.alpha   G6(smc) average_r      S/N        ase     mean        sd\n",
       " 0.8044687 0.7973947 0.8286105 0.3297422 3.935706 0.01946025 3.324885 0.8309044\n",
       "  median_r\n",
       " 0.2937944\n",
       "\n",
       "$total\n",
       " raw_alpha std.alpha   G6(smc) average_r      S/N        ase     mean        sd\n",
       " 0.6963302  0.742815 0.7819283 0.2240996 2.888252 0.02972911 4.189401 0.5780139\n",
       "  median_r\n",
       " 0.3380083\n"
      ]
     },
     "metadata": {},
     "output_type": "display_data"
    }
   ],
   "source": [
    "indikator <- c('Agr','Con', 'Ext', 'Neu', 'Ope')\n",
    "X_var <- BFI\n",
    "options(repr.plot.width =8, repr.plot.height = 6, repr.plot.res = 350)\n",
    "par(mfrow = c(2,3))\n",
    "\n",
    "sapply(1:5, function(x) alpha(X_var[, grep(indikator[x], names(X_var)), drop=FALSE])[1])"
   ]
  },
  {
   "cell_type": "raw",
   "id": "69ac69b4",
   "metadata": {},
   "source": [
    "indikator <- c('Agr','Con', 'Ext', 'Neu', 'Ope')\n",
    "X_var <- BFI\n",
    "options(repr.plot.width =8, repr.plot.height = 6, repr.plot.res = 350)\n",
    "par(mfrow = c(2,3))\n",
    "\n",
    "for (x in 1:5){\n",
    "data <-  X_var[, grep(indikator[x], names(X_var)), drop=FALSE] \n",
    "corrplot(cor(data, use=\"complete.obs\"), order = \"hclust\", method = 'circle', insig='blank',\n",
    "         addCoef.col ='black', number.cex = 0.8) \n",
    "}"
   ]
  },
  {
   "cell_type": "raw",
   "id": "3e8c403b",
   "metadata": {
    "scrolled": false
   },
   "source": [
    "# for (x in 1:5){\n",
    "print(X_var[, grep(indikator[x], names(X_var)), drop=FALSE]  %>% alpha)\n",
    "}"
   ]
  },
  {
   "cell_type": "raw",
   "id": "e56b96d1",
   "metadata": {},
   "source": [
    "par(mfrow = c(3,2))\n",
    "\n",
    "options(repr.plot.width =6, repr.plot.height = 8, repr.plot.res = 350)\n",
    "\n",
    "for (x in 1:5){\n",
    "data <- X_var[, grep(indikator[x], names(X_var)), drop=FALSE] \n",
    "corrplot(cor(data, use=\"complete.obs\"), order = \"hclust\", tl.col='black', tl.cex=.75) \n",
    "}"
   ]
  },
  {
   "cell_type": "code",
   "execution_count": 11,
   "id": "629b0f67",
   "metadata": {},
   "outputs": [
    {
     "data": {
      "text/html": [
       "<table class=\"dataframe\">\n",
       "<caption>A data.frame: 6 × 5</caption>\n",
       "<thead>\n",
       "\t<tr><th></th><th scope=col>Agr</th><th scope=col>Con</th><th scope=col>Ext</th><th scope=col>Neu</th><th scope=col>Ope</th></tr>\n",
       "\t<tr><th></th><th scope=col>&lt;dbl&gt;</th><th scope=col>&lt;dbl&gt;</th><th scope=col>&lt;dbl&gt;</th><th scope=col>&lt;dbl&gt;</th><th scope=col>&lt;dbl&gt;</th></tr>\n",
       "</thead>\n",
       "<tbody>\n",
       "\t<tr><th scope=row>212</th><td>33</td><td>36</td><td>31</td><td>35</td><td>34</td></tr>\n",
       "\t<tr><th scope=row>213</th><td>40</td><td>33</td><td>20</td><td>30</td><td>44</td></tr>\n",
       "\t<tr><th scope=row>214</th><td>34</td><td>28</td><td>23</td><td>29</td><td>33</td></tr>\n",
       "\t<tr><th scope=row>215</th><td>34</td><td>38</td><td>30</td><td>32</td><td>33</td></tr>\n",
       "\t<tr><th scope=row>216</th><td>42</td><td>36</td><td>39</td><td>29</td><td>46</td></tr>\n",
       "\t<tr><th scope=row>217</th><td>37</td><td>36</td><td>38</td><td>18</td><td>42</td></tr>\n",
       "</tbody>\n",
       "</table>\n"
      ],
      "text/latex": [
       "A data.frame: 6 × 5\n",
       "\\begin{tabular}{r|lllll}\n",
       "  & Agr & Con & Ext & Neu & Ope\\\\\n",
       "  & <dbl> & <dbl> & <dbl> & <dbl> & <dbl>\\\\\n",
       "\\hline\n",
       "\t212 & 33 & 36 & 31 & 35 & 34\\\\\n",
       "\t213 & 40 & 33 & 20 & 30 & 44\\\\\n",
       "\t214 & 34 & 28 & 23 & 29 & 33\\\\\n",
       "\t215 & 34 & 38 & 30 & 32 & 33\\\\\n",
       "\t216 & 42 & 36 & 39 & 29 & 46\\\\\n",
       "\t217 & 37 & 36 & 38 & 18 & 42\\\\\n",
       "\\end{tabular}\n"
      ],
      "text/markdown": [
       "\n",
       "A data.frame: 6 × 5\n",
       "\n",
       "| <!--/--> | Agr &lt;dbl&gt; | Con &lt;dbl&gt; | Ext &lt;dbl&gt; | Neu &lt;dbl&gt; | Ope &lt;dbl&gt; |\n",
       "|---|---|---|---|---|---|\n",
       "| 212 | 33 | 36 | 31 | 35 | 34 |\n",
       "| 213 | 40 | 33 | 20 | 30 | 44 |\n",
       "| 214 | 34 | 28 | 23 | 29 | 33 |\n",
       "| 215 | 34 | 38 | 30 | 32 | 33 |\n",
       "| 216 | 42 | 36 | 39 | 29 | 46 |\n",
       "| 217 | 37 | 36 | 38 | 18 | 42 |\n",
       "\n"
      ],
      "text/plain": [
       "    Agr Con Ext Neu Ope\n",
       "212 33  36  31  35  34 \n",
       "213 40  33  20  30  44 \n",
       "214 34  28  23  29  33 \n",
       "215 34  38  30  32  33 \n",
       "216 42  36  39  29  46 \n",
       "217 37  36  38  18  42 "
      ]
     },
     "metadata": {},
     "output_type": "display_data"
    }
   ],
   "source": [
    "bfi_sums <- sapply(1:5, function(x) X_var[, grep(indikator[x], names(X_var)), drop=FALSE]  %>% rowSums )  %>% data.frame\n",
    "names(bfi_sums) <- indikator\n",
    "bfi_sums  %>% tail()"
   ]
  },
  {
   "cell_type": "markdown",
   "id": "5ee46799",
   "metadata": {},
   "source": [
    "## 2.1.2 Clustering"
   ]
  },
  {
   "cell_type": "raw",
   "id": "25adec0c",
   "metadata": {},
   "source": [
    "df <- bfi_sums\n",
    "library(factoextra)"
   ]
  },
  {
   "cell_type": "raw",
   "id": "0f1b1197",
   "metadata": {},
   "source": [
    "options(repr.plot.width =4, repr.plot.height = 4, repr.plot.res = 250)\n",
    "fviz_nbclust(df, kmeans, method = \"wss\") +\n",
    "geom_vline(xintercept = 4, linetype = 2)"
   ]
  },
  {
   "cell_type": "raw",
   "id": "7246c0a8",
   "metadata": {},
   "source": [
    "# Compute k-means with k = 5\n",
    "set.seed(123)\n",
    "km.res <- kmeans(df, 4, nstart = 55)"
   ]
  },
  {
   "cell_type": "raw",
   "id": "ead309a5",
   "metadata": {},
   "source": [
    "options(repr.plot.width =9, repr.plot.height = 6, repr.plot.res = 250)\n",
    "fviz_cluster(km.res, data = df,\n",
    "             palette = c(\"#2E9FDF\", \"green3\", \"#E7B800\", \"#FC4E07\", 'magenta'),\n",
    "             ellipse.type = \"euclid\", # Concentration ellipse\n",
    "             star.plot = TRUE, # Add segments from centroids to items\n",
    "             repel = TRUE, # Avoid label overplotting (slow)\n",
    "ggtheme = theme_minimal()\n",
    ")"
   ]
  },
  {
   "cell_type": "raw",
   "id": "125992d3",
   "metadata": {},
   "source": [
    "set.seed(123)\n",
    "\n",
    "BFI_Class <- km.res$cluster\n",
    "prop.table(table(BFI_Class)) %>% round(4)*100"
   ]
  },
  {
   "cell_type": "raw",
   "id": "48401870",
   "metadata": {},
   "source": [
    "set.seed(123)\n",
    "\n",
    "PCA_Stamps <- prcomp(bfi_sums, scale = TRUE, center = TRUE) # apply prcomp() from stats package \n",
    "get_eigenvalue(PCA_Stamps)"
   ]
  },
  {
   "cell_type": "raw",
   "id": "dbb16b1f",
   "metadata": {},
   "source": [
    "PCA_Components_Stamps = data.frame(PCA_Stamps$x[, 1:3])\n",
    "PC1 <- PCA_Components_Stamps$PC1\n",
    "PC2 <- PCA_Components_Stamps$PC2\n",
    "PC3 <- PCA_Components_Stamps$PC3"
   ]
  },
  {
   "cell_type": "raw",
   "id": "0d6b1918",
   "metadata": {},
   "source": [
    "x <- PCA_Components_Stamps[,1] # define x axis\n",
    "y <- PCA_Components_Stamps[,2] # define y axis\n",
    "z <- PCA_Components_Stamps[,3] # define z axis"
   ]
  },
  {
   "cell_type": "raw",
   "id": "9699e0b2",
   "metadata": {},
   "source": [
    "options(repr.plot.width =6, repr.plot.height = 9, repr.plot.res = 250)\n",
    "\n",
    "\n",
    "# Scatter-plot observations by PCA components 1 and 2:\n",
    "plot1 = ggplot(PCA_Components_Stamps, aes(PC1, PC2)) +\n",
    "  geom_point(aes(colour = factor(BFI_Class))) + \n",
    "scale_color_manual( values =c(\"#2E9FDF\", \"green3\", \"#E7B800\", \"#FC4E07\", 'magenta')) + theme_minimal()\n",
    "\n",
    "# Scatter-plot observations by PCA components 1 and 3:\n",
    "plot2 = ggplot(PCA_Components_Stamps, aes(PC1, PC3)) +\n",
    "  geom_point(aes(colour = factor(BFI_Class)))+\n",
    "scale_color_manual( values =c(\"#2E9FDF\", \"green3\", \"#E7B800\", \"#FC4E07\", 'magenta')) + theme_minimal()\n",
    "\n",
    "\n",
    "# Scatter-plot observations by PCA components 2 and 3:\n",
    "plot3 = ggplot(PCA_Components_Stamps, aes(PC2, PC3)) +\n",
    "  geom_point(aes(colour = factor(BFI_Class)))+\n",
    "scale_color_manual( values =c(\"#2E9FDF\", \"green3\", \"#E7B800\", \"#FC4E07\", 'magenta')) + theme_minimal()\n",
    "\n",
    "\n",
    "grid.arrange(plot1, plot2, plot3, ncol = 1) # set up the grid"
   ]
  },
  {
   "cell_type": "raw",
   "id": "3875b17f",
   "metadata": {},
   "source": [
    "set.seed(123)\n",
    "\n",
    "scatter3D(x, y, z, pch = 20, col =  c(\"#2E9FDF\", \"green3\", \"#E7B800\", \"#FC4E07\"), colvar = BFI_Class, phi = 120,\n",
    "          theta = 360, bty = \"f\", \n",
    "          xlab = \"PC1\",\n",
    "          ylab = \"PC2\",\n",
    "          zlab = \"PC3\")"
   ]
  },
  {
   "cell_type": "raw",
   "id": "64b7e7ff",
   "metadata": {},
   "source": [
    "library( rgl )\n",
    "library(magick)\n",
    "\n",
    "set.seed(123)\n",
    "\n",
    "\n",
    "# This is ugly\n",
    "colors <- c(\"#2E9FDF\", \"green3\", \"#E7B800\", \"#FC4E07\", 'magenta')\n",
    "the_color <- colors[ as.numeric( as.factor(BFI_Class) ) ]\n",
    "\n",
    "# Static chart\n",
    "plot3d( x, y, z, col = BFI_Class, type = \"s\", radius = .2 )"
   ]
  },
  {
   "cell_type": "raw",
   "id": "0a8df76f",
   "metadata": {},
   "source": [
    "# We can indicate the axis and the rotation velocity\n",
    "play3d( spin3d( axis = c(0, 0, 1), rpm = 20), duration = 10 )"
   ]
  },
  {
   "cell_type": "raw",
   "id": "03931497",
   "metadata": {},
   "source": [
    "movie3d(\n",
    "  movie=\"3dAnimatedScatterplot\", webshot = FALSE,\n",
    "  spin3d( axis = c(0, 0, 1), rpm = 7),\n",
    "  duration = 10, \n",
    "    dir =  getwd(),\n",
    "  type = \"gif\", \n",
    "  clean = TRUE\n",
    ")"
   ]
  },
  {
   "cell_type": "raw",
   "id": "32aa6cbe",
   "metadata": {},
   "source": [
    "#call the rgl library\n",
    "library(rgl)\n",
    " \n",
    "#Adjust the size of the window\n",
    "par3d(windowRect=c(0,0,500,500))"
   ]
  },
  {
   "cell_type": "raw",
   "id": "29b1862c",
   "metadata": {},
   "source": [
    "Komponen_1 <-x\n",
    "Komponen_2  <-y\n",
    "Komponen_3 <-z"
   ]
  },
  {
   "cell_type": "raw",
   "id": "851ea776",
   "metadata": {},
   "source": [
    "plot3d(Komponen_1,Komponen_2 ,Komponen_3 ,col=the_color, size=2, type='s', alpha=0.75)"
   ]
  },
  {
   "cell_type": "raw",
   "id": "500c48c2",
   "metadata": {},
   "source": [
    "require(installr)\n",
    "install.ImageMagick()\n",
    "\n",
    "#Create a spinning movie of your plot\n",
    "movie3d(spin3d(axis = c(0, 0, 1)), duration = 25,\n",
    " dir = getwd())"
   ]
  },
  {
   "cell_type": "raw",
   "id": "518b5a31",
   "metadata": {},
   "source": [
    "bfi_sums$cluster <- BFI_Class\n",
    "df <- bfi_sums  \n",
    "\n",
    "summary_df <- df %>%\n",
    "  group_by(cluster) %>%\n",
    "  summarise(across(Agr:Ope, mean, .names = \"{.col}\"))\n",
    "\n",
    "summary_df  %>% t"
   ]
  },
  {
   "cell_type": "raw",
   "id": "79aa7d05",
   "metadata": {},
   "source": [
    "summary_df <- df %>%\n",
    "  group_by(cluster) %>%\n",
    "  summarise(across(Agr:Ope, SD, .names = \"{.col}\"))\n",
    "\n",
    "summary_df  %>% t"
   ]
  },
  {
   "cell_type": "markdown",
   "id": "94e22e2d",
   "metadata": {},
   "source": [
    "## 2.2 SME"
   ]
  },
  {
   "cell_type": "code",
   "execution_count": 12,
   "id": "5787a5a7",
   "metadata": {},
   "outputs": [
    {
     "data": {
      "text/html": [
       "<table class=\"dataframe\">\n",
       "<caption>A psych: 5 × 13</caption>\n",
       "<thead>\n",
       "\t<tr><th></th><th scope=col>vars</th><th scope=col>n</th><th scope=col>mean</th><th scope=col>sd</th><th scope=col>median</th><th scope=col>trimmed</th><th scope=col>mad</th><th scope=col>min</th><th scope=col>max</th><th scope=col>range</th><th scope=col>skew</th><th scope=col>kurtosis</th><th scope=col>se</th></tr>\n",
       "\t<tr><th></th><th scope=col>&lt;int&gt;</th><th scope=col>&lt;dbl&gt;</th><th scope=col>&lt;dbl&gt;</th><th scope=col>&lt;dbl&gt;</th><th scope=col>&lt;dbl&gt;</th><th scope=col>&lt;dbl&gt;</th><th scope=col>&lt;dbl&gt;</th><th scope=col>&lt;dbl&gt;</th><th scope=col>&lt;dbl&gt;</th><th scope=col>&lt;dbl&gt;</th><th scope=col>&lt;dbl&gt;</th><th scope=col>&lt;dbl&gt;</th><th scope=col>&lt;dbl&gt;</th></tr>\n",
       "</thead>\n",
       "<tbody>\n",
       "\t<tr><th scope=row>SME_05</th><td>1</td><td>217</td><td>3.861751</td><td>0.8273466</td><td>4</td><td>3.862857</td><td>1.4826</td><td>2</td><td>5</td><td>3</td><td>-0.03340578</td><td>-0.9867480</td><td>0.05616395</td></tr>\n",
       "\t<tr><th scope=row>SME_06</th><td>2</td><td>217</td><td>2.391705</td><td>0.7381943</td><td>2</td><td>2.411429</td><td>1.4826</td><td>1</td><td>5</td><td>4</td><td> 0.20209521</td><td> 0.1331155</td><td>0.05011190</td></tr>\n",
       "\t<tr><th scope=row>SME_07</th><td>3</td><td>217</td><td>3.534562</td><td>1.1586846</td><td>4</td><td>3.605714</td><td>1.4826</td><td>1</td><td>5</td><td>4</td><td>-0.43903489</td><td>-0.7348361</td><td>0.07865663</td></tr>\n",
       "\t<tr><th scope=row>SME_08</th><td>4</td><td>217</td><td>4.562212</td><td>0.9164397</td><td>5</td><td>4.788571</td><td>0.0000</td><td>1</td><td>5</td><td>4</td><td>-2.12269480</td><td> 3.6479804</td><td>0.06221198</td></tr>\n",
       "\t<tr><th scope=row>SME_09</th><td>5</td><td>217</td><td>3.451613</td><td>0.7127864</td><td>3</td><td>3.468571</td><td>1.4826</td><td>1</td><td>5</td><td>4</td><td>-0.36483098</td><td> 0.9002780</td><td>0.04838710</td></tr>\n",
       "</tbody>\n",
       "</table>\n"
      ],
      "text/latex": [
       "A psych: 5 × 13\n",
       "\\begin{tabular}{r|lllllllllllll}\n",
       "  & vars & n & mean & sd & median & trimmed & mad & min & max & range & skew & kurtosis & se\\\\\n",
       "  & <int> & <dbl> & <dbl> & <dbl> & <dbl> & <dbl> & <dbl> & <dbl> & <dbl> & <dbl> & <dbl> & <dbl> & <dbl>\\\\\n",
       "\\hline\n",
       "\tSME\\_05 & 1 & 217 & 3.861751 & 0.8273466 & 4 & 3.862857 & 1.4826 & 2 & 5 & 3 & -0.03340578 & -0.9867480 & 0.05616395\\\\\n",
       "\tSME\\_06 & 2 & 217 & 2.391705 & 0.7381943 & 2 & 2.411429 & 1.4826 & 1 & 5 & 4 &  0.20209521 &  0.1331155 & 0.05011190\\\\\n",
       "\tSME\\_07 & 3 & 217 & 3.534562 & 1.1586846 & 4 & 3.605714 & 1.4826 & 1 & 5 & 4 & -0.43903489 & -0.7348361 & 0.07865663\\\\\n",
       "\tSME\\_08 & 4 & 217 & 4.562212 & 0.9164397 & 5 & 4.788571 & 0.0000 & 1 & 5 & 4 & -2.12269480 &  3.6479804 & 0.06221198\\\\\n",
       "\tSME\\_09 & 5 & 217 & 3.451613 & 0.7127864 & 3 & 3.468571 & 1.4826 & 1 & 5 & 4 & -0.36483098 &  0.9002780 & 0.04838710\\\\\n",
       "\\end{tabular}\n"
      ],
      "text/markdown": [
       "\n",
       "A psych: 5 × 13\n",
       "\n",
       "| <!--/--> | vars &lt;int&gt; | n &lt;dbl&gt; | mean &lt;dbl&gt; | sd &lt;dbl&gt; | median &lt;dbl&gt; | trimmed &lt;dbl&gt; | mad &lt;dbl&gt; | min &lt;dbl&gt; | max &lt;dbl&gt; | range &lt;dbl&gt; | skew &lt;dbl&gt; | kurtosis &lt;dbl&gt; | se &lt;dbl&gt; |\n",
       "|---|---|---|---|---|---|---|---|---|---|---|---|---|---|\n",
       "| SME_05 | 1 | 217 | 3.861751 | 0.8273466 | 4 | 3.862857 | 1.4826 | 2 | 5 | 3 | -0.03340578 | -0.9867480 | 0.05616395 |\n",
       "| SME_06 | 2 | 217 | 2.391705 | 0.7381943 | 2 | 2.411429 | 1.4826 | 1 | 5 | 4 |  0.20209521 |  0.1331155 | 0.05011190 |\n",
       "| SME_07 | 3 | 217 | 3.534562 | 1.1586846 | 4 | 3.605714 | 1.4826 | 1 | 5 | 4 | -0.43903489 | -0.7348361 | 0.07865663 |\n",
       "| SME_08 | 4 | 217 | 4.562212 | 0.9164397 | 5 | 4.788571 | 0.0000 | 1 | 5 | 4 | -2.12269480 |  3.6479804 | 0.06221198 |\n",
       "| SME_09 | 5 | 217 | 3.451613 | 0.7127864 | 3 | 3.468571 | 1.4826 | 1 | 5 | 4 | -0.36483098 |  0.9002780 | 0.04838710 |\n",
       "\n"
      ],
      "text/plain": [
       "       vars n   mean     sd        median trimmed  mad    min max range\n",
       "SME_05 1    217 3.861751 0.8273466 4      3.862857 1.4826 2   5   3    \n",
       "SME_06 2    217 2.391705 0.7381943 2      2.411429 1.4826 1   5   4    \n",
       "SME_07 3    217 3.534562 1.1586846 4      3.605714 1.4826 1   5   4    \n",
       "SME_08 4    217 4.562212 0.9164397 5      4.788571 0.0000 1   5   4    \n",
       "SME_09 5    217 3.451613 0.7127864 3      3.468571 1.4826 1   5   4    \n",
       "       skew        kurtosis   se        \n",
       "SME_05 -0.03340578 -0.9867480 0.05616395\n",
       "SME_06  0.20209521  0.1331155 0.05011190\n",
       "SME_07 -0.43903489 -0.7348361 0.07865663\n",
       "SME_08 -2.12269480  3.6479804 0.06221198\n",
       "SME_09 -0.36483098  0.9002780 0.04838710"
      ]
     },
     "metadata": {},
     "output_type": "display_data"
    }
   ],
   "source": [
    "SME  %>% describe"
   ]
  },
  {
   "cell_type": "raw",
   "id": "7cf5f714",
   "metadata": {},
   "source": [
    "options(repr.plot.width =4, repr.plot.height = 4 ,repr.plot.res = 250)\n",
    "\n",
    "plot(princals(SME), main='SME Loadings')"
   ]
  },
  {
   "cell_type": "raw",
   "id": "048f8b06",
   "metadata": {},
   "source": [
    "options(repr.plot.width =7, repr.plot.height =6 ,repr.plot.res = 250)\n",
    "\n",
    "corrplot(cor(SME, use=\"complete.obs\"), order = \"hclust\", method = 'circle', insig='blank',\n",
    "         addCoef.col ='black', number.cex = 0.8) "
   ]
  },
  {
   "cell_type": "raw",
   "id": "35c4da95",
   "metadata": {},
   "source": [
    "SME  %>% alpha"
   ]
  },
  {
   "cell_type": "markdown",
   "id": "cbeabc9a",
   "metadata": {},
   "source": [
    "# 2.3 SMC"
   ]
  },
  {
   "cell_type": "code",
   "execution_count": 13,
   "id": "6ff0cfe1",
   "metadata": {},
   "outputs": [
    {
     "data": {
      "text/html": [
       "<table class=\"dataframe\">\n",
       "<caption>A data.frame: 4 × 3</caption>\n",
       "<thead>\n",
       "\t<tr><th></th><th scope=col>CU</th><th scope=col>SU</th><th scope=col>HU</th></tr>\n",
       "\t<tr><th></th><th scope=col>&lt;named list&gt;</th><th scope=col>&lt;named list&gt;</th><th scope=col>&lt;named list&gt;</th></tr>\n",
       "</thead>\n",
       "<tbody>\n",
       "\t<tr><th scope=row>Mean</th><td>4.22765</td><td>4.311521</td><td>5.023041</td></tr>\n",
       "\t<tr><th scope=row>SD</th><td>1.315803</td><td>1.22877</td><td>1.027611</td></tr>\n",
       "\t<tr><th scope=row>Skewness</th><td>-0.9287145</td><td>-0.885451</td><td>-1.542936</td></tr>\n",
       "\t<tr><th scope=row>Kurtosis</th><td>0.1274294</td><td>0.3070504</td><td>3.191917</td></tr>\n",
       "</tbody>\n",
       "</table>\n"
      ],
      "text/latex": [
       "A data.frame: 4 × 3\n",
       "\\begin{tabular}{r|lll}\n",
       "  & CU & SU & HU\\\\\n",
       "  & <named list> & <named list> & <named list>\\\\\n",
       "\\hline\n",
       "\tMean & 4.22765 & 4.311521 & 5.023041\\\\\n",
       "\tSD & 1.315803 & 1.22877 & 1.027611\\\\\n",
       "\tSkewness & -0.9287145 & -0.885451 & -1.542936\\\\\n",
       "\tKurtosis & 0.1274294 & 0.3070504 & 3.191917\\\\\n",
       "\\end{tabular}\n"
      ],
      "text/markdown": [
       "\n",
       "A data.frame: 4 × 3\n",
       "\n",
       "| <!--/--> | CU &lt;named list&gt; | SU &lt;named list&gt; | HU &lt;named list&gt; |\n",
       "|---|---|---|---|\n",
       "| Mean | 4.22765 | 4.311521 | 5.023041 |\n",
       "| SD | 1.315803 | 1.22877 | 1.027611 |\n",
       "| Skewness | -0.9287145 | -0.885451 | -1.542936 |\n",
       "| Kurtosis | 0.1274294 | 0.3070504 | 3.191917 |\n",
       "\n"
      ],
      "text/plain": [
       "         CU         SU        HU       \n",
       "Mean     4.22765    4.311521  5.023041 \n",
       "SD       1.315803   1.22877   1.027611 \n",
       "Skewness -0.9287145 -0.885451 -1.542936\n",
       "Kurtosis 0.1274294  0.3070504 3.191917 "
      ]
     },
     "metadata": {},
     "output_type": "display_data"
    }
   ],
   "source": [
    "indikator <- c('CU','SU', 'HU')\n",
    "X_var <- SMC\n",
    "k <- sapply(1:3, function(x){\n",
    "    data <- X_var[, grep(indikator[x], names(X_var))]   %>% unlist \n",
    "    data.frame(Mean=data  %>% mean, \n",
    "               SD = data  %>% sd,\n",
    "              Skewness = data  %>% skewness,\n",
    "              Kurtosis = data  %>% Kurtosis ) \n",
    "    \n",
    "})  \n",
    "k <- as.data.frame(k)\n",
    "names(k)<-indikator\n",
    "k"
   ]
  },
  {
   "cell_type": "raw",
   "id": "4acdfdd2",
   "metadata": {
    "scrolled": false
   },
   "source": [
    "\n",
    "options(repr.plot.width =7, repr.plot.height = 3, repr.plot.res = 350)\n",
    "par(mfrow = c(1,3))\n",
    "\n",
    "for (x in 1:3){\n",
    "plot(princals( X_var[, grep(indikator[x], names(X_var)), drop=FALSE] %>% as.matrix), main=paste0(indikator[x], \" Loadings\"))\n",
    "abline(v=0, lwd=2, col='red', lty='dashed')\n",
    "abline(h=0, lwd=2, col='red', lty='dashed');\n",
    "}"
   ]
  },
  {
   "cell_type": "raw",
   "id": "5ce528c6",
   "metadata": {},
   "source": [
    "indikator <- c('CU','HU', 'SU')\n",
    "X_var <- SMC\n",
    "options(repr.plot.width =8, repr.plot.height = 6, repr.plot.res = 350)\n",
    "\n",
    "sapply(1:3, function(x) alpha(X_var[, grep(indikator[x], names(X_var)), drop=FALSE])[1])"
   ]
  },
  {
   "cell_type": "raw",
   "id": "b9fb6d05",
   "metadata": {},
   "source": [
    "par(mfrow = c(2,2))\n",
    "\n",
    "options(repr.plot.width =9, repr.plot.height = 8, repr.plot.res = 350)\n",
    "\n",
    "for (x in 1:3){\n",
    "data <- X_var[, grep(indikator[x], names(X_var)), drop=FALSE] \n",
    "corrplot(cor(data, use=\"complete.obs\"), order = \"hclust\", method = 'circle', insig='blank',\n",
    "         addCoef.col ='black', number.cex = 0.8) \n",
    "}"
   ]
  },
  {
   "cell_type": "raw",
   "id": "49204951",
   "metadata": {
    "scrolled": false
   },
   "source": [
    "for (x in 1:3){\n",
    "data <- X_var[, grep(indikator[x], names(X_var)), drop=FALSE] \n",
    "print(data  %>% alpha)\n",
    "}"
   ]
  },
  {
   "cell_type": "markdown",
   "id": "26f11eaf",
   "metadata": {},
   "source": [
    "# 2.4 QOL"
   ]
  },
  {
   "cell_type": "code",
   "execution_count": 14,
   "id": "3c4ff9d2",
   "metadata": {},
   "outputs": [
    {
     "data": {
      "text/html": [
       "<table class=\"dataframe\">\n",
       "<caption>A data.frame: 6 × 16</caption>\n",
       "<thead>\n",
       "\t<tr><th></th><th scope=col>QOL_01</th><th scope=col>QOL_02</th><th scope=col>QOL_03</th><th scope=col>QOL_04</th><th scope=col>QOL_05</th><th scope=col>QOL_06</th><th scope=col>QOL_07</th><th scope=col>QOL_08</th><th scope=col>QOL_09</th><th scope=col>QOL_10</th><th scope=col>QOL_11</th><th scope=col>QOL_12</th><th scope=col>QOL_13</th><th scope=col>QOL_14</th><th scope=col>QOL_15</th><th scope=col>QOL_16</th></tr>\n",
       "\t<tr><th></th><th scope=col>&lt;dbl&gt;</th><th scope=col>&lt;dbl&gt;</th><th scope=col>&lt;dbl&gt;</th><th scope=col>&lt;dbl&gt;</th><th scope=col>&lt;dbl&gt;</th><th scope=col>&lt;dbl&gt;</th><th scope=col>&lt;dbl&gt;</th><th scope=col>&lt;dbl&gt;</th><th scope=col>&lt;dbl&gt;</th><th scope=col>&lt;dbl&gt;</th><th scope=col>&lt;dbl&gt;</th><th scope=col>&lt;dbl&gt;</th><th scope=col>&lt;dbl&gt;</th><th scope=col>&lt;dbl&gt;</th><th scope=col>&lt;dbl&gt;</th><th scope=col>&lt;dbl&gt;</th></tr>\n",
       "</thead>\n",
       "<tbody>\n",
       "\t<tr><th scope=row>1</th><td>5</td><td>5</td><td>5</td><td>5</td><td>5</td><td>5</td><td>5</td><td>5</td><td>5</td><td>5</td><td>5</td><td>5</td><td>5</td><td>5</td><td>5</td><td>5</td></tr>\n",
       "\t<tr><th scope=row>2</th><td>4</td><td>5</td><td>5</td><td>5</td><td>4</td><td>5</td><td>5</td><td>3</td><td>5</td><td>5</td><td>5</td><td>5</td><td>5</td><td>5</td><td>4</td><td>4</td></tr>\n",
       "\t<tr><th scope=row>3</th><td>3</td><td>3</td><td>3</td><td>3</td><td>3</td><td>3</td><td>3</td><td>2</td><td>3</td><td>3</td><td>1</td><td>2</td><td>2</td><td>3</td><td>3</td><td>1</td></tr>\n",
       "\t<tr><th scope=row>4</th><td>3</td><td>3</td><td>3</td><td>3</td><td>1</td><td>2</td><td>2</td><td>3</td><td>2</td><td>3</td><td>2</td><td>3</td><td>3</td><td>3</td><td>3</td><td>3</td></tr>\n",
       "\t<tr><th scope=row>5</th><td>5</td><td>5</td><td>5</td><td>5</td><td>5</td><td>5</td><td>5</td><td>5</td><td>5</td><td>5</td><td>3</td><td>5</td><td>6</td><td>5</td><td>5</td><td>5</td></tr>\n",
       "\t<tr><th scope=row>6</th><td>4</td><td>4</td><td>4</td><td>4</td><td>4</td><td>4</td><td>4</td><td>4</td><td>4</td><td>5</td><td>4</td><td>5</td><td>4</td><td>5</td><td>4</td><td>6</td></tr>\n",
       "</tbody>\n",
       "</table>\n"
      ],
      "text/latex": [
       "A data.frame: 6 × 16\n",
       "\\begin{tabular}{r|llllllllllllllll}\n",
       "  & QOL\\_01 & QOL\\_02 & QOL\\_03 & QOL\\_04 & QOL\\_05 & QOL\\_06 & QOL\\_07 & QOL\\_08 & QOL\\_09 & QOL\\_10 & QOL\\_11 & QOL\\_12 & QOL\\_13 & QOL\\_14 & QOL\\_15 & QOL\\_16\\\\\n",
       "  & <dbl> & <dbl> & <dbl> & <dbl> & <dbl> & <dbl> & <dbl> & <dbl> & <dbl> & <dbl> & <dbl> & <dbl> & <dbl> & <dbl> & <dbl> & <dbl>\\\\\n",
       "\\hline\n",
       "\t1 & 5 & 5 & 5 & 5 & 5 & 5 & 5 & 5 & 5 & 5 & 5 & 5 & 5 & 5 & 5 & 5\\\\\n",
       "\t2 & 4 & 5 & 5 & 5 & 4 & 5 & 5 & 3 & 5 & 5 & 5 & 5 & 5 & 5 & 4 & 4\\\\\n",
       "\t3 & 3 & 3 & 3 & 3 & 3 & 3 & 3 & 2 & 3 & 3 & 1 & 2 & 2 & 3 & 3 & 1\\\\\n",
       "\t4 & 3 & 3 & 3 & 3 & 1 & 2 & 2 & 3 & 2 & 3 & 2 & 3 & 3 & 3 & 3 & 3\\\\\n",
       "\t5 & 5 & 5 & 5 & 5 & 5 & 5 & 5 & 5 & 5 & 5 & 3 & 5 & 6 & 5 & 5 & 5\\\\\n",
       "\t6 & 4 & 4 & 4 & 4 & 4 & 4 & 4 & 4 & 4 & 5 & 4 & 5 & 4 & 5 & 4 & 6\\\\\n",
       "\\end{tabular}\n"
      ],
      "text/markdown": [
       "\n",
       "A data.frame: 6 × 16\n",
       "\n",
       "| <!--/--> | QOL_01 &lt;dbl&gt; | QOL_02 &lt;dbl&gt; | QOL_03 &lt;dbl&gt; | QOL_04 &lt;dbl&gt; | QOL_05 &lt;dbl&gt; | QOL_06 &lt;dbl&gt; | QOL_07 &lt;dbl&gt; | QOL_08 &lt;dbl&gt; | QOL_09 &lt;dbl&gt; | QOL_10 &lt;dbl&gt; | QOL_11 &lt;dbl&gt; | QOL_12 &lt;dbl&gt; | QOL_13 &lt;dbl&gt; | QOL_14 &lt;dbl&gt; | QOL_15 &lt;dbl&gt; | QOL_16 &lt;dbl&gt; |\n",
       "|---|---|---|---|---|---|---|---|---|---|---|---|---|---|---|---|---|\n",
       "| 1 | 5 | 5 | 5 | 5 | 5 | 5 | 5 | 5 | 5 | 5 | 5 | 5 | 5 | 5 | 5 | 5 |\n",
       "| 2 | 4 | 5 | 5 | 5 | 4 | 5 | 5 | 3 | 5 | 5 | 5 | 5 | 5 | 5 | 4 | 4 |\n",
       "| 3 | 3 | 3 | 3 | 3 | 3 | 3 | 3 | 2 | 3 | 3 | 1 | 2 | 2 | 3 | 3 | 1 |\n",
       "| 4 | 3 | 3 | 3 | 3 | 1 | 2 | 2 | 3 | 2 | 3 | 2 | 3 | 3 | 3 | 3 | 3 |\n",
       "| 5 | 5 | 5 | 5 | 5 | 5 | 5 | 5 | 5 | 5 | 5 | 3 | 5 | 6 | 5 | 5 | 5 |\n",
       "| 6 | 4 | 4 | 4 | 4 | 4 | 4 | 4 | 4 | 4 | 5 | 4 | 5 | 4 | 5 | 4 | 6 |\n",
       "\n"
      ],
      "text/plain": [
       "  QOL_01 QOL_02 QOL_03 QOL_04 QOL_05 QOL_06 QOL_07 QOL_08 QOL_09 QOL_10 QOL_11\n",
       "1 5      5      5      5      5      5      5      5      5      5      5     \n",
       "2 4      5      5      5      4      5      5      3      5      5      5     \n",
       "3 3      3      3      3      3      3      3      2      3      3      1     \n",
       "4 3      3      3      3      1      2      2      3      2      3      2     \n",
       "5 5      5      5      5      5      5      5      5      5      5      3     \n",
       "6 4      4      4      4      4      4      4      4      4      5      4     \n",
       "  QOL_12 QOL_13 QOL_14 QOL_15 QOL_16\n",
       "1 5      5      5      5      5     \n",
       "2 5      5      5      4      4     \n",
       "3 2      2      3      3      1     \n",
       "4 3      3      3      3      3     \n",
       "5 5      6      5      5      5     \n",
       "6 5      4      5      4      6     "
      ]
     },
     "metadata": {},
     "output_type": "display_data"
    }
   ],
   "source": [
    "QOL <- Alila[,grep('QOL', names(Alila))]\n",
    "QOL  %>% head"
   ]
  },
  {
   "cell_type": "raw",
   "id": "3e4c0a2b",
   "metadata": {},
   "source": [
    "corrplot(cor(QOL, use=\"complete.obs\"), order = \"hclust\", method = 'circle', insig='blank',\n",
    "         addCoef.col ='black', number.cex = 0.8) "
   ]
  },
  {
   "cell_type": "raw",
   "id": "1d1c1b57",
   "metadata": {},
   "source": [
    "options(repr.plot.width =5, repr.plot.height = 5, repr.plot.res = 250)\n",
    "\n",
    "plot(princals( QOL %>% as.matrix), main=paste0('QOL ', \" Loadings\"))\n",
    "abline(v=0, lwd=2, col='red', lty='dashed')\n",
    "abline(h=0, lwd=2, col='red', lty='dashed')"
   ]
  },
  {
   "cell_type": "raw",
   "id": "1c7a6fcd",
   "metadata": {},
   "source": [
    "QOL  %>% alpha"
   ]
  },
  {
   "cell_type": "markdown",
   "id": "0f74ed44",
   "metadata": {},
   "source": [
    "# Alpha"
   ]
  },
  {
   "cell_type": "raw",
   "id": "a456f51e",
   "metadata": {},
   "source": [
    "lapply(list(SME, SMC, BFI, QOL), function(x) psych::alpha(x)[[1]][1]  %>% round(3) )"
   ]
  },
  {
   "cell_type": "raw",
   "id": "2550f773",
   "metadata": {},
   "source": [
    "<div class=\"alert-info\">\n",
    "<font color='blue'>\n",
    "<h1 align=\"center\">\n",
    "Part 2"
   ]
  },
  {
   "cell_type": "raw",
   "id": "18af9401",
   "metadata": {},
   "source": [
    "SMC  %>% head\n",
    "SME  %>% head\n",
    "BFI  %>% head\n",
    "QOL  %>% head"
   ]
  },
  {
   "cell_type": "raw",
   "id": "1a313131",
   "metadata": {},
   "source": [
    "Gender  <-  Alila[, 2]"
   ]
  },
  {
   "cell_type": "raw",
   "id": "7be925ba",
   "metadata": {},
   "source": [
    "cbind(QOL, Gender)  %>% gather(Var, Val, -Gender)  %>% ggplot(aes(x=Gender  %>% factor, Val, fill=Gender)) + \n",
    "geom_boxplot() + facet_wrap(Var~.) + theme_minimal() + scale_fill_manual(values=c( \"pink\", \"blue\")) + \n",
    "labs(x='', y='', main='Social Media Consumption by Gender') + theme(axis.title.x=element_blank(),\n",
    "        axis.text.x=element_blank(),\n",
    "        axis.ticks.x=element_blank())"
   ]
  },
  {
   "cell_type": "raw",
   "id": "e1bf4864",
   "metadata": {},
   "source": [
    "clrs5 <- c(\"firebrick4\", \"firebrick1\", \"pink\", 'lightblue',\"blue\", \"darkblue\")\n",
    "options(repr.plot.width =7.5, repr.plot.height = 7.5, repr.plot.res = 250)\n",
    "BFI %>% gather('Vars', 'Val') %>% ggplot(aes(x=Val)) +\n",
    "geom_bar(aes(fill=factor(Val))) +scale_fill_manual(values = clrs5) +\n",
    "facet_wrap(~Vars) + scale_x_discrete(limits=c('1','2','3', '4', '5', '6')) + labs(title='BFI', y='Frekuency', x='') + theme_minimal() + theme(legend.position = \"none\")"
   ]
  },
  {
   "cell_type": "raw",
   "id": "2c1b4888",
   "metadata": {},
   "source": [
    "clrs5 <- c(\"firebrick4\", \"firebrick1\", \"pink\", 'lightblue',\"blue\")\n",
    "options(repr.plot.width =6, repr.plot.height = 4, repr.plot.res = 300)\n",
    "SME %>% gather('Vars', 'Val') %>% ggplot(aes(x=Val)) +\n",
    "geom_bar(aes(fill=factor(Val))) +scale_fill_manual(values = clrs5) +\n",
    "facet_wrap(~Vars) + scale_x_discrete(limits=c('1','2','3', '4', '5')) + labs(title='SME', y='Frekuency', x='') + theme_minimal() + theme(legend.position = \"none\")"
   ]
  },
  {
   "cell_type": "raw",
   "id": "c6a77f2d",
   "metadata": {},
   "source": [
    "clrs5 <- c(\"firebrick4\", \"firebrick1\", \"pink\", 'lightblue',\"blue\", 'darkblue')\n",
    "options(repr.plot.width =6, repr.plot.height = 6, repr.plot.res = 300)\n",
    "SMC %>% gather('Vars', 'Val') %>% ggplot(aes(x=Val)) +\n",
    "geom_bar(aes(fill=factor(Val))) +scale_fill_manual(values = clrs5) +\n",
    "facet_wrap(~Vars) + scale_x_discrete(limits=c('1','2','3', '4', '5', '6')) + labs(title='SMC', y='Frekuency', x='') + theme_minimal() + theme(legend.position = \"none\")"
   ]
  },
  {
   "cell_type": "raw",
   "id": "93186abc",
   "metadata": {},
   "source": [
    "clrs5 <- c(\"firebrick4\", \"firebrick1\", \"pink\", 'lightblue',\"blue\", \"darkblue\")\n",
    "options(repr.plot.width =6, repr.plot.height = 6, repr.plot.res = 300)\n",
    "QOL %>% gather('Vars', 'Val') %>% ggplot(aes(x=Val)) +\n",
    "geom_bar(aes(fill=factor(Val))) +scale_fill_manual(values = clrs5) +\n",
    "facet_wrap(~Vars) + scale_x_discrete(limits=c('1','2','3', '4', '5', '6')) + labs(title='QOL', y='Frekuency', x='') + theme_minimal() + theme(legend.position = \"none\")"
   ]
  },
  {
   "cell_type": "raw",
   "id": "a0487bbf",
   "metadata": {},
   "source": [
    "combined_string <- paste(Alila[, grep('SME_01', names(Alila))], collapse = \"\")\n",
    "components <- str_split(combined_string, \";\", simplify = TRUE)   %>% t\n",
    "comp <- as.data.frame(unclass(components[-length(components), ]), stringsAsFactors = T)   \n",
    "names(comp) <- c('Contents')\n",
    "comp  %>% as.data.frame  %>%  group_by(Contents) %>% summarise(Frequency = n())  %>% \n",
    "mutate(Percentage = round(Frequency / sum(Frequency) * 100 ,2))  %>% arrange(Frequency*-1)"
   ]
  },
  {
   "cell_type": "raw",
   "id": "9eca3cca",
   "metadata": {},
   "source": [
    "combined_string <- paste(Alila[, grep('SME_04', names(Alila))], collapse = \"\")\n",
    "components <- str_split(combined_string, \";\", simplify = TRUE)   %>% t\n",
    "comp <- as.data.frame(unclass(components[-length(components), ]), stringsAsFactors = T)   \n",
    "names(comp) <- c('Contents')\n",
    "comp  %>% as.data.frame  %>%  group_by(Contents) %>% summarise(Frequency = n())  %>% \n",
    "mutate(Percentage = round(Frequency / sum(Frequency) * 100 ,2))  %>% arrange(Frequency*-1)"
   ]
  },
  {
   "cell_type": "code",
   "execution_count": 15,
   "id": "c809f354",
   "metadata": {
    "scrolled": false
   },
   "outputs": [
    {
     "data": {
      "text/html": [
       "<strong>$total</strong> = <table class=\"dataframe\">\n",
       "<caption>A data.frame: 1 × 9</caption>\n",
       "<thead>\n",
       "\t<tr><th></th><th scope=col>raw_alpha</th><th scope=col>std.alpha</th><th scope=col>G6(smc)</th><th scope=col>average_r</th><th scope=col>S/N</th><th scope=col>ase</th><th scope=col>mean</th><th scope=col>sd</th><th scope=col>median_r</th></tr>\n",
       "\t<tr><th></th><th scope=col>&lt;dbl&gt;</th><th scope=col>&lt;dbl&gt;</th><th scope=col>&lt;dbl&gt;</th><th scope=col>&lt;dbl&gt;</th><th scope=col>&lt;dbl&gt;</th><th scope=col>&lt;dbl&gt;</th><th scope=col>&lt;dbl&gt;</th><th scope=col>&lt;dbl&gt;</th><th scope=col>&lt;dbl&gt;</th></tr>\n",
       "</thead>\n",
       "<tbody>\n",
       "\t<tr><th scope=row></th><td>0.6453795</td><td>0.6411103</td><td>0.6343222</td><td>0.2632293</td><td>1.786372</td><td>0.03615257</td><td>3.560369</td><td>0.569353</td><td>0.2286599</td></tr>\n",
       "</tbody>\n",
       "</table>\n"
      ],
      "text/latex": [
       "\\textbf{\\$total} = A data.frame: 1 × 9\n",
       "\\begin{tabular}{r|lllllllll}\n",
       "  & raw\\_alpha & std.alpha & G6(smc) & average\\_r & S/N & ase & mean & sd & median\\_r\\\\\n",
       "  & <dbl> & <dbl> & <dbl> & <dbl> & <dbl> & <dbl> & <dbl> & <dbl> & <dbl>\\\\\n",
       "\\hline\n",
       "\t & 0.6453795 & 0.6411103 & 0.6343222 & 0.2632293 & 1.786372 & 0.03615257 & 3.560369 & 0.569353 & 0.2286599\\\\\n",
       "\\end{tabular}\n"
      ],
      "text/markdown": [
       "**$total** = \n",
       "A data.frame: 1 × 9\n",
       "\n",
       "| <!--/--> | raw_alpha &lt;dbl&gt; | std.alpha &lt;dbl&gt; | G6(smc) &lt;dbl&gt; | average_r &lt;dbl&gt; | S/N &lt;dbl&gt; | ase &lt;dbl&gt; | mean &lt;dbl&gt; | sd &lt;dbl&gt; | median_r &lt;dbl&gt; |\n",
       "|---|---|---|---|---|---|---|---|---|---|\n",
       "| <!----> | 0.6453795 | 0.6411103 | 0.6343222 | 0.2632293 | 1.786372 | 0.03615257 | 3.560369 | 0.569353 | 0.2286599 |\n",
       "\n"
      ],
      "text/plain": [
       "$total\n",
       " raw_alpha std.alpha   G6(smc) average_r      S/N        ase     mean       sd\n",
       " 0.6453795 0.6411103 0.6343222 0.2632293 1.786372 0.03615257 3.560369 0.569353\n",
       "  median_r\n",
       " 0.2286599\n"
      ]
     },
     "metadata": {},
     "output_type": "display_data"
    },
    {
     "data": {
      "text/html": [
       "<strong>$total</strong> = <table class=\"dataframe\">\n",
       "<caption>A data.frame: 1 × 9</caption>\n",
       "<thead>\n",
       "\t<tr><th></th><th scope=col>raw_alpha</th><th scope=col>std.alpha</th><th scope=col>G6(smc)</th><th scope=col>average_r</th><th scope=col>S/N</th><th scope=col>ase</th><th scope=col>mean</th><th scope=col>sd</th><th scope=col>median_r</th></tr>\n",
       "\t<tr><th></th><th scope=col>&lt;dbl&gt;</th><th scope=col>&lt;dbl&gt;</th><th scope=col>&lt;dbl&gt;</th><th scope=col>&lt;dbl&gt;</th><th scope=col>&lt;dbl&gt;</th><th scope=col>&lt;dbl&gt;</th><th scope=col>&lt;dbl&gt;</th><th scope=col>&lt;dbl&gt;</th><th scope=col>&lt;dbl&gt;</th></tr>\n",
       "</thead>\n",
       "<tbody>\n",
       "\t<tr><th scope=row></th><td>0.9084157</td><td>0.9111418</td><td>0.9441473</td><td>0.4227729</td><td>10.25388</td><td>0.009284208</td><td>4.484858</td><td>0.7976523</td><td>0.3983156</td></tr>\n",
       "</tbody>\n",
       "</table>\n"
      ],
      "text/latex": [
       "\\textbf{\\$total} = A data.frame: 1 × 9\n",
       "\\begin{tabular}{r|lllllllll}\n",
       "  & raw\\_alpha & std.alpha & G6(smc) & average\\_r & S/N & ase & mean & sd & median\\_r\\\\\n",
       "  & <dbl> & <dbl> & <dbl> & <dbl> & <dbl> & <dbl> & <dbl> & <dbl> & <dbl>\\\\\n",
       "\\hline\n",
       "\t & 0.9084157 & 0.9111418 & 0.9441473 & 0.4227729 & 10.25388 & 0.009284208 & 4.484858 & 0.7976523 & 0.3983156\\\\\n",
       "\\end{tabular}\n"
      ],
      "text/markdown": [
       "**$total** = \n",
       "A data.frame: 1 × 9\n",
       "\n",
       "| <!--/--> | raw_alpha &lt;dbl&gt; | std.alpha &lt;dbl&gt; | G6(smc) &lt;dbl&gt; | average_r &lt;dbl&gt; | S/N &lt;dbl&gt; | ase &lt;dbl&gt; | mean &lt;dbl&gt; | sd &lt;dbl&gt; | median_r &lt;dbl&gt; |\n",
       "|---|---|---|---|---|---|---|---|---|---|\n",
       "| <!----> | 0.9084157 | 0.9111418 | 0.9441473 | 0.4227729 | 10.25388 | 0.009284208 | 4.484858 | 0.7976523 | 0.3983156 |\n",
       "\n"
      ],
      "text/plain": [
       "$total\n",
       " raw_alpha std.alpha   G6(smc) average_r      S/N         ase     mean\n",
       " 0.9084157 0.9111418 0.9441473 0.4227729 10.25388 0.009284208 4.484858\n",
       "        sd  median_r\n",
       " 0.7976523 0.3983156\n"
      ]
     },
     "metadata": {},
     "output_type": "display_data"
    },
    {
     "name": "stdout",
     "output_type": "stream",
     "text": [
      "Some items ( Agr_6_R Neu_1 Neu_2_R Neu_3 Neu_4 Neu_5_R Neu_7_R Neu_8 Ope_7_R ) were negatively correlated with the total scale and \n",
      "probably should be reversed.  \n",
      "To do this, run the function again with the 'check.keys=TRUE' option"
     ]
    },
    {
     "data": {
      "text/html": [
       "<strong>$total</strong> = <table class=\"dataframe\">\n",
       "<caption>A data.frame: 1 × 9</caption>\n",
       "<thead>\n",
       "\t<tr><th></th><th scope=col>raw_alpha</th><th scope=col>std.alpha</th><th scope=col>G6(smc)</th><th scope=col>average_r</th><th scope=col>S/N</th><th scope=col>ase</th><th scope=col>mean</th><th scope=col>sd</th><th scope=col>median_r</th></tr>\n",
       "\t<tr><th></th><th scope=col>&lt;dbl&gt;</th><th scope=col>&lt;dbl&gt;</th><th scope=col>&lt;dbl&gt;</th><th scope=col>&lt;dbl&gt;</th><th scope=col>&lt;dbl&gt;</th><th scope=col>&lt;dbl&gt;</th><th scope=col>&lt;dbl&gt;</th><th scope=col>&lt;dbl&gt;</th><th scope=col>&lt;dbl&gt;</th></tr>\n",
       "</thead>\n",
       "<tbody>\n",
       "\t<tr><th scope=row></th><td>0.7262069</td><td>0.772648</td><td>0.8961794</td><td>0.07169993</td><td>3.398467</td><td>0.02546011</td><td>3.971198</td><td>0.3303155</td><td>0.06801385</td></tr>\n",
       "</tbody>\n",
       "</table>\n"
      ],
      "text/latex": [
       "\\textbf{\\$total} = A data.frame: 1 × 9\n",
       "\\begin{tabular}{r|lllllllll}\n",
       "  & raw\\_alpha & std.alpha & G6(smc) & average\\_r & S/N & ase & mean & sd & median\\_r\\\\\n",
       "  & <dbl> & <dbl> & <dbl> & <dbl> & <dbl> & <dbl> & <dbl> & <dbl> & <dbl>\\\\\n",
       "\\hline\n",
       "\t & 0.7262069 & 0.772648 & 0.8961794 & 0.07169993 & 3.398467 & 0.02546011 & 3.971198 & 0.3303155 & 0.06801385\\\\\n",
       "\\end{tabular}\n"
      ],
      "text/markdown": [
       "**$total** = \n",
       "A data.frame: 1 × 9\n",
       "\n",
       "| <!--/--> | raw_alpha &lt;dbl&gt; | std.alpha &lt;dbl&gt; | G6(smc) &lt;dbl&gt; | average_r &lt;dbl&gt; | S/N &lt;dbl&gt; | ase &lt;dbl&gt; | mean &lt;dbl&gt; | sd &lt;dbl&gt; | median_r &lt;dbl&gt; |\n",
       "|---|---|---|---|---|---|---|---|---|---|\n",
       "| <!----> | 0.7262069 | 0.772648 | 0.8961794 | 0.07169993 | 3.398467 | 0.02546011 | 3.971198 | 0.3303155 | 0.06801385 |\n",
       "\n"
      ],
      "text/plain": [
       "$total\n",
       " raw_alpha std.alpha   G6(smc)  average_r      S/N        ase     mean\n",
       " 0.7262069  0.772648 0.8961794 0.07169993 3.398467 0.02546011 3.971198\n",
       "        sd   median_r\n",
       " 0.3303155 0.06801385\n"
      ]
     },
     "metadata": {},
     "output_type": "display_data"
    },
    {
     "data": {
      "text/html": [
       "<strong>$total</strong> = <table class=\"dataframe\">\n",
       "<caption>A data.frame: 1 × 9</caption>\n",
       "<thead>\n",
       "\t<tr><th></th><th scope=col>raw_alpha</th><th scope=col>std.alpha</th><th scope=col>G6(smc)</th><th scope=col>average_r</th><th scope=col>S/N</th><th scope=col>ase</th><th scope=col>mean</th><th scope=col>sd</th><th scope=col>median_r</th></tr>\n",
       "\t<tr><th></th><th scope=col>&lt;dbl&gt;</th><th scope=col>&lt;dbl&gt;</th><th scope=col>&lt;dbl&gt;</th><th scope=col>&lt;dbl&gt;</th><th scope=col>&lt;dbl&gt;</th><th scope=col>&lt;dbl&gt;</th><th scope=col>&lt;dbl&gt;</th><th scope=col>&lt;dbl&gt;</th><th scope=col>&lt;dbl&gt;</th></tr>\n",
       "</thead>\n",
       "<tbody>\n",
       "\t<tr><th scope=row></th><td>0.9296634</td><td>0.9336268</td><td>0.947121</td><td>0.4678431</td><td>14.06632</td><td>0.006885147</td><td>4.233871</td><td>0.732477</td><td>0.4979303</td></tr>\n",
       "</tbody>\n",
       "</table>\n"
      ],
      "text/latex": [
       "\\textbf{\\$total} = A data.frame: 1 × 9\n",
       "\\begin{tabular}{r|lllllllll}\n",
       "  & raw\\_alpha & std.alpha & G6(smc) & average\\_r & S/N & ase & mean & sd & median\\_r\\\\\n",
       "  & <dbl> & <dbl> & <dbl> & <dbl> & <dbl> & <dbl> & <dbl> & <dbl> & <dbl>\\\\\n",
       "\\hline\n",
       "\t & 0.9296634 & 0.9336268 & 0.947121 & 0.4678431 & 14.06632 & 0.006885147 & 4.233871 & 0.732477 & 0.4979303\\\\\n",
       "\\end{tabular}\n"
      ],
      "text/markdown": [
       "**$total** = \n",
       "A data.frame: 1 × 9\n",
       "\n",
       "| <!--/--> | raw_alpha &lt;dbl&gt; | std.alpha &lt;dbl&gt; | G6(smc) &lt;dbl&gt; | average_r &lt;dbl&gt; | S/N &lt;dbl&gt; | ase &lt;dbl&gt; | mean &lt;dbl&gt; | sd &lt;dbl&gt; | median_r &lt;dbl&gt; |\n",
       "|---|---|---|---|---|---|---|---|---|---|\n",
       "| <!----> | 0.9296634 | 0.9336268 | 0.947121 | 0.4678431 | 14.06632 | 0.006885147 | 4.233871 | 0.732477 | 0.4979303 |\n",
       "\n"
      ],
      "text/plain": [
       "$total\n",
       " raw_alpha std.alpha  G6(smc) average_r      S/N         ase     mean       sd\n",
       " 0.9296634 0.9336268 0.947121 0.4678431 14.06632 0.006885147 4.233871 0.732477\n",
       "  median_r\n",
       " 0.4979303\n"
      ]
     },
     "metadata": {},
     "output_type": "display_data"
    }
   ],
   "source": [
    "alpha(SME)[1]\n",
    "alpha(SMC)[1]\n",
    "alpha(BFI)[1]\n",
    "alpha(QOL)[1]"
   ]
  },
  {
   "cell_type": "markdown",
   "id": "84ae8bf1",
   "metadata": {},
   "source": [
    "# ---"
   ]
  },
  {
   "cell_type": "markdown",
   "id": "24128d06",
   "metadata": {},
   "source": [
    "# ---"
   ]
  },
  {
   "cell_type": "markdown",
   "id": "955f4ff5",
   "metadata": {},
   "source": [
    "# ---"
   ]
  },
  {
   "cell_type": "code",
   "execution_count": 16,
   "id": "3c9345f0",
   "metadata": {},
   "outputs": [
    {
     "data": {
      "text/html": [
       "<table class=\"dataframe\">\n",
       "<caption>A data.frame: 2 × 5</caption>\n",
       "<thead>\n",
       "\t<tr><th></th><th scope=col>SME_05</th><th scope=col>SME_06</th><th scope=col>SME_07</th><th scope=col>SME_08</th><th scope=col>SME_09</th></tr>\n",
       "\t<tr><th></th><th scope=col>&lt;dbl&gt;</th><th scope=col>&lt;dbl&gt;</th><th scope=col>&lt;dbl&gt;</th><th scope=col>&lt;dbl&gt;</th><th scope=col>&lt;dbl&gt;</th></tr>\n",
       "</thead>\n",
       "<tbody>\n",
       "\t<tr><th scope=row>1</th><td>3</td><td>3</td><td>3</td><td>4</td><td>4</td></tr>\n",
       "\t<tr><th scope=row>2</th><td>4</td><td>4</td><td>5</td><td>5</td><td>4</td></tr>\n",
       "</tbody>\n",
       "</table>\n"
      ],
      "text/latex": [
       "A data.frame: 2 × 5\n",
       "\\begin{tabular}{r|lllll}\n",
       "  & SME\\_05 & SME\\_06 & SME\\_07 & SME\\_08 & SME\\_09\\\\\n",
       "  & <dbl> & <dbl> & <dbl> & <dbl> & <dbl>\\\\\n",
       "\\hline\n",
       "\t1 & 3 & 3 & 3 & 4 & 4\\\\\n",
       "\t2 & 4 & 4 & 5 & 5 & 4\\\\\n",
       "\\end{tabular}\n"
      ],
      "text/markdown": [
       "\n",
       "A data.frame: 2 × 5\n",
       "\n",
       "| <!--/--> | SME_05 &lt;dbl&gt; | SME_06 &lt;dbl&gt; | SME_07 &lt;dbl&gt; | SME_08 &lt;dbl&gt; | SME_09 &lt;dbl&gt; |\n",
       "|---|---|---|---|---|---|\n",
       "| 1 | 3 | 3 | 3 | 4 | 4 |\n",
       "| 2 | 4 | 4 | 5 | 5 | 4 |\n",
       "\n"
      ],
      "text/plain": [
       "  SME_05 SME_06 SME_07 SME_08 SME_09\n",
       "1 3      3      3      4      4     \n",
       "2 4      4      5      5      4     "
      ]
     },
     "metadata": {},
     "output_type": "display_data"
    },
    {
     "data": {
      "text/html": [
       "<table class=\"dataframe\">\n",
       "<caption>A data.frame: 2 × 14</caption>\n",
       "<thead>\n",
       "\t<tr><th></th><th scope=col>SU_01</th><th scope=col>SU_02</th><th scope=col>SU_03</th><th scope=col>SU_04</th><th scope=col>SU_05</th><th scope=col>CU_06</th><th scope=col>CU_07</th><th scope=col>CU_08</th><th scope=col>CU_09</th><th scope=col>CU_10</th><th scope=col>HU_11</th><th scope=col>HU_12</th><th scope=col>HU_13</th><th scope=col>HU_14</th></tr>\n",
       "\t<tr><th></th><th scope=col>&lt;dbl&gt;</th><th scope=col>&lt;dbl&gt;</th><th scope=col>&lt;dbl&gt;</th><th scope=col>&lt;dbl&gt;</th><th scope=col>&lt;dbl&gt;</th><th scope=col>&lt;dbl&gt;</th><th scope=col>&lt;dbl&gt;</th><th scope=col>&lt;dbl&gt;</th><th scope=col>&lt;dbl&gt;</th><th scope=col>&lt;dbl&gt;</th><th scope=col>&lt;dbl&gt;</th><th scope=col>&lt;dbl&gt;</th><th scope=col>&lt;dbl&gt;</th><th scope=col>&lt;dbl&gt;</th></tr>\n",
       "</thead>\n",
       "<tbody>\n",
       "\t<tr><th scope=row>1</th><td>5</td><td>5</td><td>6</td><td>5</td><td>5</td><td>5</td><td>5</td><td>5</td><td>6</td><td>5</td><td>6</td><td>5</td><td>6</td><td>6</td></tr>\n",
       "\t<tr><th scope=row>2</th><td>4</td><td>4</td><td>5</td><td>4</td><td>5</td><td>6</td><td>4</td><td>4</td><td>5</td><td>5</td><td>6</td><td>6</td><td>6</td><td>6</td></tr>\n",
       "</tbody>\n",
       "</table>\n"
      ],
      "text/latex": [
       "A data.frame: 2 × 14\n",
       "\\begin{tabular}{r|llllllllllllll}\n",
       "  & SU\\_01 & SU\\_02 & SU\\_03 & SU\\_04 & SU\\_05 & CU\\_06 & CU\\_07 & CU\\_08 & CU\\_09 & CU\\_10 & HU\\_11 & HU\\_12 & HU\\_13 & HU\\_14\\\\\n",
       "  & <dbl> & <dbl> & <dbl> & <dbl> & <dbl> & <dbl> & <dbl> & <dbl> & <dbl> & <dbl> & <dbl> & <dbl> & <dbl> & <dbl>\\\\\n",
       "\\hline\n",
       "\t1 & 5 & 5 & 6 & 5 & 5 & 5 & 5 & 5 & 6 & 5 & 6 & 5 & 6 & 6\\\\\n",
       "\t2 & 4 & 4 & 5 & 4 & 5 & 6 & 4 & 4 & 5 & 5 & 6 & 6 & 6 & 6\\\\\n",
       "\\end{tabular}\n"
      ],
      "text/markdown": [
       "\n",
       "A data.frame: 2 × 14\n",
       "\n",
       "| <!--/--> | SU_01 &lt;dbl&gt; | SU_02 &lt;dbl&gt; | SU_03 &lt;dbl&gt; | SU_04 &lt;dbl&gt; | SU_05 &lt;dbl&gt; | CU_06 &lt;dbl&gt; | CU_07 &lt;dbl&gt; | CU_08 &lt;dbl&gt; | CU_09 &lt;dbl&gt; | CU_10 &lt;dbl&gt; | HU_11 &lt;dbl&gt; | HU_12 &lt;dbl&gt; | HU_13 &lt;dbl&gt; | HU_14 &lt;dbl&gt; |\n",
       "|---|---|---|---|---|---|---|---|---|---|---|---|---|---|---|\n",
       "| 1 | 5 | 5 | 6 | 5 | 5 | 5 | 5 | 5 | 6 | 5 | 6 | 5 | 6 | 6 |\n",
       "| 2 | 4 | 4 | 5 | 4 | 5 | 6 | 4 | 4 | 5 | 5 | 6 | 6 | 6 | 6 |\n",
       "\n"
      ],
      "text/plain": [
       "  SU_01 SU_02 SU_03 SU_04 SU_05 CU_06 CU_07 CU_08 CU_09 CU_10 HU_11 HU_12 HU_13\n",
       "1 5     5     6     5     5     5     5     5     6     5     6     5     6    \n",
       "2 4     4     5     4     5     6     4     4     5     5     6     6     6    \n",
       "  HU_14\n",
       "1 6    \n",
       "2 6    "
      ]
     },
     "metadata": {},
     "output_type": "display_data"
    },
    {
     "data": {
      "text/html": [
       "<table class=\"dataframe\">\n",
       "<caption>A data.frame: 2 × 44</caption>\n",
       "<thead>\n",
       "\t<tr><th></th><th scope=col>Agr_1_R</th><th scope=col>Agr_2</th><th scope=col>Agr_3_R</th><th scope=col>Agr_4</th><th scope=col>Agr_5</th><th scope=col>Agr_6_R</th><th scope=col>Agr_7</th><th scope=col>Agr_8_R</th><th scope=col>Agr_9</th><th scope=col>Con_1</th><th scope=col>⋯</th><th scope=col>Ope_1</th><th scope=col>Ope_10</th><th scope=col>Ope_2</th><th scope=col>Ope_3</th><th scope=col>Ope_4</th><th scope=col>Ope_5</th><th scope=col>Ope_6</th><th scope=col>Ope_7_R</th><th scope=col>Ope_8</th><th scope=col>Ope_9_R</th></tr>\n",
       "\t<tr><th></th><th scope=col>&lt;dbl&gt;</th><th scope=col>&lt;dbl&gt;</th><th scope=col>&lt;dbl&gt;</th><th scope=col>&lt;dbl&gt;</th><th scope=col>&lt;dbl&gt;</th><th scope=col>&lt;dbl&gt;</th><th scope=col>&lt;dbl&gt;</th><th scope=col>&lt;dbl&gt;</th><th scope=col>&lt;dbl&gt;</th><th scope=col>&lt;dbl&gt;</th><th scope=col>⋯</th><th scope=col>&lt;dbl&gt;</th><th scope=col>&lt;dbl&gt;</th><th scope=col>&lt;dbl&gt;</th><th scope=col>&lt;dbl&gt;</th><th scope=col>&lt;dbl&gt;</th><th scope=col>&lt;dbl&gt;</th><th scope=col>&lt;dbl&gt;</th><th scope=col>&lt;dbl&gt;</th><th scope=col>&lt;dbl&gt;</th><th scope=col>&lt;dbl&gt;</th></tr>\n",
       "</thead>\n",
       "<tbody>\n",
       "\t<tr><th scope=row>1</th><td>6</td><td>5</td><td>6</td><td>5</td><td>5</td><td>2</td><td>4</td><td>5</td><td>5</td><td>5</td><td>⋯</td><td>4</td><td>2</td><td>5</td><td>4</td><td>5</td><td>4</td><td>5</td><td>4</td><td>5</td><td>5</td></tr>\n",
       "\t<tr><th scope=row>2</th><td>5</td><td>4</td><td>6</td><td>5</td><td>3</td><td>2</td><td>5</td><td>6</td><td>5</td><td>5</td><td>⋯</td><td>4</td><td>5</td><td>5</td><td>4</td><td>5</td><td>4</td><td>5</td><td>2</td><td>4</td><td>3</td></tr>\n",
       "</tbody>\n",
       "</table>\n"
      ],
      "text/latex": [
       "A data.frame: 2 × 44\n",
       "\\begin{tabular}{r|lllllllllllllllllllll}\n",
       "  & Agr\\_1\\_R & Agr\\_2 & Agr\\_3\\_R & Agr\\_4 & Agr\\_5 & Agr\\_6\\_R & Agr\\_7 & Agr\\_8\\_R & Agr\\_9 & Con\\_1 & ⋯ & Ope\\_1 & Ope\\_10 & Ope\\_2 & Ope\\_3 & Ope\\_4 & Ope\\_5 & Ope\\_6 & Ope\\_7\\_R & Ope\\_8 & Ope\\_9\\_R\\\\\n",
       "  & <dbl> & <dbl> & <dbl> & <dbl> & <dbl> & <dbl> & <dbl> & <dbl> & <dbl> & <dbl> & ⋯ & <dbl> & <dbl> & <dbl> & <dbl> & <dbl> & <dbl> & <dbl> & <dbl> & <dbl> & <dbl>\\\\\n",
       "\\hline\n",
       "\t1 & 6 & 5 & 6 & 5 & 5 & 2 & 4 & 5 & 5 & 5 & ⋯ & 4 & 2 & 5 & 4 & 5 & 4 & 5 & 4 & 5 & 5\\\\\n",
       "\t2 & 5 & 4 & 6 & 5 & 3 & 2 & 5 & 6 & 5 & 5 & ⋯ & 4 & 5 & 5 & 4 & 5 & 4 & 5 & 2 & 4 & 3\\\\\n",
       "\\end{tabular}\n"
      ],
      "text/markdown": [
       "\n",
       "A data.frame: 2 × 44\n",
       "\n",
       "| <!--/--> | Agr_1_R &lt;dbl&gt; | Agr_2 &lt;dbl&gt; | Agr_3_R &lt;dbl&gt; | Agr_4 &lt;dbl&gt; | Agr_5 &lt;dbl&gt; | Agr_6_R &lt;dbl&gt; | Agr_7 &lt;dbl&gt; | Agr_8_R &lt;dbl&gt; | Agr_9 &lt;dbl&gt; | Con_1 &lt;dbl&gt; | ⋯ ⋯ | Ope_1 &lt;dbl&gt; | Ope_10 &lt;dbl&gt; | Ope_2 &lt;dbl&gt; | Ope_3 &lt;dbl&gt; | Ope_4 &lt;dbl&gt; | Ope_5 &lt;dbl&gt; | Ope_6 &lt;dbl&gt; | Ope_7_R &lt;dbl&gt; | Ope_8 &lt;dbl&gt; | Ope_9_R &lt;dbl&gt; |\n",
       "|---|---|---|---|---|---|---|---|---|---|---|---|---|---|---|---|---|---|---|---|---|---|\n",
       "| 1 | 6 | 5 | 6 | 5 | 5 | 2 | 4 | 5 | 5 | 5 | ⋯ | 4 | 2 | 5 | 4 | 5 | 4 | 5 | 4 | 5 | 5 |\n",
       "| 2 | 5 | 4 | 6 | 5 | 3 | 2 | 5 | 6 | 5 | 5 | ⋯ | 4 | 5 | 5 | 4 | 5 | 4 | 5 | 2 | 4 | 3 |\n",
       "\n"
      ],
      "text/plain": [
       "  Agr_1_R Agr_2 Agr_3_R Agr_4 Agr_5 Agr_6_R Agr_7 Agr_8_R Agr_9 Con_1 ⋯ Ope_1\n",
       "1 6       5     6       5     5     2       4     5       5     5     ⋯ 4    \n",
       "2 5       4     6       5     3     2       5     6       5     5     ⋯ 4    \n",
       "  Ope_10 Ope_2 Ope_3 Ope_4 Ope_5 Ope_6 Ope_7_R Ope_8 Ope_9_R\n",
       "1 2      5     4     5     4     5     4       5     5      \n",
       "2 5      5     4     5     4     5     2       4     3      "
      ]
     },
     "metadata": {},
     "output_type": "display_data"
    },
    {
     "data": {
      "text/html": [
       "<table class=\"dataframe\">\n",
       "<caption>A data.frame: 2 × 16</caption>\n",
       "<thead>\n",
       "\t<tr><th></th><th scope=col>QOL_01</th><th scope=col>QOL_02</th><th scope=col>QOL_03</th><th scope=col>QOL_04</th><th scope=col>QOL_05</th><th scope=col>QOL_06</th><th scope=col>QOL_07</th><th scope=col>QOL_08</th><th scope=col>QOL_09</th><th scope=col>QOL_10</th><th scope=col>QOL_11</th><th scope=col>QOL_12</th><th scope=col>QOL_13</th><th scope=col>QOL_14</th><th scope=col>QOL_15</th><th scope=col>QOL_16</th></tr>\n",
       "\t<tr><th></th><th scope=col>&lt;dbl&gt;</th><th scope=col>&lt;dbl&gt;</th><th scope=col>&lt;dbl&gt;</th><th scope=col>&lt;dbl&gt;</th><th scope=col>&lt;dbl&gt;</th><th scope=col>&lt;dbl&gt;</th><th scope=col>&lt;dbl&gt;</th><th scope=col>&lt;dbl&gt;</th><th scope=col>&lt;dbl&gt;</th><th scope=col>&lt;dbl&gt;</th><th scope=col>&lt;dbl&gt;</th><th scope=col>&lt;dbl&gt;</th><th scope=col>&lt;dbl&gt;</th><th scope=col>&lt;dbl&gt;</th><th scope=col>&lt;dbl&gt;</th><th scope=col>&lt;dbl&gt;</th></tr>\n",
       "</thead>\n",
       "<tbody>\n",
       "\t<tr><th scope=row>1</th><td>5</td><td>5</td><td>5</td><td>5</td><td>5</td><td>5</td><td>5</td><td>5</td><td>5</td><td>5</td><td>5</td><td>5</td><td>5</td><td>5</td><td>5</td><td>5</td></tr>\n",
       "\t<tr><th scope=row>2</th><td>4</td><td>5</td><td>5</td><td>5</td><td>4</td><td>5</td><td>5</td><td>3</td><td>5</td><td>5</td><td>5</td><td>5</td><td>5</td><td>5</td><td>4</td><td>4</td></tr>\n",
       "</tbody>\n",
       "</table>\n"
      ],
      "text/latex": [
       "A data.frame: 2 × 16\n",
       "\\begin{tabular}{r|llllllllllllllll}\n",
       "  & QOL\\_01 & QOL\\_02 & QOL\\_03 & QOL\\_04 & QOL\\_05 & QOL\\_06 & QOL\\_07 & QOL\\_08 & QOL\\_09 & QOL\\_10 & QOL\\_11 & QOL\\_12 & QOL\\_13 & QOL\\_14 & QOL\\_15 & QOL\\_16\\\\\n",
       "  & <dbl> & <dbl> & <dbl> & <dbl> & <dbl> & <dbl> & <dbl> & <dbl> & <dbl> & <dbl> & <dbl> & <dbl> & <dbl> & <dbl> & <dbl> & <dbl>\\\\\n",
       "\\hline\n",
       "\t1 & 5 & 5 & 5 & 5 & 5 & 5 & 5 & 5 & 5 & 5 & 5 & 5 & 5 & 5 & 5 & 5\\\\\n",
       "\t2 & 4 & 5 & 5 & 5 & 4 & 5 & 5 & 3 & 5 & 5 & 5 & 5 & 5 & 5 & 4 & 4\\\\\n",
       "\\end{tabular}\n"
      ],
      "text/markdown": [
       "\n",
       "A data.frame: 2 × 16\n",
       "\n",
       "| <!--/--> | QOL_01 &lt;dbl&gt; | QOL_02 &lt;dbl&gt; | QOL_03 &lt;dbl&gt; | QOL_04 &lt;dbl&gt; | QOL_05 &lt;dbl&gt; | QOL_06 &lt;dbl&gt; | QOL_07 &lt;dbl&gt; | QOL_08 &lt;dbl&gt; | QOL_09 &lt;dbl&gt; | QOL_10 &lt;dbl&gt; | QOL_11 &lt;dbl&gt; | QOL_12 &lt;dbl&gt; | QOL_13 &lt;dbl&gt; | QOL_14 &lt;dbl&gt; | QOL_15 &lt;dbl&gt; | QOL_16 &lt;dbl&gt; |\n",
       "|---|---|---|---|---|---|---|---|---|---|---|---|---|---|---|---|---|\n",
       "| 1 | 5 | 5 | 5 | 5 | 5 | 5 | 5 | 5 | 5 | 5 | 5 | 5 | 5 | 5 | 5 | 5 |\n",
       "| 2 | 4 | 5 | 5 | 5 | 4 | 5 | 5 | 3 | 5 | 5 | 5 | 5 | 5 | 5 | 4 | 4 |\n",
       "\n"
      ],
      "text/plain": [
       "  QOL_01 QOL_02 QOL_03 QOL_04 QOL_05 QOL_06 QOL_07 QOL_08 QOL_09 QOL_10 QOL_11\n",
       "1 5      5      5      5      5      5      5      5      5      5      5     \n",
       "2 4      5      5      5      4      5      5      3      5      5      5     \n",
       "  QOL_12 QOL_13 QOL_14 QOL_15 QOL_16\n",
       "1 5      5      5      5      5     \n",
       "2 5      5      5      4      4     "
      ]
     },
     "metadata": {},
     "output_type": "display_data"
    }
   ],
   "source": [
    "SME  %>% head(2)\n",
    "SMC  %>% head(2)\n",
    "BFI  %>% head(2)\n",
    "QOL  %>% head(2)"
   ]
  },
  {
   "cell_type": "code",
   "execution_count": 17,
   "id": "bf83f04d",
   "metadata": {},
   "outputs": [
    {
     "data": {
      "text/html": [
       "<style>\n",
       ".list-inline {list-style: none; margin:0; padding: 0}\n",
       ".list-inline>li {display: inline-block}\n",
       ".list-inline>li:not(:last-child)::after {content: \"\\00b7\"; padding: 0 .5ex}\n",
       "</style>\n",
       "<ol class=list-inline><li>'SU_01'</li><li>'SU_02'</li><li>'SU_03'</li><li>'SU_04'</li><li>'SU_05'</li><li>'CU_06'</li><li>'CU_07'</li><li>'CU_08'</li><li>'CU_09'</li><li>'CU_10'</li><li>'HU_11'</li><li>'HU_12'</li><li>'HU_13'</li><li>'HU_14'</li></ol>\n"
      ],
      "text/latex": [
       "\\begin{enumerate*}\n",
       "\\item 'SU\\_01'\n",
       "\\item 'SU\\_02'\n",
       "\\item 'SU\\_03'\n",
       "\\item 'SU\\_04'\n",
       "\\item 'SU\\_05'\n",
       "\\item 'CU\\_06'\n",
       "\\item 'CU\\_07'\n",
       "\\item 'CU\\_08'\n",
       "\\item 'CU\\_09'\n",
       "\\item 'CU\\_10'\n",
       "\\item 'HU\\_11'\n",
       "\\item 'HU\\_12'\n",
       "\\item 'HU\\_13'\n",
       "\\item 'HU\\_14'\n",
       "\\end{enumerate*}\n"
      ],
      "text/markdown": [
       "1. 'SU_01'\n",
       "2. 'SU_02'\n",
       "3. 'SU_03'\n",
       "4. 'SU_04'\n",
       "5. 'SU_05'\n",
       "6. 'CU_06'\n",
       "7. 'CU_07'\n",
       "8. 'CU_08'\n",
       "9. 'CU_09'\n",
       "10. 'CU_10'\n",
       "11. 'HU_11'\n",
       "12. 'HU_12'\n",
       "13. 'HU_13'\n",
       "14. 'HU_14'\n",
       "\n",
       "\n"
      ],
      "text/plain": [
       " [1] \"SU_01\" \"SU_02\" \"SU_03\" \"SU_04\" \"SU_05\" \"CU_06\" \"CU_07\" \"CU_08\" \"CU_09\"\n",
       "[10] \"CU_10\" \"HU_11\" \"HU_12\" \"HU_13\" \"HU_14\""
      ]
     },
     "metadata": {},
     "output_type": "display_data"
    }
   ],
   "source": [
    "SMC  %>% names"
   ]
  },
  {
   "cell_type": "code",
   "execution_count": 18,
   "id": "86fd4276",
   "metadata": {},
   "outputs": [
    {
     "data": {
      "text/html": [
       "<table class=\"dataframe\">\n",
       "<caption>A data.frame: 2 × 14</caption>\n",
       "<thead>\n",
       "\t<tr><th></th><th scope=col>SU1</th><th scope=col>SU2</th><th scope=col>SU3</th><th scope=col>SU4</th><th scope=col>SU5</th><th scope=col>CU1</th><th scope=col>CU2</th><th scope=col>CU3</th><th scope=col>CU4</th><th scope=col>CU5</th><th scope=col>HU1</th><th scope=col>HU2</th><th scope=col>HU3</th><th scope=col>HU4</th></tr>\n",
       "\t<tr><th></th><th scope=col>&lt;dbl&gt;</th><th scope=col>&lt;dbl&gt;</th><th scope=col>&lt;dbl&gt;</th><th scope=col>&lt;dbl&gt;</th><th scope=col>&lt;dbl&gt;</th><th scope=col>&lt;dbl&gt;</th><th scope=col>&lt;dbl&gt;</th><th scope=col>&lt;dbl&gt;</th><th scope=col>&lt;dbl&gt;</th><th scope=col>&lt;dbl&gt;</th><th scope=col>&lt;dbl&gt;</th><th scope=col>&lt;dbl&gt;</th><th scope=col>&lt;dbl&gt;</th><th scope=col>&lt;dbl&gt;</th></tr>\n",
       "</thead>\n",
       "<tbody>\n",
       "\t<tr><th scope=row>1</th><td>5</td><td>5</td><td>6</td><td>5</td><td>5</td><td>5</td><td>5</td><td>5</td><td>6</td><td>5</td><td>6</td><td>5</td><td>6</td><td>6</td></tr>\n",
       "\t<tr><th scope=row>2</th><td>4</td><td>4</td><td>5</td><td>4</td><td>5</td><td>6</td><td>4</td><td>4</td><td>5</td><td>5</td><td>6</td><td>6</td><td>6</td><td>6</td></tr>\n",
       "</tbody>\n",
       "</table>\n"
      ],
      "text/latex": [
       "A data.frame: 2 × 14\n",
       "\\begin{tabular}{r|llllllllllllll}\n",
       "  & SU1 & SU2 & SU3 & SU4 & SU5 & CU1 & CU2 & CU3 & CU4 & CU5 & HU1 & HU2 & HU3 & HU4\\\\\n",
       "  & <dbl> & <dbl> & <dbl> & <dbl> & <dbl> & <dbl> & <dbl> & <dbl> & <dbl> & <dbl> & <dbl> & <dbl> & <dbl> & <dbl>\\\\\n",
       "\\hline\n",
       "\t1 & 5 & 5 & 6 & 5 & 5 & 5 & 5 & 5 & 6 & 5 & 6 & 5 & 6 & 6\\\\\n",
       "\t2 & 4 & 4 & 5 & 4 & 5 & 6 & 4 & 4 & 5 & 5 & 6 & 6 & 6 & 6\\\\\n",
       "\\end{tabular}\n"
      ],
      "text/markdown": [
       "\n",
       "A data.frame: 2 × 14\n",
       "\n",
       "| <!--/--> | SU1 &lt;dbl&gt; | SU2 &lt;dbl&gt; | SU3 &lt;dbl&gt; | SU4 &lt;dbl&gt; | SU5 &lt;dbl&gt; | CU1 &lt;dbl&gt; | CU2 &lt;dbl&gt; | CU3 &lt;dbl&gt; | CU4 &lt;dbl&gt; | CU5 &lt;dbl&gt; | HU1 &lt;dbl&gt; | HU2 &lt;dbl&gt; | HU3 &lt;dbl&gt; | HU4 &lt;dbl&gt; |\n",
       "|---|---|---|---|---|---|---|---|---|---|---|---|---|---|---|\n",
       "| 1 | 5 | 5 | 6 | 5 | 5 | 5 | 5 | 5 | 6 | 5 | 6 | 5 | 6 | 6 |\n",
       "| 2 | 4 | 4 | 5 | 4 | 5 | 6 | 4 | 4 | 5 | 5 | 6 | 6 | 6 | 6 |\n",
       "\n"
      ],
      "text/plain": [
       "  SU1 SU2 SU3 SU4 SU5 CU1 CU2 CU3 CU4 CU5 HU1 HU2 HU3 HU4\n",
       "1 5   5   6   5   5   5   5   5   6   5   6   5   6   6  \n",
       "2 4   4   5   4   5   6   4   4   5   5   6   6   6   6  "
      ]
     },
     "metadata": {},
     "output_type": "display_data"
    }
   ],
   "source": [
    "SMC_2 <- SMC\n",
    "names(SMC_2) <- c(paste0('SU', 1:5), paste0('CU', 1:5),paste0('HU', 1:4))\n",
    "SMC_2  %>% head(2)"
   ]
  },
  {
   "cell_type": "code",
   "execution_count": 19,
   "id": "e6eb2891",
   "metadata": {},
   "outputs": [
    {
     "data": {
      "text/html": [
       "<style>\n",
       ".list-inline {list-style: none; margin:0; padding: 0}\n",
       ".list-inline>li {display: inline-block}\n",
       ".list-inline>li:not(:last-child)::after {content: \"\\00b7\"; padding: 0 .5ex}\n",
       "</style>\n",
       "<ol class=list-inline><li>'AGR1'</li><li>'AGR2'</li><li>'AGR3'</li><li>'AGR4'</li><li>'AGR5'</li><li>'AGR6'</li><li>'AGR7'</li><li>'AGR8'</li><li>'AGR9'</li><li>'CON1'</li><li>'CON2'</li><li>'CON3'</li><li>'CON4'</li><li>'CON5'</li><li>'CON6'</li><li>'CON7'</li><li>'CON8'</li><li>'CON9'</li><li>'EXT1'</li><li>'EXT2'</li><li>'EXT3'</li><li>'EXT4'</li><li>'EXT5'</li><li>'EXT6'</li><li>'EXT7'</li><li>'EXT8'</li><li>'NEU1'</li><li>'NEU2'</li><li>'NEU3'</li><li>'NEU4'</li><li>'NEU5'</li><li>'NEU6'</li><li>'NEU7'</li><li>'NEU8'</li><li>'OPE1'</li><li>'OPE10'</li><li>'OPE2'</li><li>'OPE3'</li><li>'OPE4'</li><li>'OPE5'</li><li>'OPE6'</li><li>'OPE7'</li><li>'OPE8'</li><li>'OPE9'</li></ol>\n"
      ],
      "text/latex": [
       "\\begin{enumerate*}\n",
       "\\item 'AGR1'\n",
       "\\item 'AGR2'\n",
       "\\item 'AGR3'\n",
       "\\item 'AGR4'\n",
       "\\item 'AGR5'\n",
       "\\item 'AGR6'\n",
       "\\item 'AGR7'\n",
       "\\item 'AGR8'\n",
       "\\item 'AGR9'\n",
       "\\item 'CON1'\n",
       "\\item 'CON2'\n",
       "\\item 'CON3'\n",
       "\\item 'CON4'\n",
       "\\item 'CON5'\n",
       "\\item 'CON6'\n",
       "\\item 'CON7'\n",
       "\\item 'CON8'\n",
       "\\item 'CON9'\n",
       "\\item 'EXT1'\n",
       "\\item 'EXT2'\n",
       "\\item 'EXT3'\n",
       "\\item 'EXT4'\n",
       "\\item 'EXT5'\n",
       "\\item 'EXT6'\n",
       "\\item 'EXT7'\n",
       "\\item 'EXT8'\n",
       "\\item 'NEU1'\n",
       "\\item 'NEU2'\n",
       "\\item 'NEU3'\n",
       "\\item 'NEU4'\n",
       "\\item 'NEU5'\n",
       "\\item 'NEU6'\n",
       "\\item 'NEU7'\n",
       "\\item 'NEU8'\n",
       "\\item 'OPE1'\n",
       "\\item 'OPE10'\n",
       "\\item 'OPE2'\n",
       "\\item 'OPE3'\n",
       "\\item 'OPE4'\n",
       "\\item 'OPE5'\n",
       "\\item 'OPE6'\n",
       "\\item 'OPE7'\n",
       "\\item 'OPE8'\n",
       "\\item 'OPE9'\n",
       "\\end{enumerate*}\n"
      ],
      "text/markdown": [
       "1. 'AGR1'\n",
       "2. 'AGR2'\n",
       "3. 'AGR3'\n",
       "4. 'AGR4'\n",
       "5. 'AGR5'\n",
       "6. 'AGR6'\n",
       "7. 'AGR7'\n",
       "8. 'AGR8'\n",
       "9. 'AGR9'\n",
       "10. 'CON1'\n",
       "11. 'CON2'\n",
       "12. 'CON3'\n",
       "13. 'CON4'\n",
       "14. 'CON5'\n",
       "15. 'CON6'\n",
       "16. 'CON7'\n",
       "17. 'CON8'\n",
       "18. 'CON9'\n",
       "19. 'EXT1'\n",
       "20. 'EXT2'\n",
       "21. 'EXT3'\n",
       "22. 'EXT4'\n",
       "23. 'EXT5'\n",
       "24. 'EXT6'\n",
       "25. 'EXT7'\n",
       "26. 'EXT8'\n",
       "27. 'NEU1'\n",
       "28. 'NEU2'\n",
       "29. 'NEU3'\n",
       "30. 'NEU4'\n",
       "31. 'NEU5'\n",
       "32. 'NEU6'\n",
       "33. 'NEU7'\n",
       "34. 'NEU8'\n",
       "35. 'OPE1'\n",
       "36. 'OPE10'\n",
       "37. 'OPE2'\n",
       "38. 'OPE3'\n",
       "39. 'OPE4'\n",
       "40. 'OPE5'\n",
       "41. 'OPE6'\n",
       "42. 'OPE7'\n",
       "43. 'OPE8'\n",
       "44. 'OPE9'\n",
       "\n",
       "\n"
      ],
      "text/plain": [
       " [1] \"AGR1\"  \"AGR2\"  \"AGR3\"  \"AGR4\"  \"AGR5\"  \"AGR6\"  \"AGR7\"  \"AGR8\"  \"AGR9\" \n",
       "[10] \"CON1\"  \"CON2\"  \"CON3\"  \"CON4\"  \"CON5\"  \"CON6\"  \"CON7\"  \"CON8\"  \"CON9\" \n",
       "[19] \"EXT1\"  \"EXT2\"  \"EXT3\"  \"EXT4\"  \"EXT5\"  \"EXT6\"  \"EXT7\"  \"EXT8\"  \"NEU1\" \n",
       "[28] \"NEU2\"  \"NEU3\"  \"NEU4\"  \"NEU5\"  \"NEU6\"  \"NEU7\"  \"NEU8\"  \"OPE1\"  \"OPE10\"\n",
       "[37] \"OPE2\"  \"OPE3\"  \"OPE4\"  \"OPE5\"  \"OPE6\"  \"OPE7\"  \"OPE8\"  \"OPE9\" "
      ]
     },
     "metadata": {},
     "output_type": "display_data"
    },
    {
     "data": {
      "text/html": [
       "<table class=\"dataframe\">\n",
       "<caption>A data.frame: 6 × 44</caption>\n",
       "<thead>\n",
       "\t<tr><th></th><th scope=col>AGR1</th><th scope=col>AGR2</th><th scope=col>AGR3</th><th scope=col>AGR4</th><th scope=col>AGR5</th><th scope=col>AGR6</th><th scope=col>AGR7</th><th scope=col>AGR8</th><th scope=col>AGR9</th><th scope=col>CON1</th><th scope=col>⋯</th><th scope=col>OPE1</th><th scope=col>OPE2</th><th scope=col>OPE3</th><th scope=col>OPE4</th><th scope=col>OPE5</th><th scope=col>OPE6</th><th scope=col>OPE7</th><th scope=col>OPE8</th><th scope=col>OPE9</th><th scope=col>OPE10</th></tr>\n",
       "\t<tr><th></th><th scope=col>&lt;dbl&gt;</th><th scope=col>&lt;dbl&gt;</th><th scope=col>&lt;dbl&gt;</th><th scope=col>&lt;dbl&gt;</th><th scope=col>&lt;dbl&gt;</th><th scope=col>&lt;dbl&gt;</th><th scope=col>&lt;dbl&gt;</th><th scope=col>&lt;dbl&gt;</th><th scope=col>&lt;dbl&gt;</th><th scope=col>&lt;dbl&gt;</th><th scope=col>⋯</th><th scope=col>&lt;dbl&gt;</th><th scope=col>&lt;dbl&gt;</th><th scope=col>&lt;dbl&gt;</th><th scope=col>&lt;dbl&gt;</th><th scope=col>&lt;dbl&gt;</th><th scope=col>&lt;dbl&gt;</th><th scope=col>&lt;dbl&gt;</th><th scope=col>&lt;dbl&gt;</th><th scope=col>&lt;dbl&gt;</th><th scope=col>&lt;dbl&gt;</th></tr>\n",
       "</thead>\n",
       "<tbody>\n",
       "\t<tr><th scope=row>1</th><td>6</td><td>5</td><td>6</td><td>5</td><td>5</td><td>2</td><td>4</td><td>5</td><td>5</td><td>5</td><td>⋯</td><td>4</td><td>5</td><td>4</td><td>5</td><td>4</td><td>5</td><td>4</td><td>5</td><td>5</td><td>2</td></tr>\n",
       "\t<tr><th scope=row>2</th><td>5</td><td>4</td><td>6</td><td>5</td><td>3</td><td>2</td><td>5</td><td>6</td><td>5</td><td>5</td><td>⋯</td><td>4</td><td>5</td><td>4</td><td>5</td><td>4</td><td>5</td><td>2</td><td>4</td><td>3</td><td>5</td></tr>\n",
       "\t<tr><th scope=row>3</th><td>5</td><td>1</td><td>5</td><td>1</td><td>3</td><td>5</td><td>3</td><td>5</td><td>1</td><td>3</td><td>⋯</td><td>2</td><td>1</td><td>3</td><td>3</td><td>2</td><td>1</td><td>6</td><td>3</td><td>4</td><td>3</td></tr>\n",
       "\t<tr><th scope=row>4</th><td>6</td><td>5</td><td>6</td><td>4</td><td>3</td><td>3</td><td>4</td><td>6</td><td>4</td><td>4</td><td>⋯</td><td>4</td><td>6</td><td>4</td><td>4</td><td>4</td><td>5</td><td>3</td><td>5</td><td>4</td><td>3</td></tr>\n",
       "\t<tr><th scope=row>5</th><td>5</td><td>6</td><td>6</td><td>5</td><td>2</td><td>3</td><td>6</td><td>6</td><td>6</td><td>6</td><td>⋯</td><td>6</td><td>6</td><td>6</td><td>6</td><td>3</td><td>6</td><td>1</td><td>6</td><td>1</td><td>6</td></tr>\n",
       "\t<tr><th scope=row>6</th><td>6</td><td>4</td><td>3</td><td>4</td><td>4</td><td>2</td><td>4</td><td>1</td><td>4</td><td>5</td><td>⋯</td><td>4</td><td>6</td><td>5</td><td>5</td><td>3</td><td>4</td><td>2</td><td>4</td><td>3</td><td>1</td></tr>\n",
       "</tbody>\n",
       "</table>\n"
      ],
      "text/latex": [
       "A data.frame: 6 × 44\n",
       "\\begin{tabular}{r|lllllllllllllllllllll}\n",
       "  & AGR1 & AGR2 & AGR3 & AGR4 & AGR5 & AGR6 & AGR7 & AGR8 & AGR9 & CON1 & ⋯ & OPE1 & OPE2 & OPE3 & OPE4 & OPE5 & OPE6 & OPE7 & OPE8 & OPE9 & OPE10\\\\\n",
       "  & <dbl> & <dbl> & <dbl> & <dbl> & <dbl> & <dbl> & <dbl> & <dbl> & <dbl> & <dbl> & ⋯ & <dbl> & <dbl> & <dbl> & <dbl> & <dbl> & <dbl> & <dbl> & <dbl> & <dbl> & <dbl>\\\\\n",
       "\\hline\n",
       "\t1 & 6 & 5 & 6 & 5 & 5 & 2 & 4 & 5 & 5 & 5 & ⋯ & 4 & 5 & 4 & 5 & 4 & 5 & 4 & 5 & 5 & 2\\\\\n",
       "\t2 & 5 & 4 & 6 & 5 & 3 & 2 & 5 & 6 & 5 & 5 & ⋯ & 4 & 5 & 4 & 5 & 4 & 5 & 2 & 4 & 3 & 5\\\\\n",
       "\t3 & 5 & 1 & 5 & 1 & 3 & 5 & 3 & 5 & 1 & 3 & ⋯ & 2 & 1 & 3 & 3 & 2 & 1 & 6 & 3 & 4 & 3\\\\\n",
       "\t4 & 6 & 5 & 6 & 4 & 3 & 3 & 4 & 6 & 4 & 4 & ⋯ & 4 & 6 & 4 & 4 & 4 & 5 & 3 & 5 & 4 & 3\\\\\n",
       "\t5 & 5 & 6 & 6 & 5 & 2 & 3 & 6 & 6 & 6 & 6 & ⋯ & 6 & 6 & 6 & 6 & 3 & 6 & 1 & 6 & 1 & 6\\\\\n",
       "\t6 & 6 & 4 & 3 & 4 & 4 & 2 & 4 & 1 & 4 & 5 & ⋯ & 4 & 6 & 5 & 5 & 3 & 4 & 2 & 4 & 3 & 1\\\\\n",
       "\\end{tabular}\n"
      ],
      "text/markdown": [
       "\n",
       "A data.frame: 6 × 44\n",
       "\n",
       "| <!--/--> | AGR1 &lt;dbl&gt; | AGR2 &lt;dbl&gt; | AGR3 &lt;dbl&gt; | AGR4 &lt;dbl&gt; | AGR5 &lt;dbl&gt; | AGR6 &lt;dbl&gt; | AGR7 &lt;dbl&gt; | AGR8 &lt;dbl&gt; | AGR9 &lt;dbl&gt; | CON1 &lt;dbl&gt; | ⋯ ⋯ | OPE1 &lt;dbl&gt; | OPE2 &lt;dbl&gt; | OPE3 &lt;dbl&gt; | OPE4 &lt;dbl&gt; | OPE5 &lt;dbl&gt; | OPE6 &lt;dbl&gt; | OPE7 &lt;dbl&gt; | OPE8 &lt;dbl&gt; | OPE9 &lt;dbl&gt; | OPE10 &lt;dbl&gt; |\n",
       "|---|---|---|---|---|---|---|---|---|---|---|---|---|---|---|---|---|---|---|---|---|---|\n",
       "| 1 | 6 | 5 | 6 | 5 | 5 | 2 | 4 | 5 | 5 | 5 | ⋯ | 4 | 5 | 4 | 5 | 4 | 5 | 4 | 5 | 5 | 2 |\n",
       "| 2 | 5 | 4 | 6 | 5 | 3 | 2 | 5 | 6 | 5 | 5 | ⋯ | 4 | 5 | 4 | 5 | 4 | 5 | 2 | 4 | 3 | 5 |\n",
       "| 3 | 5 | 1 | 5 | 1 | 3 | 5 | 3 | 5 | 1 | 3 | ⋯ | 2 | 1 | 3 | 3 | 2 | 1 | 6 | 3 | 4 | 3 |\n",
       "| 4 | 6 | 5 | 6 | 4 | 3 | 3 | 4 | 6 | 4 | 4 | ⋯ | 4 | 6 | 4 | 4 | 4 | 5 | 3 | 5 | 4 | 3 |\n",
       "| 5 | 5 | 6 | 6 | 5 | 2 | 3 | 6 | 6 | 6 | 6 | ⋯ | 6 | 6 | 6 | 6 | 3 | 6 | 1 | 6 | 1 | 6 |\n",
       "| 6 | 6 | 4 | 3 | 4 | 4 | 2 | 4 | 1 | 4 | 5 | ⋯ | 4 | 6 | 5 | 5 | 3 | 4 | 2 | 4 | 3 | 1 |\n",
       "\n"
      ],
      "text/plain": [
       "  AGR1 AGR2 AGR3 AGR4 AGR5 AGR6 AGR7 AGR8 AGR9 CON1 ⋯ OPE1 OPE2 OPE3 OPE4 OPE5\n",
       "1 6    5    6    5    5    2    4    5    5    5    ⋯ 4    5    4    5    4   \n",
       "2 5    4    6    5    3    2    5    6    5    5    ⋯ 4    5    4    5    4   \n",
       "3 5    1    5    1    3    5    3    5    1    3    ⋯ 2    1    3    3    2   \n",
       "4 6    5    6    4    3    3    4    6    4    4    ⋯ 4    6    4    4    4   \n",
       "5 5    6    6    5    2    3    6    6    6    6    ⋯ 6    6    6    6    3   \n",
       "6 6    4    3    4    4    2    4    1    4    5    ⋯ 4    6    5    5    3   \n",
       "  OPE6 OPE7 OPE8 OPE9 OPE10\n",
       "1 5    4    5    5    2    \n",
       "2 5    2    4    3    5    \n",
       "3 1    6    3    4    3    \n",
       "4 5    3    5    4    3    \n",
       "5 6    1    6    1    6    \n",
       "6 4    2    4    3    1    "
      ]
     },
     "metadata": {},
     "output_type": "display_data"
    }
   ],
   "source": [
    "a <- c(paste0('AGR', 1:9), paste0('CON', 1:9),paste0('EXT', 1:8), paste0('NEU', 1:8))\n",
    "b <-c('OPE1', 'OPE10', paste0('OPE', 2:9))\n",
    "c(a,b)\n",
    "\n",
    "BFI_temp <- BFI\n",
    "names(BFI_temp) <- c(a,b)\n",
    "BFI_2 <- BFI_temp[, -36]\n",
    "BFI_2$OPE10 <- BFI_temp[, 36]\n",
    "BFI_2  %>% head"
   ]
  },
  {
   "cell_type": "code",
   "execution_count": 22,
   "id": "3b6d0fbf",
   "metadata": {},
   "outputs": [
    {
     "data": {
      "text/html": [
       "<style>\n",
       ".list-inline {list-style: none; margin:0; padding: 0}\n",
       ".list-inline>li {display: inline-block}\n",
       ".list-inline>li:not(:last-child)::after {content: \"\\00b7\"; padding: 0 .5ex}\n",
       "</style>\n",
       "<ol class=list-inline><li>1</li><li>1</li></ol>\n"
      ],
      "text/latex": [
       "\\begin{enumerate*}\n",
       "\\item 1\n",
       "\\item 1\n",
       "\\end{enumerate*}\n"
      ],
      "text/markdown": [
       "1. 1\n",
       "2. 1\n",
       "\n",
       "\n"
      ],
      "text/plain": [
       "[1] 1 1"
      ]
     },
     "metadata": {},
     "output_type": "display_data"
    }
   ],
   "source": [
    "Gender <- Alila[, 2]\n",
    "Gender_coded <- ifelse(Gender == 'Female', 1, 0)\n",
    "Gender_coded %>% head(2)"
   ]
  },
  {
   "cell_type": "code",
   "execution_count": 23,
   "id": "cd416ce2",
   "metadata": {},
   "outputs": [
    {
     "data": {
      "text/html": [
       "<table class=\"dataframe\">\n",
       "<caption>A data.frame: 6 × 5</caption>\n",
       "<thead>\n",
       "\t<tr><th></th><th scope=col>SME1</th><th scope=col>SME2</th><th scope=col>SME3</th><th scope=col>SME4</th><th scope=col>SME5</th></tr>\n",
       "\t<tr><th></th><th scope=col>&lt;dbl&gt;</th><th scope=col>&lt;dbl&gt;</th><th scope=col>&lt;dbl&gt;</th><th scope=col>&lt;dbl&gt;</th><th scope=col>&lt;dbl&gt;</th></tr>\n",
       "</thead>\n",
       "<tbody>\n",
       "\t<tr><th scope=row>1</th><td>3</td><td>3</td><td>3</td><td>4</td><td>4</td></tr>\n",
       "\t<tr><th scope=row>2</th><td>4</td><td>4</td><td>5</td><td>5</td><td>4</td></tr>\n",
       "\t<tr><th scope=row>3</th><td>4</td><td>1</td><td>3</td><td>5</td><td>4</td></tr>\n",
       "\t<tr><th scope=row>4</th><td>3</td><td>2</td><td>2</td><td>4</td><td>3</td></tr>\n",
       "\t<tr><th scope=row>5</th><td>5</td><td>1</td><td>5</td><td>5</td><td>3</td></tr>\n",
       "\t<tr><th scope=row>6</th><td>4</td><td>3</td><td>5</td><td>5</td><td>3</td></tr>\n",
       "</tbody>\n",
       "</table>\n"
      ],
      "text/latex": [
       "A data.frame: 6 × 5\n",
       "\\begin{tabular}{r|lllll}\n",
       "  & SME1 & SME2 & SME3 & SME4 & SME5\\\\\n",
       "  & <dbl> & <dbl> & <dbl> & <dbl> & <dbl>\\\\\n",
       "\\hline\n",
       "\t1 & 3 & 3 & 3 & 4 & 4\\\\\n",
       "\t2 & 4 & 4 & 5 & 5 & 4\\\\\n",
       "\t3 & 4 & 1 & 3 & 5 & 4\\\\\n",
       "\t4 & 3 & 2 & 2 & 4 & 3\\\\\n",
       "\t5 & 5 & 1 & 5 & 5 & 3\\\\\n",
       "\t6 & 4 & 3 & 5 & 5 & 3\\\\\n",
       "\\end{tabular}\n"
      ],
      "text/markdown": [
       "\n",
       "A data.frame: 6 × 5\n",
       "\n",
       "| <!--/--> | SME1 &lt;dbl&gt; | SME2 &lt;dbl&gt; | SME3 &lt;dbl&gt; | SME4 &lt;dbl&gt; | SME5 &lt;dbl&gt; |\n",
       "|---|---|---|---|---|---|\n",
       "| 1 | 3 | 3 | 3 | 4 | 4 |\n",
       "| 2 | 4 | 4 | 5 | 5 | 4 |\n",
       "| 3 | 4 | 1 | 3 | 5 | 4 |\n",
       "| 4 | 3 | 2 | 2 | 4 | 3 |\n",
       "| 5 | 5 | 1 | 5 | 5 | 3 |\n",
       "| 6 | 4 | 3 | 5 | 5 | 3 |\n",
       "\n"
      ],
      "text/plain": [
       "  SME1 SME2 SME3 SME4 SME5\n",
       "1 3    3    3    4    4   \n",
       "2 4    4    5    5    4   \n",
       "3 4    1    3    5    4   \n",
       "4 3    2    2    4    3   \n",
       "5 5    1    5    5    3   \n",
       "6 4    3    5    5    3   "
      ]
     },
     "metadata": {},
     "output_type": "display_data"
    }
   ],
   "source": [
    "SME_2 <- SME\n",
    "names(SME_2) <- paste0('SME', 1:5)\n",
    "SME_2  %>% head"
   ]
  },
  {
   "cell_type": "code",
   "execution_count": 24,
   "id": "f024cc29",
   "metadata": {},
   "outputs": [
    {
     "data": {
      "text/html": [
       "<table class=\"dataframe\">\n",
       "<caption>A data.frame: 2 × 16</caption>\n",
       "<thead>\n",
       "\t<tr><th></th><th scope=col>QOL1</th><th scope=col>QOL2</th><th scope=col>QOL3</th><th scope=col>QOL4</th><th scope=col>QOL5</th><th scope=col>QOL6</th><th scope=col>QOL7</th><th scope=col>QOL8</th><th scope=col>QOL9</th><th scope=col>QOL10</th><th scope=col>QOL11</th><th scope=col>QOL12</th><th scope=col>QOL13</th><th scope=col>QOL14</th><th scope=col>QOL15</th><th scope=col>QOL16</th></tr>\n",
       "\t<tr><th></th><th scope=col>&lt;dbl&gt;</th><th scope=col>&lt;dbl&gt;</th><th scope=col>&lt;dbl&gt;</th><th scope=col>&lt;dbl&gt;</th><th scope=col>&lt;dbl&gt;</th><th scope=col>&lt;dbl&gt;</th><th scope=col>&lt;dbl&gt;</th><th scope=col>&lt;dbl&gt;</th><th scope=col>&lt;dbl&gt;</th><th scope=col>&lt;dbl&gt;</th><th scope=col>&lt;dbl&gt;</th><th scope=col>&lt;dbl&gt;</th><th scope=col>&lt;dbl&gt;</th><th scope=col>&lt;dbl&gt;</th><th scope=col>&lt;dbl&gt;</th><th scope=col>&lt;dbl&gt;</th></tr>\n",
       "</thead>\n",
       "<tbody>\n",
       "\t<tr><th scope=row>1</th><td>5</td><td>5</td><td>5</td><td>5</td><td>5</td><td>5</td><td>5</td><td>5</td><td>5</td><td>5</td><td>5</td><td>5</td><td>5</td><td>5</td><td>5</td><td>5</td></tr>\n",
       "\t<tr><th scope=row>2</th><td>4</td><td>5</td><td>5</td><td>5</td><td>4</td><td>5</td><td>5</td><td>3</td><td>5</td><td>5</td><td>5</td><td>5</td><td>5</td><td>5</td><td>4</td><td>4</td></tr>\n",
       "</tbody>\n",
       "</table>\n"
      ],
      "text/latex": [
       "A data.frame: 2 × 16\n",
       "\\begin{tabular}{r|llllllllllllllll}\n",
       "  & QOL1 & QOL2 & QOL3 & QOL4 & QOL5 & QOL6 & QOL7 & QOL8 & QOL9 & QOL10 & QOL11 & QOL12 & QOL13 & QOL14 & QOL15 & QOL16\\\\\n",
       "  & <dbl> & <dbl> & <dbl> & <dbl> & <dbl> & <dbl> & <dbl> & <dbl> & <dbl> & <dbl> & <dbl> & <dbl> & <dbl> & <dbl> & <dbl> & <dbl>\\\\\n",
       "\\hline\n",
       "\t1 & 5 & 5 & 5 & 5 & 5 & 5 & 5 & 5 & 5 & 5 & 5 & 5 & 5 & 5 & 5 & 5\\\\\n",
       "\t2 & 4 & 5 & 5 & 5 & 4 & 5 & 5 & 3 & 5 & 5 & 5 & 5 & 5 & 5 & 4 & 4\\\\\n",
       "\\end{tabular}\n"
      ],
      "text/markdown": [
       "\n",
       "A data.frame: 2 × 16\n",
       "\n",
       "| <!--/--> | QOL1 &lt;dbl&gt; | QOL2 &lt;dbl&gt; | QOL3 &lt;dbl&gt; | QOL4 &lt;dbl&gt; | QOL5 &lt;dbl&gt; | QOL6 &lt;dbl&gt; | QOL7 &lt;dbl&gt; | QOL8 &lt;dbl&gt; | QOL9 &lt;dbl&gt; | QOL10 &lt;dbl&gt; | QOL11 &lt;dbl&gt; | QOL12 &lt;dbl&gt; | QOL13 &lt;dbl&gt; | QOL14 &lt;dbl&gt; | QOL15 &lt;dbl&gt; | QOL16 &lt;dbl&gt; |\n",
       "|---|---|---|---|---|---|---|---|---|---|---|---|---|---|---|---|---|\n",
       "| 1 | 5 | 5 | 5 | 5 | 5 | 5 | 5 | 5 | 5 | 5 | 5 | 5 | 5 | 5 | 5 | 5 |\n",
       "| 2 | 4 | 5 | 5 | 5 | 4 | 5 | 5 | 3 | 5 | 5 | 5 | 5 | 5 | 5 | 4 | 4 |\n",
       "\n"
      ],
      "text/plain": [
       "  QOL1 QOL2 QOL3 QOL4 QOL5 QOL6 QOL7 QOL8 QOL9 QOL10 QOL11 QOL12 QOL13 QOL14\n",
       "1 5    5    5    5    5    5    5    5    5    5     5     5     5     5    \n",
       "2 4    5    5    5    4    5    5    3    5    5     5     5     5     5    \n",
       "  QOL15 QOL16\n",
       "1 5     5    \n",
       "2 4     4    "
      ]
     },
     "metadata": {},
     "output_type": "display_data"
    }
   ],
   "source": [
    "QOL_2 <- QOL\n",
    "names(QOL_2) <- paste0('QOL', 1:16)\n",
    "QOL_2  %>% head(2)"
   ]
  },
  {
   "cell_type": "code",
   "execution_count": 25,
   "id": "708d957c",
   "metadata": {},
   "outputs": [
    {
     "data": {
      "text/html": [
       "<table class=\"dataframe\">\n",
       "<caption>A data.frame: 2 × 79</caption>\n",
       "<thead>\n",
       "\t<tr><th></th><th scope=col>SME1</th><th scope=col>SME2</th><th scope=col>SME3</th><th scope=col>SME4</th><th scope=col>SME5</th><th scope=col>SU1</th><th scope=col>SU2</th><th scope=col>SU3</th><th scope=col>SU4</th><th scope=col>SU5</th><th scope=col>⋯</th><th scope=col>QOL7</th><th scope=col>QOL8</th><th scope=col>QOL9</th><th scope=col>QOL10</th><th scope=col>QOL11</th><th scope=col>QOL12</th><th scope=col>QOL13</th><th scope=col>QOL14</th><th scope=col>QOL15</th><th scope=col>QOL16</th></tr>\n",
       "\t<tr><th></th><th scope=col>&lt;dbl&gt;</th><th scope=col>&lt;dbl&gt;</th><th scope=col>&lt;dbl&gt;</th><th scope=col>&lt;dbl&gt;</th><th scope=col>&lt;dbl&gt;</th><th scope=col>&lt;dbl&gt;</th><th scope=col>&lt;dbl&gt;</th><th scope=col>&lt;dbl&gt;</th><th scope=col>&lt;dbl&gt;</th><th scope=col>&lt;dbl&gt;</th><th scope=col>⋯</th><th scope=col>&lt;dbl&gt;</th><th scope=col>&lt;dbl&gt;</th><th scope=col>&lt;dbl&gt;</th><th scope=col>&lt;dbl&gt;</th><th scope=col>&lt;dbl&gt;</th><th scope=col>&lt;dbl&gt;</th><th scope=col>&lt;dbl&gt;</th><th scope=col>&lt;dbl&gt;</th><th scope=col>&lt;dbl&gt;</th><th scope=col>&lt;dbl&gt;</th></tr>\n",
       "</thead>\n",
       "<tbody>\n",
       "\t<tr><th scope=row>1</th><td>3</td><td>3</td><td>3</td><td>4</td><td>4</td><td>5</td><td>5</td><td>6</td><td>5</td><td>5</td><td>⋯</td><td>5</td><td>5</td><td>5</td><td>5</td><td>5</td><td>5</td><td>5</td><td>5</td><td>5</td><td>5</td></tr>\n",
       "\t<tr><th scope=row>2</th><td>4</td><td>4</td><td>5</td><td>5</td><td>4</td><td>4</td><td>4</td><td>5</td><td>4</td><td>5</td><td>⋯</td><td>5</td><td>3</td><td>5</td><td>5</td><td>5</td><td>5</td><td>5</td><td>5</td><td>4</td><td>4</td></tr>\n",
       "</tbody>\n",
       "</table>\n"
      ],
      "text/latex": [
       "A data.frame: 2 × 79\n",
       "\\begin{tabular}{r|lllllllllllllllllllll}\n",
       "  & SME1 & SME2 & SME3 & SME4 & SME5 & SU1 & SU2 & SU3 & SU4 & SU5 & ⋯ & QOL7 & QOL8 & QOL9 & QOL10 & QOL11 & QOL12 & QOL13 & QOL14 & QOL15 & QOL16\\\\\n",
       "  & <dbl> & <dbl> & <dbl> & <dbl> & <dbl> & <dbl> & <dbl> & <dbl> & <dbl> & <dbl> & ⋯ & <dbl> & <dbl> & <dbl> & <dbl> & <dbl> & <dbl> & <dbl> & <dbl> & <dbl> & <dbl>\\\\\n",
       "\\hline\n",
       "\t1 & 3 & 3 & 3 & 4 & 4 & 5 & 5 & 6 & 5 & 5 & ⋯ & 5 & 5 & 5 & 5 & 5 & 5 & 5 & 5 & 5 & 5\\\\\n",
       "\t2 & 4 & 4 & 5 & 5 & 4 & 4 & 4 & 5 & 4 & 5 & ⋯ & 5 & 3 & 5 & 5 & 5 & 5 & 5 & 5 & 4 & 4\\\\\n",
       "\\end{tabular}\n"
      ],
      "text/markdown": [
       "\n",
       "A data.frame: 2 × 79\n",
       "\n",
       "| <!--/--> | SME1 &lt;dbl&gt; | SME2 &lt;dbl&gt; | SME3 &lt;dbl&gt; | SME4 &lt;dbl&gt; | SME5 &lt;dbl&gt; | SU1 &lt;dbl&gt; | SU2 &lt;dbl&gt; | SU3 &lt;dbl&gt; | SU4 &lt;dbl&gt; | SU5 &lt;dbl&gt; | ⋯ ⋯ | QOL7 &lt;dbl&gt; | QOL8 &lt;dbl&gt; | QOL9 &lt;dbl&gt; | QOL10 &lt;dbl&gt; | QOL11 &lt;dbl&gt; | QOL12 &lt;dbl&gt; | QOL13 &lt;dbl&gt; | QOL14 &lt;dbl&gt; | QOL15 &lt;dbl&gt; | QOL16 &lt;dbl&gt; |\n",
       "|---|---|---|---|---|---|---|---|---|---|---|---|---|---|---|---|---|---|---|---|---|---|\n",
       "| 1 | 3 | 3 | 3 | 4 | 4 | 5 | 5 | 6 | 5 | 5 | ⋯ | 5 | 5 | 5 | 5 | 5 | 5 | 5 | 5 | 5 | 5 |\n",
       "| 2 | 4 | 4 | 5 | 5 | 4 | 4 | 4 | 5 | 4 | 5 | ⋯ | 5 | 3 | 5 | 5 | 5 | 5 | 5 | 5 | 4 | 4 |\n",
       "\n"
      ],
      "text/plain": [
       "  SME1 SME2 SME3 SME4 SME5 SU1 SU2 SU3 SU4 SU5 ⋯ QOL7 QOL8 QOL9 QOL10 QOL11\n",
       "1 3    3    3    4    4    5   5   6   5   5   ⋯ 5    5    5    5     5    \n",
       "2 4    4    5    5    4    4   4   5   4   5   ⋯ 5    3    5    5     5    \n",
       "  QOL12 QOL13 QOL14 QOL15 QOL16\n",
       "1 5     5     5     5     5    \n",
       "2 5     5     5     4     4    "
      ]
     },
     "metadata": {},
     "output_type": "display_data"
    }
   ],
   "source": [
    "UGT <- cbind(SME_2, SMC_2, BFI_2, QOL_2)\n",
    "UGT  %>% head(2)"
   ]
  },
  {
   "cell_type": "code",
   "execution_count": 26,
   "id": "58a84365",
   "metadata": {},
   "outputs": [
    {
     "data": {
      "text/html": [
       "<style>\n",
       ".list-inline {list-style: none; margin:0; padding: 0}\n",
       ".list-inline>li {display: inline-block}\n",
       ".list-inline>li:not(:last-child)::after {content: \"\\00b7\"; padding: 0 .5ex}\n",
       "</style>\n",
       "<ol class=list-inline><li>'SME1'</li><li>'SME2'</li><li>'SME3'</li><li>'SME4'</li><li>'SME5'</li><li>'SU1'</li><li>'SU2'</li><li>'SU3'</li><li>'SU4'</li><li>'SU5'</li><li>'CU1'</li><li>'CU2'</li><li>'CU3'</li><li>'CU4'</li><li>'CU5'</li><li>'HU1'</li><li>'HU2'</li><li>'HU3'</li><li>'HU4'</li><li>'AGR1'</li><li>'AGR2'</li><li>'AGR3'</li><li>'AGR4'</li><li>'AGR5'</li><li>'AGR6'</li><li>'AGR7'</li><li>'AGR8'</li><li>'AGR9'</li><li>'CON1'</li><li>'CON2'</li><li>'CON3'</li><li>'CON4'</li><li>'CON5'</li><li>'CON6'</li><li>'CON7'</li><li>'CON8'</li><li>'CON9'</li><li>'EXT1'</li><li>'EXT2'</li><li>'EXT3'</li><li>'EXT4'</li><li>'EXT5'</li><li>'EXT6'</li><li>'EXT7'</li><li>'EXT8'</li><li>'NEU1'</li><li>'NEU2'</li><li>'NEU3'</li><li>'NEU4'</li><li>'NEU5'</li><li>'NEU6'</li><li>'NEU7'</li><li>'NEU8'</li><li>'OPE1'</li><li>'OPE2'</li><li>'OPE3'</li><li>'OPE4'</li><li>'OPE5'</li><li>'OPE6'</li><li>'OPE7'</li><li>'OPE8'</li><li>'OPE9'</li><li>'OPE10'</li><li>'QOL1'</li><li>'QOL2'</li><li>'QOL3'</li><li>'QOL4'</li><li>'QOL5'</li><li>'QOL6'</li><li>'QOL7'</li><li>'QOL8'</li><li>'QOL9'</li><li>'QOL10'</li><li>'QOL11'</li><li>'QOL12'</li><li>'QOL13'</li><li>'QOL14'</li><li>'QOL15'</li><li>'QOL16'</li></ol>\n"
      ],
      "text/latex": [
       "\\begin{enumerate*}\n",
       "\\item 'SME1'\n",
       "\\item 'SME2'\n",
       "\\item 'SME3'\n",
       "\\item 'SME4'\n",
       "\\item 'SME5'\n",
       "\\item 'SU1'\n",
       "\\item 'SU2'\n",
       "\\item 'SU3'\n",
       "\\item 'SU4'\n",
       "\\item 'SU5'\n",
       "\\item 'CU1'\n",
       "\\item 'CU2'\n",
       "\\item 'CU3'\n",
       "\\item 'CU4'\n",
       "\\item 'CU5'\n",
       "\\item 'HU1'\n",
       "\\item 'HU2'\n",
       "\\item 'HU3'\n",
       "\\item 'HU4'\n",
       "\\item 'AGR1'\n",
       "\\item 'AGR2'\n",
       "\\item 'AGR3'\n",
       "\\item 'AGR4'\n",
       "\\item 'AGR5'\n",
       "\\item 'AGR6'\n",
       "\\item 'AGR7'\n",
       "\\item 'AGR8'\n",
       "\\item 'AGR9'\n",
       "\\item 'CON1'\n",
       "\\item 'CON2'\n",
       "\\item 'CON3'\n",
       "\\item 'CON4'\n",
       "\\item 'CON5'\n",
       "\\item 'CON6'\n",
       "\\item 'CON7'\n",
       "\\item 'CON8'\n",
       "\\item 'CON9'\n",
       "\\item 'EXT1'\n",
       "\\item 'EXT2'\n",
       "\\item 'EXT3'\n",
       "\\item 'EXT4'\n",
       "\\item 'EXT5'\n",
       "\\item 'EXT6'\n",
       "\\item 'EXT7'\n",
       "\\item 'EXT8'\n",
       "\\item 'NEU1'\n",
       "\\item 'NEU2'\n",
       "\\item 'NEU3'\n",
       "\\item 'NEU4'\n",
       "\\item 'NEU5'\n",
       "\\item 'NEU6'\n",
       "\\item 'NEU7'\n",
       "\\item 'NEU8'\n",
       "\\item 'OPE1'\n",
       "\\item 'OPE2'\n",
       "\\item 'OPE3'\n",
       "\\item 'OPE4'\n",
       "\\item 'OPE5'\n",
       "\\item 'OPE6'\n",
       "\\item 'OPE7'\n",
       "\\item 'OPE8'\n",
       "\\item 'OPE9'\n",
       "\\item 'OPE10'\n",
       "\\item 'QOL1'\n",
       "\\item 'QOL2'\n",
       "\\item 'QOL3'\n",
       "\\item 'QOL4'\n",
       "\\item 'QOL5'\n",
       "\\item 'QOL6'\n",
       "\\item 'QOL7'\n",
       "\\item 'QOL8'\n",
       "\\item 'QOL9'\n",
       "\\item 'QOL10'\n",
       "\\item 'QOL11'\n",
       "\\item 'QOL12'\n",
       "\\item 'QOL13'\n",
       "\\item 'QOL14'\n",
       "\\item 'QOL15'\n",
       "\\item 'QOL16'\n",
       "\\end{enumerate*}\n"
      ],
      "text/markdown": [
       "1. 'SME1'\n",
       "2. 'SME2'\n",
       "3. 'SME3'\n",
       "4. 'SME4'\n",
       "5. 'SME5'\n",
       "6. 'SU1'\n",
       "7. 'SU2'\n",
       "8. 'SU3'\n",
       "9. 'SU4'\n",
       "10. 'SU5'\n",
       "11. 'CU1'\n",
       "12. 'CU2'\n",
       "13. 'CU3'\n",
       "14. 'CU4'\n",
       "15. 'CU5'\n",
       "16. 'HU1'\n",
       "17. 'HU2'\n",
       "18. 'HU3'\n",
       "19. 'HU4'\n",
       "20. 'AGR1'\n",
       "21. 'AGR2'\n",
       "22. 'AGR3'\n",
       "23. 'AGR4'\n",
       "24. 'AGR5'\n",
       "25. 'AGR6'\n",
       "26. 'AGR7'\n",
       "27. 'AGR8'\n",
       "28. 'AGR9'\n",
       "29. 'CON1'\n",
       "30. 'CON2'\n",
       "31. 'CON3'\n",
       "32. 'CON4'\n",
       "33. 'CON5'\n",
       "34. 'CON6'\n",
       "35. 'CON7'\n",
       "36. 'CON8'\n",
       "37. 'CON9'\n",
       "38. 'EXT1'\n",
       "39. 'EXT2'\n",
       "40. 'EXT3'\n",
       "41. 'EXT4'\n",
       "42. 'EXT5'\n",
       "43. 'EXT6'\n",
       "44. 'EXT7'\n",
       "45. 'EXT8'\n",
       "46. 'NEU1'\n",
       "47. 'NEU2'\n",
       "48. 'NEU3'\n",
       "49. 'NEU4'\n",
       "50. 'NEU5'\n",
       "51. 'NEU6'\n",
       "52. 'NEU7'\n",
       "53. 'NEU8'\n",
       "54. 'OPE1'\n",
       "55. 'OPE2'\n",
       "56. 'OPE3'\n",
       "57. 'OPE4'\n",
       "58. 'OPE5'\n",
       "59. 'OPE6'\n",
       "60. 'OPE7'\n",
       "61. 'OPE8'\n",
       "62. 'OPE9'\n",
       "63. 'OPE10'\n",
       "64. 'QOL1'\n",
       "65. 'QOL2'\n",
       "66. 'QOL3'\n",
       "67. 'QOL4'\n",
       "68. 'QOL5'\n",
       "69. 'QOL6'\n",
       "70. 'QOL7'\n",
       "71. 'QOL8'\n",
       "72. 'QOL9'\n",
       "73. 'QOL10'\n",
       "74. 'QOL11'\n",
       "75. 'QOL12'\n",
       "76. 'QOL13'\n",
       "77. 'QOL14'\n",
       "78. 'QOL15'\n",
       "79. 'QOL16'\n",
       "\n",
       "\n"
      ],
      "text/plain": [
       " [1] \"SME1\"  \"SME2\"  \"SME3\"  \"SME4\"  \"SME5\"  \"SU1\"   \"SU2\"   \"SU3\"   \"SU4\"  \n",
       "[10] \"SU5\"   \"CU1\"   \"CU2\"   \"CU3\"   \"CU4\"   \"CU5\"   \"HU1\"   \"HU2\"   \"HU3\"  \n",
       "[19] \"HU4\"   \"AGR1\"  \"AGR2\"  \"AGR3\"  \"AGR4\"  \"AGR5\"  \"AGR6\"  \"AGR7\"  \"AGR8\" \n",
       "[28] \"AGR9\"  \"CON1\"  \"CON2\"  \"CON3\"  \"CON4\"  \"CON5\"  \"CON6\"  \"CON7\"  \"CON8\" \n",
       "[37] \"CON9\"  \"EXT1\"  \"EXT2\"  \"EXT3\"  \"EXT4\"  \"EXT5\"  \"EXT6\"  \"EXT7\"  \"EXT8\" \n",
       "[46] \"NEU1\"  \"NEU2\"  \"NEU3\"  \"NEU4\"  \"NEU5\"  \"NEU6\"  \"NEU7\"  \"NEU8\"  \"OPE1\" \n",
       "[55] \"OPE2\"  \"OPE3\"  \"OPE4\"  \"OPE5\"  \"OPE6\"  \"OPE7\"  \"OPE8\"  \"OPE9\"  \"OPE10\"\n",
       "[64] \"QOL1\"  \"QOL2\"  \"QOL3\"  \"QOL4\"  \"QOL5\"  \"QOL6\"  \"QOL7\"  \"QOL8\"  \"QOL9\" \n",
       "[73] \"QOL10\" \"QOL11\" \"QOL12\" \"QOL13\" \"QOL14\" \"QOL15\" \"QOL16\""
      ]
     },
     "metadata": {},
     "output_type": "display_data"
    }
   ],
   "source": [
    "names(UGT)"
   ]
  },
  {
   "cell_type": "code",
   "execution_count": 27,
   "id": "0060052d",
   "metadata": {},
   "outputs": [],
   "source": [
    "# Load the SEMinR library\n",
    "library(seminr)\n",
    "#\n",
    "# Create the measurement model\n",
    "UGT_mm_model <- constructs(\n",
    " composite('AGR', multi_items('AGR', 1:9), weights = mode_A),\n",
    " composite('CON', multi_items('CON', 1:9), weights = mode_A),\n",
    " composite('EXT', multi_items('EXT', 1:8), weights = mode_A),\n",
    " composite('NEU', multi_items('NEU', 1:8), weights = mode_A),\n",
    " composite('OPE', multi_items('OPE', 1:10), weights = mode_A),\n",
    " composite('QOL', multi_items('QOL', 1:16), weights = mode_A)\n",
    ")"
   ]
  },
  {
   "cell_type": "code",
   "execution_count": 28,
   "id": "94a6ed39",
   "metadata": {},
   "outputs": [],
   "source": [
    "# Create the structural model\n",
    "UGT_sm_mod <- relationships(\n",
    " paths(from = c('AGR', 'CON','EXT', 'NEU', 'OPE'), to = 'QOL'))\n",
    "    "
   ]
  },
  {
   "cell_type": "code",
   "execution_count": 29,
   "id": "ecab7cda",
   "metadata": {},
   "outputs": [
    {
     "name": "stderr",
     "output_type": "stream",
     "text": [
      "Generating the seminr model\n",
      "\n",
      "All 217 observations are valid.\n",
      "\n"
     ]
    }
   ],
   "source": [
    "simple_pls <- estimate_pls(\n",
    "  data = UGT,\n",
    "  measurement_model = UGT_mm_model,\n",
    "  structural_model = UGT_sm_mod)"
   ]
  },
  {
   "cell_type": "code",
   "execution_count": 30,
   "id": "b5eb0806",
   "metadata": {},
   "outputs": [
    {
     "data": {
      "text/plain": [
       "NULL"
      ]
     },
     "metadata": {},
     "output_type": "display_data"
    }
   ],
   "source": [
    "plot(simple_pls)"
   ]
  },
  {
   "cell_type": "code",
   "execution_count": null,
   "id": "dd2ba85c",
   "metadata": {},
   "outputs": [],
   "source": []
  }
 ],
 "metadata": {
  "kernelspec": {
   "display_name": "R",
   "language": "R",
   "name": "ir"
  },
  "language_info": {
   "codemirror_mode": "r",
   "file_extension": ".r",
   "mimetype": "text/x-r-source",
   "name": "R",
   "pygments_lexer": "r",
   "version": "4.3.1"
  }
 },
 "nbformat": 4,
 "nbformat_minor": 5
}
